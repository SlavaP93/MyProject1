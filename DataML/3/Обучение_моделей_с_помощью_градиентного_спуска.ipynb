{
 "nbformat": 4,
 "nbformat_minor": 0,
 "metadata": {
  "celltoolbar": "Slideshow",
  "kernelspec": {
   "display_name": "Python 3",
   "language": "python",
   "name": "python3"
  },
  "language_info": {
   "codemirror_mode": {
    "name": "ipython",
    "version": 3
   },
   "file_extension": ".py",
   "mimetype": "text/x-python",
   "name": "python",
   "nbconvert_exporter": "python",
   "pygments_lexer": "ipython3",
   "version": "3.6.3"
  },
  "colab": {
   "provenance": []
  }
 },
 "cells": [
  {
   "cell_type": "markdown",
   "metadata": {
    "id": "v-NXKgCJvkYV"
   },
   "source": [
    "# Обучение моделей с помощью градиентного спуска\n",
    "\n",
    "Мы помним, что в случае многомерной линейной регрессии (когда количество фичей $m$) аналитическое решение имеет вид\n",
    "$$\n",
    "\\overline{w} = \\left(X^TX\\right)^{-1}X^T\\overline{y}\n",
    "$$\n",
    "\n",
    "Где $X$ - т.н. матрица объекты-признаки размерности *количество объектов* x *количество признаков*.\n",
    "\n",
    "У аналитического решения есть ряд недостатков\n",
    "* Вычислительная сложность из-за матричного перемножения $O(n^3)$, где $n$ - размерность матрицы. При увеличении размерности матрицы в 10 раз сложность вычислений увеличивается в $10^3=1000$ раз\n",
    "* Неустойчивость вычислений - пытаемся найти обратную матрицу, которая может не существовать, в этом случае в алгоритме нахождения обратной матрицы возникает деление на ноль"
   ]
  },
  {
   "cell_type": "markdown",
   "metadata": {
    "id": "VjJxr0QCvkYW"
   },
   "source": [
    "С неустойчивостью вычислений, например, связано предупреждение **LinAlgWarning:** которое мы видели в первом уроке. Пример такой матрицы:\n",
    "$$\n",
    "X^TX =\n",
    "\\left[\n",
    "\\begin{array}{cc}\n",
    "2 & 1 \\\\\n",
    "4 & 2\n",
    "\\end{array}\n",
    "\\right]\n",
    "$$\n",
    "\n",
    "Допустим, хотим вычислить коэффициенты аналитически. Если попытаемся найти обратную матрицу $(X^TX)^{-1}$, мы получим сообщение об ошибке:"
   ]
  },
  {
   "cell_type": "code",
   "metadata": {
    "id": "McVDD1yWvkYW",
    "outputId": "595f6167-00d2-45d2-f0bb-667598924a2d",
    "ExecuteTime": {
     "end_time": "2024-06-22T10:53:21.697990Z",
     "start_time": "2024-06-22T10:53:19.633518Z"
    }
   },
   "source": [
    "import numpy as np\n",
    "# матрица из примера\n",
    "X = np.array([[2,1],[4,2]])\n",
    "# пытаемся найти обратную\n",
    "np.linalg.inv(X)"
   ],
   "execution_count": 3,
   "outputs": [
    {
     "ename": "LinAlgError",
     "evalue": "Singular matrix",
     "output_type": "error",
     "traceback": [
      "\u001B[1;31m---------------------------------------------------------------------------\u001B[0m",
      "\u001B[1;31mLinAlgError\u001B[0m                               Traceback (most recent call last)",
      "Cell \u001B[1;32mIn[3], line 5\u001B[0m\n\u001B[0;32m      3\u001B[0m X \u001B[38;5;241m=\u001B[39m np\u001B[38;5;241m.\u001B[39marray([[\u001B[38;5;241m2\u001B[39m,\u001B[38;5;241m1\u001B[39m],[\u001B[38;5;241m4\u001B[39m,\u001B[38;5;241m2\u001B[39m]])\n\u001B[0;32m      4\u001B[0m \u001B[38;5;66;03m# пытаемся найти обратную\u001B[39;00m\n\u001B[1;32m----> 5\u001B[0m np\u001B[38;5;241m.\u001B[39mlinalg\u001B[38;5;241m.\u001B[39minv(X)\n",
      "File \u001B[1;32mC:\\ProgramData\\anaconda3\\Lib\\site-packages\\numpy\\linalg\\linalg.py:561\u001B[0m, in \u001B[0;36minv\u001B[1;34m(a)\u001B[0m\n\u001B[0;32m    559\u001B[0m signature \u001B[38;5;241m=\u001B[39m \u001B[38;5;124m'\u001B[39m\u001B[38;5;124mD->D\u001B[39m\u001B[38;5;124m'\u001B[39m \u001B[38;5;28;01mif\u001B[39;00m isComplexType(t) \u001B[38;5;28;01melse\u001B[39;00m \u001B[38;5;124m'\u001B[39m\u001B[38;5;124md->d\u001B[39m\u001B[38;5;124m'\u001B[39m\n\u001B[0;32m    560\u001B[0m extobj \u001B[38;5;241m=\u001B[39m get_linalg_error_extobj(_raise_linalgerror_singular)\n\u001B[1;32m--> 561\u001B[0m ainv \u001B[38;5;241m=\u001B[39m _umath_linalg\u001B[38;5;241m.\u001B[39minv(a, signature\u001B[38;5;241m=\u001B[39msignature, extobj\u001B[38;5;241m=\u001B[39mextobj)\n\u001B[0;32m    562\u001B[0m \u001B[38;5;28;01mreturn\u001B[39;00m wrap(ainv\u001B[38;5;241m.\u001B[39mastype(result_t, copy\u001B[38;5;241m=\u001B[39m\u001B[38;5;28;01mFalse\u001B[39;00m))\n",
      "File \u001B[1;32mC:\\ProgramData\\anaconda3\\Lib\\site-packages\\numpy\\linalg\\linalg.py:112\u001B[0m, in \u001B[0;36m_raise_linalgerror_singular\u001B[1;34m(err, flag)\u001B[0m\n\u001B[0;32m    111\u001B[0m \u001B[38;5;28;01mdef\u001B[39;00m \u001B[38;5;21m_raise_linalgerror_singular\u001B[39m(err, flag):\n\u001B[1;32m--> 112\u001B[0m     \u001B[38;5;28;01mraise\u001B[39;00m LinAlgError(\u001B[38;5;124m\"\u001B[39m\u001B[38;5;124mSingular matrix\u001B[39m\u001B[38;5;124m\"\u001B[39m)\n",
      "\u001B[1;31mLinAlgError\u001B[0m: Singular matrix"
     ]
    }
   ]
  },
  {
   "cell_type": "markdown",
   "metadata": {
    "id": "PAEufTEvvkYa"
   },
   "source": [
    "Это очень печально - значит, мы не всегда можем применять аналитическую формулу $\\overline{w} = \\left(X^TX\\right)^{-1}X^T\\overline{y}$ для нахождения коэффициентов $\\overline{w}$ Как же быть, если задачу решать все равно надо?\n",
    "\n",
    "Решение этих проблем нашли математики - давайте вычислять коэффициенты линейной регрессии не аналитически, а с помощью приближённых численных методов. Тогда не надо будет перемножать матрицы или находить обратные матрицы. Самый простой и эффективный из этих методов называется методом *градиентного спуска*. Суть метода состоит в обновлении параметров модели $w$ по маленьким шажкам (вместо того, чтобы находить их сразу) - это и есть градиентный спуск.\n",
    "\n",
    "Каждый такой шажок назвается \"итерация\"."
   ]
  },
  {
   "cell_type": "markdown",
   "metadata": {
    "id": "pwUflWYSvkYb"
   },
   "source": [
    "Мы знаем, что коэффициенты обучаются при помощи минимизации функции ошибок:\n",
    "\n",
    "$$\n",
    "L(y,w) = \\sum_{i=1}^{N}\\left(y_i - \\hat{y_i}\\right)^2\n",
    "$$\n",
    "\n",
    "Эта функция квадратичная - следовательно, имеет форму параболы. Минимум параболы соответствует минимуму ошибки - давайте как-то понемногу \"подкручивать\" параметры, чтобы по шажкам спуститься в точку, где ошибка будет минимальной - в этой точке и находятся параметры $w$, которые мы ищем. Правила обновления весов должны быть очень простыми и не содержать матричных перемножений\n",
    "\n",
    "![grad_descent_single_measure](https://248006.selcdn.ru/public/Data-science-3/img/grad_descent_single_measure.png)"
   ]
  },
  {
   "cell_type": "markdown",
   "metadata": {
    "id": "PzLwNIs1vkYb"
   },
   "source": [
    "В трёхмерном случае картинка более красивая - мы движемся как бы ландшафту и хотим найти самую нижнюю точку на этом ландшафте:\n",
    "\n",
    "![grad_descent_single_measure](https://248006.selcdn.ru/public/Data-science-3/img/grad_descent_multi_measure.png)"
   ]
  },
  {
   "cell_type": "markdown",
   "metadata": {
    "id": "VhC7RxlZvkYc"
   },
   "source": [
    "В библиотеке sklearn уже есть класс, в котором реализована логика такого путешествия - это класс `sklearn.linear_model.SGDRegressor`. Давайте посмотрим, как он работает на примере нашей выборки из прошлого урока - начнём с загрузки исходных данных"
   ]
  },
  {
   "cell_type": "code",
   "metadata": {
    "id": "hPr44wuWvkYc",
    "outputId": "ffd1c2a9-1d45-4f23-f131-abd919e5fd4d",
    "ExecuteTime": {
     "end_time": "2024-06-22T10:59:30.812048Z",
     "start_time": "2024-06-22T10:59:30.738407Z"
    }
   },
   "source": [
    "import numpy as np\n",
    "import pandas as pd\n",
    "import matplotlib.pyplot as plt\n",
    "# для регрессии\n",
    "from sklearn.model_selection import train_test_split\n",
    "from sklearn.linear_model import SGDRegressor\n",
    "from sklearn.metrics import mean_squared_error\n",
    "from scipy.spatial import distance\n",
    "%matplotlib inline\n",
    "\n",
    "data = pd.read_csv('3.10_non_linear.csv', sep=',')\n",
    "data = data[(data.x_train > 1) & (data.x_train < 5)].copy()\n",
    "\n",
    "X = data['x_train'].values.reshape(-1, 1) # превращаем X из простого массива в вектор-столбец\n",
    "y = data['y_train'].values\n",
    "\n",
    "# разбиваем на трейн и валидацию\n",
    "X_train, X_valid, y_train, y_valid = train_test_split(X, y, test_size=0.2, random_state=42)\n",
    "\n",
    "data"
   ],
   "execution_count": 6,
   "outputs": [
    {
     "data": {
      "text/plain": "     x_train   y_train\n5   1.182421  1.860341\n6   1.251605  1.878928\n7   1.270474  2.430015\n8   1.402553  2.327856\n9   1.427711  2.203649\n10  1.471737  2.207708\n11  1.534632  1.388039\n12  1.553500  1.718544\n13  1.842816  2.103264\n14  2.018921  2.295177\n15  2.289369  1.965152\n16  2.641579  0.745949\n17  2.685606  1.160798\n18  2.798816  0.847264\n19  2.823974  0.755585\n20  2.912027  1.304593\n21  2.924606  1.066442\n22  3.270527  0.676944\n23  3.314553  0.579166\n24  3.528395  0.133375\n25  3.597580  0.171235\n26  3.761106  0.196110\n27  3.773685 -0.072016\n28  3.918343  0.118110\n29  4.107027  0.466673\n30  4.107027  0.315611\n31  4.125895  0.214945\n32  4.188790  0.050313\n33  4.333448  0.106148\n34  4.541001  0.057132\n35  4.572448 -0.057252\n36  4.622764  0.449234\n37  4.641632 -0.336120\n38  4.937238 -0.038237",
      "text/html": "<div>\n<style scoped>\n    .dataframe tbody tr th:only-of-type {\n        vertical-align: middle;\n    }\n\n    .dataframe tbody tr th {\n        vertical-align: top;\n    }\n\n    .dataframe thead th {\n        text-align: right;\n    }\n</style>\n<table border=\"1\" class=\"dataframe\">\n  <thead>\n    <tr style=\"text-align: right;\">\n      <th></th>\n      <th>x_train</th>\n      <th>y_train</th>\n    </tr>\n  </thead>\n  <tbody>\n    <tr>\n      <th>5</th>\n      <td>1.182421</td>\n      <td>1.860341</td>\n    </tr>\n    <tr>\n      <th>6</th>\n      <td>1.251605</td>\n      <td>1.878928</td>\n    </tr>\n    <tr>\n      <th>7</th>\n      <td>1.270474</td>\n      <td>2.430015</td>\n    </tr>\n    <tr>\n      <th>8</th>\n      <td>1.402553</td>\n      <td>2.327856</td>\n    </tr>\n    <tr>\n      <th>9</th>\n      <td>1.427711</td>\n      <td>2.203649</td>\n    </tr>\n    <tr>\n      <th>10</th>\n      <td>1.471737</td>\n      <td>2.207708</td>\n    </tr>\n    <tr>\n      <th>11</th>\n      <td>1.534632</td>\n      <td>1.388039</td>\n    </tr>\n    <tr>\n      <th>12</th>\n      <td>1.553500</td>\n      <td>1.718544</td>\n    </tr>\n    <tr>\n      <th>13</th>\n      <td>1.842816</td>\n      <td>2.103264</td>\n    </tr>\n    <tr>\n      <th>14</th>\n      <td>2.018921</td>\n      <td>2.295177</td>\n    </tr>\n    <tr>\n      <th>15</th>\n      <td>2.289369</td>\n      <td>1.965152</td>\n    </tr>\n    <tr>\n      <th>16</th>\n      <td>2.641579</td>\n      <td>0.745949</td>\n    </tr>\n    <tr>\n      <th>17</th>\n      <td>2.685606</td>\n      <td>1.160798</td>\n    </tr>\n    <tr>\n      <th>18</th>\n      <td>2.798816</td>\n      <td>0.847264</td>\n    </tr>\n    <tr>\n      <th>19</th>\n      <td>2.823974</td>\n      <td>0.755585</td>\n    </tr>\n    <tr>\n      <th>20</th>\n      <td>2.912027</td>\n      <td>1.304593</td>\n    </tr>\n    <tr>\n      <th>21</th>\n      <td>2.924606</td>\n      <td>1.066442</td>\n    </tr>\n    <tr>\n      <th>22</th>\n      <td>3.270527</td>\n      <td>0.676944</td>\n    </tr>\n    <tr>\n      <th>23</th>\n      <td>3.314553</td>\n      <td>0.579166</td>\n    </tr>\n    <tr>\n      <th>24</th>\n      <td>3.528395</td>\n      <td>0.133375</td>\n    </tr>\n    <tr>\n      <th>25</th>\n      <td>3.597580</td>\n      <td>0.171235</td>\n    </tr>\n    <tr>\n      <th>26</th>\n      <td>3.761106</td>\n      <td>0.196110</td>\n    </tr>\n    <tr>\n      <th>27</th>\n      <td>3.773685</td>\n      <td>-0.072016</td>\n    </tr>\n    <tr>\n      <th>28</th>\n      <td>3.918343</td>\n      <td>0.118110</td>\n    </tr>\n    <tr>\n      <th>29</th>\n      <td>4.107027</td>\n      <td>0.466673</td>\n    </tr>\n    <tr>\n      <th>30</th>\n      <td>4.107027</td>\n      <td>0.315611</td>\n    </tr>\n    <tr>\n      <th>31</th>\n      <td>4.125895</td>\n      <td>0.214945</td>\n    </tr>\n    <tr>\n      <th>32</th>\n      <td>4.188790</td>\n      <td>0.050313</td>\n    </tr>\n    <tr>\n      <th>33</th>\n      <td>4.333448</td>\n      <td>0.106148</td>\n    </tr>\n    <tr>\n      <th>34</th>\n      <td>4.541001</td>\n      <td>0.057132</td>\n    </tr>\n    <tr>\n      <th>35</th>\n      <td>4.572448</td>\n      <td>-0.057252</td>\n    </tr>\n    <tr>\n      <th>36</th>\n      <td>4.622764</td>\n      <td>0.449234</td>\n    </tr>\n    <tr>\n      <th>37</th>\n      <td>4.641632</td>\n      <td>-0.336120</td>\n    </tr>\n    <tr>\n      <th>38</th>\n      <td>4.937238</td>\n      <td>-0.038237</td>\n    </tr>\n  </tbody>\n</table>\n</div>"
     },
     "execution_count": 6,
     "metadata": {},
     "output_type": "execute_result"
    }
   ]
  },
  {
   "cell_type": "markdown",
   "metadata": {
    "id": "YrdX2IbEvkYe"
   },
   "source": [
    "Запустим шажки градиентного спуска (те самые итерации). Для градиентного спуска мы используем готовый класс SGDRegressor: https://scikit-learn.org/stable/modules/generated/sklearn.linear_model.SGDRegressor.html . Класс принимает следующие параметры\n",
    "\n",
    "\n",
    "* learning_rate='constant' используем самую простую модификацию спуска из нескольких возможных (см. документацию)\n",
    "* eta0 - шаг градиентного спуска, в формуле мы его обозначали буквой $\\alpha$\n",
    "* fit_intercept - чтобы обучить коэффициент при \"свободном члене\" линейной регрессии (см. \"Линейная регрессия. Часть 1\")\n",
    "* random_state - этот параметр встречали ранее в этом модуле, он нужен для воспроизводимости вычислений\n",
    "\n",
    "Функция `partial_fit()`, которую мы вызываем в коде, делает одну итерацию градиентного спуска.\n",
    "\n",
    "По оси $oX$ отложим количество итераций, а по оси $oY$ - значение метрики качества *MSE*, которое получили на  валидации"
   ]
  },
  {
   "cell_type": "code",
   "metadata": {
    "id": "PNsIQyJBvkYf",
    "outputId": "424dc5a9-02f7-4bb8-c3a2-6eef417d7862",
    "ExecuteTime": {
     "end_time": "2024-06-22T14:22:02.240788Z",
     "start_time": "2024-06-22T14:22:01.521865Z"
    }
   },
   "source": [
    "sgd_regressor = SGDRegressor(learning_rate='constant', eta0=0.01, fit_intercept=True, random_state=42)\n",
    "w_current, epsilon = np.random.random(2), 0.001\n",
    "weight_evolution, mse_evolution = [], [] # изменения весов и ошибка на валидации\n",
    "for step in list(range(800)):\n",
    "    sgd_regressor = sgd_regressor.partial_fit(X_train, y_train)\n",
    "    weight_evolution.append(distance.euclidean(w_current, sgd_regressor.coef_))\n",
    "    if weight_evolution[-1]<epsilon:\n",
    "        print(\"Итарации остановлены на шаге %d\" % step); break\n",
    "    mse_evolution.append(mean_squared_error(y_valid, sgd_regressor.predict(X_valid)))\n",
    "    print(mse_evolution[-1:])\n",
    "    w_current = sgd_regressor.coef_.copy()\n",
    "    \n",
    "plt.plot(range(step), mse_evolution)"
   ],
   "execution_count": 23,
   "outputs": [
    {
     "name": "stdout",
     "output_type": "stream",
     "text": [
      "[0.6475599680990872]\n",
      "[0.6106473202176993]\n",
      "[0.5776249852312735]\n",
      "[0.5468774314246078]\n",
      "[0.5182031810095439]\n",
      "[0.49145404792142067]\n",
      "[0.4664940853536662]\n",
      "[0.4431972833880547]\n",
      "[0.4214467817556483]\n",
      "[0.40113419243218723]\n",
      "[0.3821589746312574]\n",
      "[0.3644278563991093]\n",
      "[0.347854299253813]\n",
      "[0.3323580026469472]\n",
      "[0.3178644452702017]\n",
      "[0.304304460452606]\n",
      "[0.2916138431005605]\n",
      "[0.2797329858238141]\n",
      "[0.2686065420671629]\n",
      "[0.2581831142310169]\n",
      "[0.24841496491509144]\n",
      "[0.2392577495592554]\n",
      "[0.23067026888484304]\n",
      "[0.22261423965932162]\n",
      "[0.21505408241781535]\n",
      "[0.2079567248772915]\n",
      "[0.20129141987385402]\n",
      "[0.19502957674112034]\n",
      "[0.1891446051286307]\n",
      "[0.18361177033413328]\n",
      "[0.1784080592928676]\n",
      "[0.17351205643105944]\n",
      "[0.16890382865010903]\n",
      "[0.16456481876280177]\n",
      "[0.16047774675358736]\n",
      "[0.1566265182819002]\n",
      "[0.15299613989089741]\n",
      "[0.14957264042414706]\n",
      "[0.14634299818993973]\n",
      "[0.14329507344726486]\n",
      "[0.14041754581927648]\n",
      "[0.13769985626948]\n",
      "[0.1351321533030824]\n",
      "[0.13270524308111026]\n",
      "[0.13041054315818779]\n",
      "[0.12824003957640767]\n",
      "[0.12618624706765605]\n",
      "[0.12424217213519351]\n",
      "[0.12240127880234833]\n",
      "[0.12065745683196831]\n",
      "[0.1190049922348726]\n",
      "[0.11743853989906079]\n",
      "[0.11595309818393842]\n",
      "[0.11454398533538042]\n",
      "[0.11320681758816183]\n",
      "[0.11193748883218559]\n",
      "[0.11073215172810215]\n",
      "[0.10958720016639553]\n",
      "[0.10849925297185706]\n",
      "[0.10746513876262946]\n",
      "[0.1064818818797243]\n",
      "[0.10554668930913426]\n",
      "[0.10465693852441692]\n",
      "[0.10381016618295247]\n",
      "[0.1030040576140105]\n",
      "[0.10223643704131773]\n",
      "[0.10150525848704803]\n",
      "[0.10080859730805954]\n",
      "[0.1001446423188256]\n",
      "[0.09951168845885132]\n",
      "[0.09890812996547269]\n",
      "[0.09833245401580011]\n",
      "[0.09778323480422776]\n",
      "[0.09725912802438938]\n",
      "[0.09675886572671923]\n",
      "[0.09628125152488264]\n",
      "[0.09582515612629412]\n",
      "[0.0953895131637529]\n",
      "[0.09497331530689065]\n",
      "[0.09457561063368426]\n",
      "[0.09419549924371864]\n",
      "[0.09383213009621474]\n",
      "[0.09348469805706743]\n",
      "[0.09315244114028225]\n",
      "[0.09283463793025228]\n",
      "[0.09253060517229887]\n",
      "[0.09223969551980236]\n",
      "Итарации остановлены на шаге 87\n"
     ]
    },
    {
     "data": {
      "text/plain": "[<matplotlib.lines.Line2D at 0x19ea11b1050>]"
     },
     "execution_count": 23,
     "metadata": {},
     "output_type": "execute_result"
    },
    {
     "data": {
      "text/plain": "<Figure size 640x480 with 1 Axes>",
      "image/png": "[encoded data removed]"
     },
     "metadata": {},
     "output_type": "display_data"
    }
   ]
  },
  {
   "cell_type": "markdown",
   "metadata": {
    "id": "Nvnk5rjfvkYh"
   },
   "source": [
    "**Практическое задание** очевидно, что чем больше шаг градиентного спуска (параметр *eta0* класса *SGDRegressor*), тем быстрее мы придём к оптимальным значениям. Используя код выше, поиграйтесь с параметром *eta0* и добейтесь , чтобы градиентный спуск закончился быстрее, чем за 200 шагов.\n",
    "\n",
    "Сколько шагов у вас получилось? Какое качество *MSE* у Вашего решения?"
   ]
  },
  {
   "cell_type": "code",
   "metadata": {
    "id": "akuDd04HvkYh"
   },
   "source": [
    "# -- ВАШ КОД ТУТ\n",
    "\n"
   ],
   "execution_count": null,
   "outputs": []
  },
  {
   "cell_type": "markdown",
   "metadata": {
    "id": "ljDdmg4EvkYj"
   },
   "source": [
    "Визуализируем решение на графике"
   ]
  },
  {
   "cell_type": "code",
   "metadata": {
    "id": "yUsq1gkSvkYk",
    "outputId": "842ba4f9-4bc3-4bc0-9b68-73d45e5095c0"
   },
   "source": [
    "x_linspace = np.linspace(data['x_train'].min(), data['x_train'].max(), num=100)\n",
    "\n",
    "y_linspace= sgd_regressor.predict(x_linspace.reshape(-1,1))\n",
    "\n",
    "plt.plot(x_linspace, y_linspace)\n",
    "plt.scatter(data.x_train, data.y_train, 40, 'g', 'o', alpha=0.8, label='data')\n",
    "\n",
    "plt.show()"
   ],
   "execution_count": null,
   "outputs": [
    {
     "output_type": "display_data",
     "data": {
      "image/png": "[encoded data removed]",
      "text/plain": [
       "<Figure size 432x288 with 1 Axes>"
      ]
     },
     "metadata": {
      "tags": [],
      "needs_background": "light"
     }
    }
   ]
  },
  {
   "cell_type": "markdown",
   "metadata": {
    "id": "14iSy19WvkYm"
   },
   "source": [
    "Готово! Мы получили решение задачи линейной регрессии, обучив параметры линейной регресии небольшими \"шажками\". Мы не использовали сложных матричных вычислений - тем не менее получили линию регрессии, которая лежит в середине облака точек. Когда стоит использовать градиентный спуск в реальных задачах?\n",
    "\n",
    "* когда данных очень много - в этом случае компьютер может не справится с перемножением матриц\n",
    "* когда нужно контролировать точность обучения - остановить итерации можно в любой момент (не дожидаясь, пока дойдем до \"идеальных\" значений)\n",
    "\n",
    "Когда не стоит применять градиентный спуск? Когда данных мало - в этом случае лучше воспользоваться классами *Ridge* и *Lasso*."
   ]
  }
 ]
}
