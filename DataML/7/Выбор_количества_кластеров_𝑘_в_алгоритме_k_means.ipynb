{
 "nbformat": 4,
 "nbformat_minor": 0,
 "metadata": {
  "kernelspec": {
   "display_name": "Python 3",
   "language": "python",
   "name": "python3"
  },
  "language_info": {
   "codemirror_mode": {
    "name": "ipython",
    "version": 3
   },
   "file_extension": ".py",
   "mimetype": "text/x-python",
   "name": "python",
   "nbconvert_exporter": "python",
   "pygments_lexer": "ipython3",
   "version": "3.6.3"
  },
  "colab": {
   "provenance": []
  }
 },
 "cells": [
  {
   "cell_type": "markdown",
   "metadata": {
    "id": "NDr78A5jCPUW"
   },
   "source": [
    "# Выбор количества кластеров $k$ в алгоритме *k-means*\n",
    "\n",
    "Существенный недостаток алгоритма заключается в необходимости до начала эксперимента выбирать количество кластеров. В этом уроке мы научимся выбирать количество кластеров $K$ автоматически.\n",
    "\n",
    "Мы будем подходить к выбору оптимального количества кластеров, как к задаче оптимизации - выберем метрику качества кластеризации, которая зависит от параметра $K$ найдём как-нибудь, при каком значении $K$ у нас самая лучшая кластеризация. Хорошей метрикой качества является т.н. внутрикластерное расстояние."
   ]
  },
  {
   "cell_type": "markdown",
   "metadata": {
    "id": "emx9RmPQCPUX"
   },
   "source": [
    "Для подбора вводится метрика качества кластеризации с центроидами $\\mu_k: \\forall k=1,\\ldots,K$, которая измеряет внутрикластерное расстояние - насколько хорошо центр, который мы выбрали, совпадает с \"идеальным\" центром кластера\n",
    "$$\n",
    "J(C) = \\sum_{k=1}^{K}\\sum_{j \\in C_k} \\mid x_j - \\mu_k \\mid \\rightarrow min\n",
    "$$\n",
    "\n",
    "В этой формуле\n",
    "* $\\mu_k$ - координаты центроида кластера под номером $k$, количество кластеров $k$\n",
    "* $x_j$ - объект под номером $j$, принадлежащий кластеру под номером $k$\n",
    "* $\\mid x_j - \\mu_k \\mid$ - евклидово расстояние (см. первый урок) от примера $x_j$ до центроида $\\mu_k$"
   ]
  },
  {
   "cell_type": "markdown",
   "metadata": {
    "id": "drsEy7ZiCPUY"
   },
   "source": [
    "Очевидно, что эта метрика достигает оптимума в точке, где количество соответствует количеству элементов в выборке. Однако, это вырожденный случай - на практике применяют эвристику \"метод локтя\", которая предполагает выбор точки, в которой резко снижается динамика изменения $J(C)$:\n",
    "$$\n",
    "D(K) =\\frac{\\mid J(C_{k+1}) - J(C_{k}) \\mid}{\\mid J(C_{k}) - J(C_{k-1}) \\mid} \\rightarrow \\min\n",
    "$$\n",
    "\n",
    "Пример на картинке:\n",
    "![elbow_method](https://248006.selcdn.ru/public/DS.%20Block%202.%20M7/elbow_method.png)"
   ]
  },
  {
   "cell_type": "markdown",
   "metadata": {
    "id": "DF2NqNh_CPUY"
   },
   "source": [
    "Реализуем алгоритм поиска наилучшего количества кластеров на примере датасета с двумя классами из второго урока"
   ]
  },
  {
   "cell_type": "code",
   "metadata": {
    "id": "qpfNVigGCPUY",
    "outputId": "ae3dee30-ca25-4dee-f73a-bb2ee91285da",
    "ExecuteTime": {
     "end_time": "2024-07-03T13:49:42.279662Z",
     "start_time": "2024-07-03T13:49:38.524620Z"
    }
   },
   "source": [
    "from scipy.spatial.distance import euclidean\n",
    "from sklearn.metrics.pairwise import euclidean_distances\n",
    "from sklearn.cluster import KMeans\n",
    "import pickle\n",
    "import numpy as np\n",
    "\n",
    "with open('clustering.pkl', 'rb') as f:\n",
    "    data_clustering = pickle.load(f)\n",
    "\n",
    "X = np.array(data_clustering['X'])\n",
    "Y = np.array(data_clustering['Y'])\n",
    "\n",
    "metrics = []\n",
    "MAX_CLUSTERS = 7\n",
    "for cluster_num in range(1, MAX_CLUSTERS):\n",
    "    kmeans_model = KMeans(n_clusters=cluster_num, random_state=99).fit(X)\n",
    "    centroids, labels = kmeans_model.cluster_centers_, kmeans_model.labels_\n",
    "    metric = 0\n",
    "    for centroid_label in range(cluster_num):\n",
    "        metric += euclidean_distances(\n",
    "            X[labels==centroid_label],\n",
    "            centroids[centroid_label,:].reshape(1,-1)\n",
    "        ).sum(axis=0)[0]\n",
    "    print(\"cluster_num %s, metric %s\" % (cluster_num, metric))\n",
    "    metrics.append(metric)"
   ],
   "execution_count": 5,
   "outputs": [
    {
     "name": "stderr",
     "output_type": "stream",
     "text": [
      "C:\\ProgramData\\anaconda3\\Lib\\site-packages\\sklearn\\cluster\\_kmeans.py:870: FutureWarning: The default value of `n_init` will change from 10 to 'auto' in 1.4. Set the value of `n_init` explicitly to suppress the warning\n",
      "  warnings.warn(\n",
      "C:\\ProgramData\\anaconda3\\Lib\\site-packages\\sklearn\\cluster\\_kmeans.py:1382: UserWarning: KMeans is known to have a memory leak on Windows with MKL, when there are less chunks than available threads. You can avoid it by setting the environment variable OMP_NUM_THREADS=1.\n",
      "  warnings.warn(\n"
     ]
    },
    {
     "name": "stdout",
     "output_type": "stream",
     "text": [
      "cluster_num 1, metric 135.92762259869988\n"
     ]
    },
    {
     "name": "stderr",
     "output_type": "stream",
     "text": [
      "C:\\ProgramData\\anaconda3\\Lib\\site-packages\\sklearn\\cluster\\_kmeans.py:870: FutureWarning: The default value of `n_init` will change from 10 to 'auto' in 1.4. Set the value of `n_init` explicitly to suppress the warning\n",
      "  warnings.warn(\n",
      "C:\\ProgramData\\anaconda3\\Lib\\site-packages\\sklearn\\cluster\\_kmeans.py:1382: UserWarning: KMeans is known to have a memory leak on Windows with MKL, when there are less chunks than available threads. You can avoid it by setting the environment variable OMP_NUM_THREADS=1.\n",
      "  warnings.warn(\n"
     ]
    },
    {
     "name": "stdout",
     "output_type": "stream",
     "text": [
      "cluster_num 2, metric 92.34245055263457\n"
     ]
    },
    {
     "name": "stderr",
     "output_type": "stream",
     "text": [
      "C:\\ProgramData\\anaconda3\\Lib\\site-packages\\sklearn\\cluster\\_kmeans.py:870: FutureWarning: The default value of `n_init` will change from 10 to 'auto' in 1.4. Set the value of `n_init` explicitly to suppress the warning\n",
      "  warnings.warn(\n",
      "C:\\ProgramData\\anaconda3\\Lib\\site-packages\\sklearn\\cluster\\_kmeans.py:1382: UserWarning: KMeans is known to have a memory leak on Windows with MKL, when there are less chunks than available threads. You can avoid it by setting the environment variable OMP_NUM_THREADS=1.\n",
      "  warnings.warn(\n"
     ]
    },
    {
     "name": "stdout",
     "output_type": "stream",
     "text": [
      "cluster_num 3, metric 74.52323397050206\n"
     ]
    },
    {
     "name": "stderr",
     "output_type": "stream",
     "text": [
      "C:\\ProgramData\\anaconda3\\Lib\\site-packages\\sklearn\\cluster\\_kmeans.py:870: FutureWarning: The default value of `n_init` will change from 10 to 'auto' in 1.4. Set the value of `n_init` explicitly to suppress the warning\n",
      "  warnings.warn(\n",
      "C:\\ProgramData\\anaconda3\\Lib\\site-packages\\sklearn\\cluster\\_kmeans.py:1382: UserWarning: KMeans is known to have a memory leak on Windows with MKL, when there are less chunks than available threads. You can avoid it by setting the environment variable OMP_NUM_THREADS=1.\n",
      "  warnings.warn(\n"
     ]
    },
    {
     "name": "stdout",
     "output_type": "stream",
     "text": [
      "cluster_num 4, metric 60.75176580321338\n"
     ]
    },
    {
     "name": "stderr",
     "output_type": "stream",
     "text": [
      "C:\\ProgramData\\anaconda3\\Lib\\site-packages\\sklearn\\cluster\\_kmeans.py:870: FutureWarning: The default value of `n_init` will change from 10 to 'auto' in 1.4. Set the value of `n_init` explicitly to suppress the warning\n",
      "  warnings.warn(\n",
      "C:\\ProgramData\\anaconda3\\Lib\\site-packages\\sklearn\\cluster\\_kmeans.py:1382: UserWarning: KMeans is known to have a memory leak on Windows with MKL, when there are less chunks than available threads. You can avoid it by setting the environment variable OMP_NUM_THREADS=1.\n",
      "  warnings.warn(\n"
     ]
    },
    {
     "name": "stdout",
     "output_type": "stream",
     "text": [
      "cluster_num 5, metric 54.86662031054898\n"
     ]
    },
    {
     "name": "stderr",
     "output_type": "stream",
     "text": [
      "C:\\ProgramData\\anaconda3\\Lib\\site-packages\\sklearn\\cluster\\_kmeans.py:870: FutureWarning: The default value of `n_init` will change from 10 to 'auto' in 1.4. Set the value of `n_init` explicitly to suppress the warning\n",
      "  warnings.warn(\n",
      "C:\\ProgramData\\anaconda3\\Lib\\site-packages\\sklearn\\cluster\\_kmeans.py:1382: UserWarning: KMeans is known to have a memory leak on Windows with MKL, when there are less chunks than available threads. You can avoid it by setting the environment variable OMP_NUM_THREADS=1.\n",
      "  warnings.warn(\n"
     ]
    },
    {
     "name": "stdout",
     "output_type": "stream",
     "text": [
      "cluster_num 6, metric 49.745770433790256\n"
     ]
    }
   ]
  },
  {
   "cell_type": "markdown",
   "metadata": {
    "id": "BxyLaXZ2CPUZ"
   },
   "source": [
    "Визуализируем зависимость метрики от количества кластеров на графике"
   ]
  },
  {
   "cell_type": "code",
   "metadata": {
    "id": "6dssaUgjCPUZ",
    "outputId": "899a4e4a-9306-4125-a9d9-e38075226ec0",
    "ExecuteTime": {
     "end_time": "2024-07-03T13:51:29.358979Z",
     "start_time": "2024-07-03T13:51:21.466202Z"
    }
   },
   "source": [
    "import matplotlib.pyplot as plt\n",
    "%matplotlib inline\n",
    "\n",
    "D = []\n",
    "for i in range(0, len(metrics)-1):\n",
    "    d = abs(metrics[i+1]-metrics[i])/abs(metrics[i]-metrics[i-1])\n",
    "    D.append(d)\n",
    "print(\"best cluster num: %s\" % (np.argmin(D)+1))\n",
    "\n",
    "plt.plot([i+1 for i in range(len(metrics))], metrics)\n",
    "plt.show()"
   ],
   "execution_count": 7,
   "outputs": [
    {
     "name": "stdout",
     "output_type": "stream",
     "text": [
      "best cluster num: 2\n"
     ]
    },
    {
     "data": {
      "text/plain": "<Figure size 640x480 with 1 Axes>",
      "image/png": "[encoded data removed]"
     },
     "metadata": {},
     "output_type": "display_data"
    }
   ]
  },
  {
   "cell_type": "markdown",
   "metadata": {
    "id": "vgEfIkmkCPUa"
   },
   "source": [
    "Визуально заметно, что в точке $k=2$ в графике наблюдается перегиб - это и есть тот самый \"локоть\". Значит, оптимальное количество кластеров для нашего датасета $k=2$, что и так было понятно по картинке из первого урока"
   ]
  },
  {
   "cell_type": "markdown",
   "metadata": {
    "id": "ET4dskTrCPUa"
   },
   "source": [
    "В третьем уроке мы научились кластеризовать данные на произвольное количество кластеров и выбирать лучшее возможное количество кластеров - это важно, потому что в отличие от задачи классификации, которую вы изучили в Модуле 5, для нашей задачи кластеризации количество кластеров заранее неизвестно.\n",
    "\n",
    "В следующем уроке мы напишем собственную реализацию алгоритма на языке python."
   ]
  }
 ]
}
