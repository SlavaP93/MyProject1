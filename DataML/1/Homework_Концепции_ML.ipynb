{
 "nbformat": 4,
 "nbformat_minor": 0,
 "metadata": {
  "kernelspec": {
   "display_name": "Python 3",
   "language": "python",
   "name": "python3"
  },
  "language_info": {
   "codemirror_mode": {
    "name": "ipython",
    "version": 3
   },
   "file_extension": ".py",
   "mimetype": "text/x-python",
   "name": "python",
   "nbconvert_exporter": "python",
   "pygments_lexer": "ipython3",
   "version": "3.6.3"
  },
  "colab": {
   "provenance": []
  }
 },
 "cells": [
  {
   "cell_type": "markdown",
   "metadata": {
    "id": "AA9qiddM7MxM"
   },
   "source": [
    "# Основные концепции Machine Learning. Домашняя работа"
   ]
  },
  {
   "cell_type": "code",
   "metadata": {
    "id": "_XMI1aaX7MxQ"
   },
   "source": [
    "### Тут нужно сделать импорты всех необходимых библиотек ###"
   ],
   "execution_count": null,
   "outputs": []
  },
  {
   "cell_type": "code",
   "metadata": {
    "id": "0Kjpkv3o7MxZ",
    "ExecuteTime": {
     "end_time": "2024-06-15T13:20:51.888111Z",
     "start_time": "2024-06-15T13:20:45.668890Z"
    }
   },
   "source": [
    "import numpy as np\n",
    "import pandas as pd\n",
    "import matplotlib\n",
    "import matplotlib.pyplot as plt\n",
    "from sklearn.linear_model import LinearRegression\n",
    "from mpl_toolkits.mplot3d import Axes3D  # для отрисовки 3D проекции\n",
    "\n",
    "matplotlib.rc(\"font\", size=18)"
   ],
   "execution_count": 15,
   "outputs": []
  },
  {
   "cell_type": "code",
   "metadata": {
    "id": "fD4otYne7Mxi"
   },
   "source": [
    "### Здесь требуется загрузить датасет phones.csv ###"
   ],
   "execution_count": null,
   "outputs": []
  },
  {
   "cell_type": "code",
   "metadata": {
    "id": "HzmOX-Yd7Mxo",
    "ExecuteTime": {
     "end_time": "2024-06-15T14:35:52.116024Z",
     "start_time": "2024-06-15T14:35:52.079422Z"
    }
   },
   "source": [
    "phone = pd.read_csv('1.8_phones.csv')\n",
    "\n",
    "phone1 = phone[phone['os']=='iOS']\n",
    "phone2 = phone1[phone1['disk']==512]\n",
    "phone2.head()"
   ],
   "execution_count": 65,
   "outputs": [
    {
     "data": {
      "text/plain": "    disk   os  price  year\n3    512  iOS  15045  2017\n5    512  iOS  15842  2018\n8    512  iOS  12797  2015\n10   512  iOS  13788  2016\n12   512  iOS   9392  2012",
      "text/html": "<div>\n<style scoped>\n    .dataframe tbody tr th:only-of-type {\n        vertical-align: middle;\n    }\n\n    .dataframe tbody tr th {\n        vertical-align: top;\n    }\n\n    .dataframe thead th {\n        text-align: right;\n    }\n</style>\n<table border=\"1\" class=\"dataframe\">\n  <thead>\n    <tr style=\"text-align: right;\">\n      <th></th>\n      <th>disk</th>\n      <th>os</th>\n      <th>price</th>\n      <th>year</th>\n    </tr>\n  </thead>\n  <tbody>\n    <tr>\n      <th>3</th>\n      <td>512</td>\n      <td>iOS</td>\n      <td>15045</td>\n      <td>2017</td>\n    </tr>\n    <tr>\n      <th>5</th>\n      <td>512</td>\n      <td>iOS</td>\n      <td>15842</td>\n      <td>2018</td>\n    </tr>\n    <tr>\n      <th>8</th>\n      <td>512</td>\n      <td>iOS</td>\n      <td>12797</td>\n      <td>2015</td>\n    </tr>\n    <tr>\n      <th>10</th>\n      <td>512</td>\n      <td>iOS</td>\n      <td>13788</td>\n      <td>2016</td>\n    </tr>\n    <tr>\n      <th>12</th>\n      <td>512</td>\n      <td>iOS</td>\n      <td>9392</td>\n      <td>2012</td>\n    </tr>\n  </tbody>\n</table>\n</div>"
     },
     "execution_count": 65,
     "metadata": {},
     "output_type": "execute_result"
    }
   ]
  },
  {
   "cell_type": "code",
   "metadata": {
    "id": "a2Hw3Jso7Mxt",
    "ExecuteTime": {
     "end_time": "2024-06-15T14:36:10.599247Z",
     "start_time": "2024-06-15T14:36:10.140374Z"
    }
   },
   "source": [
    "fig = plt.figure(figsize=(5,5))\n",
    "ex = plt.axes()\n",
    "\n",
    "ex.scatter(phone2['year'], phone2['price'])\n",
    "\n",
    "plt.show()"
   ],
   "execution_count": 66,
   "outputs": [
    {
     "data": {
      "text/plain": "<Figure size 500x500 with 1 Axes>",
      "image/png": "[encoded data removed]"
     },
     "metadata": {},
     "output_type": "display_data"
    }
   ]
  },
  {
   "cell_type": "code",
   "metadata": {
    "id": "rXhrelNp7Mx0",
    "ExecuteTime": {
     "end_time": "2024-06-15T13:10:42.733468Z",
     "start_time": "2024-06-15T13:10:42.689393Z"
    }
   },
   "source": [
    "phone.head()"
   ],
   "execution_count": 7,
   "outputs": [
    {
     "data": {
      "text/plain": "   disk       os  price  year\n0    64  Android   7256  2016\n1   128  Android   7623  2015\n2    64  Android   1916  2010\n3   512      iOS  15045  2017\n4    16  Android   4478  2013",
      "text/html": "<div>\n<style scoped>\n    .dataframe tbody tr th:only-of-type {\n        vertical-align: middle;\n    }\n\n    .dataframe tbody tr th {\n        vertical-align: top;\n    }\n\n    .dataframe thead th {\n        text-align: right;\n    }\n</style>\n<table border=\"1\" class=\"dataframe\">\n  <thead>\n    <tr style=\"text-align: right;\">\n      <th></th>\n      <th>disk</th>\n      <th>os</th>\n      <th>price</th>\n      <th>year</th>\n    </tr>\n  </thead>\n  <tbody>\n    <tr>\n      <th>0</th>\n      <td>64</td>\n      <td>Android</td>\n      <td>7256</td>\n      <td>2016</td>\n    </tr>\n    <tr>\n      <th>1</th>\n      <td>128</td>\n      <td>Android</td>\n      <td>7623</td>\n      <td>2015</td>\n    </tr>\n    <tr>\n      <th>2</th>\n      <td>64</td>\n      <td>Android</td>\n      <td>1916</td>\n      <td>2010</td>\n    </tr>\n    <tr>\n      <th>3</th>\n      <td>512</td>\n      <td>iOS</td>\n      <td>15045</td>\n      <td>2017</td>\n    </tr>\n    <tr>\n      <th>4</th>\n      <td>16</td>\n      <td>Android</td>\n      <td>4478</td>\n      <td>2013</td>\n    </tr>\n  </tbody>\n</table>\n</div>"
     },
     "execution_count": 7,
     "metadata": {},
     "output_type": "execute_result"
    }
   ]
  },
  {
   "cell_type": "markdown",
   "metadata": {
    "id": "h1rvGoCB7Mx5"
   },
   "source": [
    "Задание 1: обучить модель регрессии"
   ]
  },
  {
   "cell_type": "code",
   "metadata": {
    "id": "XY23EgHH7Mx6",
    "ExecuteTime": {
     "end_time": "2024-06-15T14:36:41.826993Z",
     "start_time": "2024-06-15T14:36:41.806386Z"
    }
   },
   "source": [
    "### Тут нужно выгрузить в соответствующие переменные выбранные признаки ###\n",
    "X = phone2[['year']]\n",
    "y = phone2['price']\n",
    "\n",
    "reg = LinearRegression().fit(X,y)\n",
    "\n",
    "[b] = reg.coef_\n",
    "a = reg.intercept_\n",
    "\n",
    "# создаем функцию для предсказания цены дома\n",
    "def reg_prediction(disk):\n",
    "    return a + b * disk"
   ],
   "execution_count": 68,
   "outputs": []
  },
  {
   "cell_type": "code",
   "outputs": [
    {
     "data": {
      "text/plain": "<Figure size 500x500 with 1 Axes>",
      "image/png": "[encoded data removed]"
     },
     "metadata": {},
     "output_type": "display_data"
    }
   ],
   "source": [
    "fig = plt.figure(figsize=(5,5))\n",
    "ex = plt.axes()\n",
    "\n",
    "ex.scatter(phone2['year'], phone2['price'])\n",
    "ex.plot([X.year.min(), X.year.max()], [reg_prediction(X.year.min()), reg_prediction(X.year.max())], c=\"red\")\n",
    "\n",
    "plt.show()"
   ],
   "metadata": {
    "collapsed": false,
    "ExecuteTime": {
     "end_time": "2024-06-17T08:16:50.392300Z",
     "start_time": "2024-06-17T08:16:49.843936Z"
    }
   },
   "execution_count": 83
  },
  {
   "cell_type": "code",
   "metadata": {
    "id": "US0Ox9F57Mx9"
   },
   "source": [
    "### Здесь следует запустить процесс обучения ###\n",
    "### и продемонстрировать работоспобность обученной модели ###"
   ],
   "execution_count": null,
   "outputs": []
  },
  {
   "cell_type": "code",
   "metadata": {
    "id": "1sDXbyZU7MyC",
    "ExecuteTime": {
     "end_time": "2024-06-17T07:19:52.729568Z",
     "start_time": "2024-06-17T07:19:52.710311Z"
    }
   },
   "source": [
    "reg.predict([X.year[20:21]])"
   ],
   "execution_count": 82,
   "outputs": [
    {
     "name": "stderr",
     "output_type": "stream",
     "text": [
      "C:\\ProgramData\\anaconda3\\Lib\\site-packages\\sklearn\\base.py:439: UserWarning: X does not have valid feature names, but LinearRegression was fitted with feature names\n",
      "  warnings.warn(\n"
     ]
    },
    {
     "data": {
      "text/plain": "array([8613.11323807])"
     },
     "execution_count": 82,
     "metadata": {},
     "output_type": "execute_result"
    }
   ]
  },
  {
   "cell_type": "markdown",
   "metadata": {
    "id": "yuclRz_n7MyE"
   },
   "source": [
    "Задание 2: обучить модель классификации"
   ]
  },
  {
   "cell_type": "code",
   "metadata": {
    "id": "J4Ht5MM97MyF",
    "ExecuteTime": {
     "end_time": "2024-06-17T08:30:08.166392Z",
     "start_time": "2024-06-17T08:30:08.129850Z"
    }
   },
   "source": [
    "### Тут нужно выгрузить в соответствующие переменные выбранные признаки ###\n",
    "# X =\n",
    "# y =\n",
    "from sklearn.tree import DecisionTreeClassifier\n",
    "from sklearn.tree import export_text\n",
    "\n",
    "x = phone[['price']]\n",
    "y = phone['os']\n",
    "\n",
    "cl = DecisionTreeClassifier().fit(x,y)\n",
    "print(export_text(cl))\n"
   ],
   "execution_count": 90,
   "outputs": [
    {
     "name": "stdout",
     "output_type": "stream",
     "text": [
      "|--- feature_0 <= 7660.50\n",
      "|   |--- feature_0 <= 4577.00\n",
      "|   |   |--- class: Android\n",
      "|   |--- feature_0 >  4577.00\n",
      "|   |   |--- feature_0 <= 4720.00\n",
      "|   |   |   |--- class: iOS\n",
      "|   |   |--- feature_0 >  4720.00\n",
      "|   |   |   |--- feature_0 <= 6875.50\n",
      "|   |   |   |   |--- feature_0 <= 6561.50\n",
      "|   |   |   |   |   |--- feature_0 <= 5124.50\n",
      "|   |   |   |   |   |   |--- class: Android\n",
      "|   |   |   |   |   |--- feature_0 >  5124.50\n",
      "|   |   |   |   |   |   |--- feature_0 <= 5282.50\n",
      "|   |   |   |   |   |   |   |--- class: iOS\n",
      "|   |   |   |   |   |   |--- feature_0 >  5282.50\n",
      "|   |   |   |   |   |   |   |--- feature_0 <= 5901.50\n",
      "|   |   |   |   |   |   |   |   |--- class: Android\n",
      "|   |   |   |   |   |   |   |--- feature_0 >  5901.50\n",
      "|   |   |   |   |   |   |   |   |--- feature_0 <= 6119.00\n",
      "|   |   |   |   |   |   |   |   |   |--- class: iOS\n",
      "|   |   |   |   |   |   |   |   |--- feature_0 >  6119.00\n",
      "|   |   |   |   |   |   |   |   |   |--- class: Android\n",
      "|   |   |   |   |--- feature_0 >  6561.50\n",
      "|   |   |   |   |   |--- class: iOS\n",
      "|   |   |   |--- feature_0 >  6875.50\n",
      "|   |   |   |   |--- feature_0 <= 7308.00\n",
      "|   |   |   |   |   |--- class: Android\n",
      "|   |   |   |   |--- feature_0 >  7308.00\n",
      "|   |   |   |   |   |--- feature_0 <= 7431.00\n",
      "|   |   |   |   |   |   |--- class: iOS\n",
      "|   |   |   |   |   |--- feature_0 >  7431.00\n",
      "|   |   |   |   |   |   |--- class: Android\n",
      "|--- feature_0 >  7660.50\n",
      "|   |--- feature_0 <= 10890.00\n",
      "|   |   |--- feature_0 <= 10617.50\n",
      "|   |   |   |--- feature_0 <= 8559.00\n",
      "|   |   |   |   |--- feature_0 <= 8050.50\n",
      "|   |   |   |   |   |--- class: iOS\n",
      "|   |   |   |   |--- feature_0 >  8050.50\n",
      "|   |   |   |   |   |--- feature_0 <= 8371.50\n",
      "|   |   |   |   |   |   |--- class: Android\n",
      "|   |   |   |   |   |--- feature_0 >  8371.50\n",
      "|   |   |   |   |   |   |--- feature_0 <= 8401.50\n",
      "|   |   |   |   |   |   |   |--- class: iOS\n",
      "|   |   |   |   |   |   |--- feature_0 >  8401.50\n",
      "|   |   |   |   |   |   |   |--- class: Android\n",
      "|   |   |   |--- feature_0 >  8559.00\n",
      "|   |   |   |   |--- feature_0 <= 8953.00\n",
      "|   |   |   |   |   |--- class: iOS\n",
      "|   |   |   |   |--- feature_0 >  8953.00\n",
      "|   |   |   |   |   |--- feature_0 <= 9207.00\n",
      "|   |   |   |   |   |   |--- class: Android\n",
      "|   |   |   |   |   |--- feature_0 >  9207.00\n",
      "|   |   |   |   |   |   |--- feature_0 <= 10010.00\n",
      "|   |   |   |   |   |   |   |--- feature_0 <= 9827.50\n",
      "|   |   |   |   |   |   |   |   |--- feature_0 <= 9570.00\n",
      "|   |   |   |   |   |   |   |   |   |--- feature_0 <= 9490.00\n",
      "|   |   |   |   |   |   |   |   |   |   |--- class: iOS\n",
      "|   |   |   |   |   |   |   |   |   |--- feature_0 >  9490.00\n",
      "|   |   |   |   |   |   |   |   |   |   |--- feature_0 <= 9518.00\n",
      "|   |   |   |   |   |   |   |   |   |   |   |--- class: Android\n",
      "|   |   |   |   |   |   |   |   |   |   |--- feature_0 >  9518.00\n",
      "|   |   |   |   |   |   |   |   |   |   |   |--- truncated branch of depth 2\n",
      "|   |   |   |   |   |   |   |   |--- feature_0 >  9570.00\n",
      "|   |   |   |   |   |   |   |   |   |--- class: iOS\n",
      "|   |   |   |   |   |   |   |--- feature_0 >  9827.50\n",
      "|   |   |   |   |   |   |   |   |--- class: Android\n",
      "|   |   |   |   |   |   |--- feature_0 >  10010.00\n",
      "|   |   |   |   |   |   |   |--- class: iOS\n",
      "|   |   |--- feature_0 >  10617.50\n",
      "|   |   |   |--- class: Android\n",
      "|   |--- feature_0 >  10890.00\n",
      "|   |   |--- class: iOS\n"
     ]
    }
   ]
  },
  {
   "cell_type": "code",
   "metadata": {
    "id": "DMpz3V8g7MyI"
   },
   "source": [
    "### Здесь следует запустить процесс обучения ###\n",
    "### и продемонстрировать работоспобность обученной модели ###"
   ],
   "execution_count": null,
   "outputs": []
  },
  {
   "cell_type": "code",
   "metadata": {
    "id": "hS-diYYZ7MyK"
   },
   "source": [],
   "execution_count": null,
   "outputs": []
  },
  {
   "cell_type": "markdown",
   "metadata": {
    "id": "PLUEg9NE7MyM"
   },
   "source": [
    "Задание 3: обучить модель кластеризации"
   ]
  },
  {
   "cell_type": "code",
   "metadata": {
    "id": "uI70MBPL7MyN",
    "ExecuteTime": {
     "end_time": "2024-06-17T08:45:19.193288Z",
     "start_time": "2024-06-17T08:45:18.821090Z"
    }
   },
   "source": [
    "### Тут нужно выгрузить в соответствующие переменные выбранные признаки ###\n",
    "# X =\n",
    "\n",
    "from sklearn.cluster import KMeans"
   ],
   "execution_count": 92,
   "outputs": []
  },
  {
   "cell_type": "code",
   "metadata": {
    "id": "Fn65CuKw7MyR"
   },
   "source": [
    "### Здесь следует запустить процесс обучения ###\n",
    "### и продемонстрировать работоспобность обученной модели ###"
   ],
   "execution_count": null,
   "outputs": []
  },
  {
   "cell_type": "code",
   "metadata": {
    "id": "Icl5e_aO7MyU",
    "ExecuteTime": {
     "end_time": "2024-06-17T08:46:27.799700Z",
     "start_time": "2024-06-17T08:46:26.406566Z"
    }
   },
   "source": [
    "X = phone[['disk', 'price']]\n",
    "\n",
    "clust = KMeans(n_clusters=2, n_init='auto').fit(x)\n"
   ],
   "execution_count": 97,
   "outputs": [
    {
     "name": "stderr",
     "output_type": "stream",
     "text": [
      "C:\\ProgramData\\anaconda3\\Lib\\site-packages\\sklearn\\cluster\\_kmeans.py:1382: UserWarning: KMeans is known to have a memory leak on Windows with MKL, when there are less chunks than available threads. You can avoid it by setting the environment variable OMP_NUM_THREADS=1.\n",
      "  warnings.warn(\n"
     ]
    }
   ]
  },
  {
   "cell_type": "code",
   "metadata": {
    "id": "Ci4wJ02o7MyX",
    "ExecuteTime": {
     "end_time": "2024-06-17T08:46:32.576188Z",
     "start_time": "2024-06-17T08:46:32.560193Z"
    }
   },
   "source": [
    "clust.cluster_centers_"
   ],
   "execution_count": 98,
   "outputs": [
    {
     "data": {
      "text/plain": "array([[ 5784.78333333],\n       [11601.65      ]])"
     },
     "execution_count": 98,
     "metadata": {},
     "output_type": "execute_result"
    }
   ]
  }
 ]
}
