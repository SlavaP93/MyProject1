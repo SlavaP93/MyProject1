{
 "nbformat": 4,
 "nbformat_minor": 0,
 "metadata": {
  "kernelspec": {
   "display_name": "Python 3",
   "language": "python",
   "name": "python3"
  },
  "language_info": {
   "codemirror_mode": {
    "name": "ipython",
    "version": 3
   },
   "file_extension": ".py",
   "mimetype": "text/x-python",
   "name": "python",
   "nbconvert_exporter": "python",
   "pygments_lexer": "ipython3",
   "version": "3.6.3"
  },
  "colab": {
   "provenance": []
  }
 },
 "cells": [
  {
   "cell_type": "code",
   "metadata": {
    "id": "LyWl6MGTi0f7",
    "ExecuteTime": {
     "end_time": "2024-06-17T08:17:55.883603Z",
     "start_time": "2024-06-17T08:17:52.645645Z"
    }
   },
   "source": [
    "import numpy as np\n",
    "import pandas as pd"
   ],
   "execution_count": 1,
   "outputs": []
  },
  {
   "cell_type": "code",
   "metadata": {
    "id": "LS71t19Mi0f-",
    "ExecuteTime": {
     "end_time": "2024-06-15T12:07:53.609551Z",
     "start_time": "2024-06-15T12:07:53.589308Z"
    }
   },
   "source": [
    "# загружаем данные\n",
    "houses = pd.read_csv(\"1.4_houses.csv\")"
   ],
   "execution_count": 3,
   "outputs": []
  },
  {
   "cell_type": "code",
   "metadata": {
    "id": "G6pjMZgni0gB",
    "outputId": "204f65e3-2c06-497e-aa8d-1990cc0c2ede",
    "ExecuteTime": {
     "end_time": "2024-06-15T12:07:57.921865Z",
     "start_time": "2024-06-15T12:07:57.874679Z"
    }
   },
   "source": [
    "houses.head(7)"
   ],
   "execution_count": 4,
   "outputs": [
    {
     "data": {
      "text/plain": "   dim_1  dim_2   level   price\n0     29     28  luxury  2212.0\n1     28     29  luxury  2203.0\n2      6      9   basic   254.0\n3      5      9   basic   242.0\n4      6      6   basic   195.0\n5      5      8   basic   200.0\n6     27     29  luxury  2108.0",
      "text/html": "<div>\n<style scoped>\n    .dataframe tbody tr th:only-of-type {\n        vertical-align: middle;\n    }\n\n    .dataframe tbody tr th {\n        vertical-align: top;\n    }\n\n    .dataframe thead th {\n        text-align: right;\n    }\n</style>\n<table border=\"1\" class=\"dataframe\">\n  <thead>\n    <tr style=\"text-align: right;\">\n      <th></th>\n      <th>dim_1</th>\n      <th>dim_2</th>\n      <th>level</th>\n      <th>price</th>\n    </tr>\n  </thead>\n  <tbody>\n    <tr>\n      <th>0</th>\n      <td>29</td>\n      <td>28</td>\n      <td>luxury</td>\n      <td>2212.0</td>\n    </tr>\n    <tr>\n      <th>1</th>\n      <td>28</td>\n      <td>29</td>\n      <td>luxury</td>\n      <td>2203.0</td>\n    </tr>\n    <tr>\n      <th>2</th>\n      <td>6</td>\n      <td>9</td>\n      <td>basic</td>\n      <td>254.0</td>\n    </tr>\n    <tr>\n      <th>3</th>\n      <td>5</td>\n      <td>9</td>\n      <td>basic</td>\n      <td>242.0</td>\n    </tr>\n    <tr>\n      <th>4</th>\n      <td>6</td>\n      <td>6</td>\n      <td>basic</td>\n      <td>195.0</td>\n    </tr>\n    <tr>\n      <th>5</th>\n      <td>5</td>\n      <td>8</td>\n      <td>basic</td>\n      <td>200.0</td>\n    </tr>\n    <tr>\n      <th>6</th>\n      <td>27</td>\n      <td>29</td>\n      <td>luxury</td>\n      <td>2108.0</td>\n    </tr>\n  </tbody>\n</table>\n</div>"
     },
     "execution_count": 4,
     "metadata": {},
     "output_type": "execute_result"
    }
   ]
  },
  {
   "cell_type": "code",
   "metadata": {
    "id": "8eAXz1A4i0gE"
   },
   "source": [],
   "execution_count": null,
   "outputs": []
  },
  {
   "cell_type": "code",
   "metadata": {
    "id": "81FvX5XJi0gG",
    "ExecuteTime": {
     "end_time": "2024-06-15T12:10:40.327453Z",
     "start_time": "2024-06-15T12:10:40.314206Z"
    }
   },
   "source": [
    "# импортируем модуль, отвечающий за деревья решений\n",
    "from sklearn.tree import DecisionTreeClassifier\n",
    "from sklearn.tree import export_text"
   ],
   "execution_count": 6,
   "outputs": []
  },
  {
   "cell_type": "code",
   "metadata": {
    "id": "pEzozG4Ti0gI",
    "ExecuteTime": {
     "end_time": "2024-06-15T12:10:42.930261Z",
     "start_time": "2024-06-15T12:10:42.897979Z"
    }
   },
   "source": [
    "# выгружаем признаки и целевые значения в отдельные переменные\n",
    "X = houses[[\"dim_1\", \"dim_2\"]]\n",
    "y = houses[\"level\"]\n",
    "\n",
    "# создаем классификатор\n",
    "cl = DecisionTreeClassifier().fit(X, y)"
   ],
   "execution_count": 7,
   "outputs": []
  },
  {
   "cell_type": "code",
   "metadata": {
    "id": "r2CRqOdIi0gK",
    "outputId": "fc58c9a2-c1d5-40d2-dd91-39032b828930",
    "ExecuteTime": {
     "end_time": "2024-06-15T12:11:09.297676Z",
     "start_time": "2024-06-15T12:11:09.278540Z"
    }
   },
   "source": [
    "# выведем информацию для интерпретации построенной модели\n",
    "print(export_text(cl))"
   ],
   "execution_count": 8,
   "outputs": [
    {
     "name": "stdout",
     "output_type": "stream",
     "text": [
      "|--- feature_1 <= 10.00\n",
      "|   |--- class: basic\n",
      "|--- feature_1 >  10.00\n",
      "|   |--- feature_0 <= 25.00\n",
      "|   |   |--- class: medium\n",
      "|   |--- feature_0 >  25.00\n",
      "|   |   |--- class: luxury\n"
     ]
    }
   ]
  },
  {
   "cell_type": "code",
   "metadata": {
    "id": "BZuXoNS-i0gN",
    "outputId": "10092c94-8de4-42ee-a42c-ac8fe139fdf6",
    "ExecuteTime": {
     "end_time": "2024-06-15T12:13:58.895333Z",
     "start_time": "2024-06-15T12:13:58.871219Z"
    }
   },
   "source": [
    "# проведем классификацию\n",
    "cl.predict(X[7:8])[0], y[11]"
   ],
   "execution_count": 12,
   "outputs": [
    {
     "data": {
      "text/plain": "('medium', 'luxury')"
     },
     "execution_count": 12,
     "metadata": {},
     "output_type": "execute_result"
    }
   ]
  },
  {
   "cell_type": "code",
   "metadata": {
    "id": "ZayOdxRJi0gP"
   },
   "source": [],
   "execution_count": null,
   "outputs": []
  }
 ]
}
