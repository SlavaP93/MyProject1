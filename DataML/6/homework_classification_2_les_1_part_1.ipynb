{
 "nbformat": 4,
 "nbformat_minor": 0,
 "metadata": {
  "colab": {
   "provenance": []
  },
  "kernelspec": {
   "display_name": "Python 3",
   "language": "python",
   "name": "python3"
  },
  "language_info": {
   "codemirror_mode": {
    "name": "ipython",
    "version": 3
   },
   "file_extension": ".py",
   "mimetype": "text/x-python",
   "name": "python",
   "nbconvert_exporter": "python",
   "pygments_lexer": "ipython3",
   "version": "3.6.3"
  }
 },
 "cells": [
  {
   "cell_type": "markdown",
   "metadata": {
    "id": "lRkA2eOKzXtO"
   },
   "source": [
    "# Урок 2. Метрики качества классификации ч.1\n",
    "\n",
    "В уроке мы разбирали матрицу ошибок и некоторые метрики, основанные на терминах матрицы ошибок. Здесь же посмотрим, как эти метрики применять на практике и что  по ним можно выяснить."
   ]
  },
  {
   "cell_type": "markdown",
   "metadata": {
    "id": "ihmfQuGxzXtQ"
   },
   "source": [
    "### 1.1\n",
    "Выкачайте тренировочный датасет Titanic - train.csv - с сайта [kaggle](https://www.kaggle.com/c/titanic/data). С помощью функции pd.read_csv() загрузите данные в датафрейм. Выведите первые 20 строк и проанализируйте данные: какие колонки присутствуют (более конкретная информация по ним есть на сайте kaggle), каким образом в них обозначены данные и какие типы данных используются (используйте pandas.dtypes)."
   ]
  },
  {
   "cell_type": "code",
   "metadata": {
    "id": "PV-jZFDRzXtR",
    "ExecuteTime": {
     "end_time": "2024-07-01T10:43:11.366155Z",
     "start_time": "2024-07-01T10:43:11.142092Z"
    }
   },
   "source": [
    "import pandas as pd"
   ],
   "execution_count": 301,
   "outputs": []
  },
  {
   "cell_type": "code",
   "metadata": {
    "id": "1-Zv8POVzXtU",
    "ExecuteTime": {
     "end_time": "2024-07-01T10:43:12.073455Z",
     "start_time": "2024-07-01T10:43:11.386004Z"
    }
   },
   "source": [
    "titanik = pd.read_csv('titanic.csv')\n",
    "\n",
    "titanik.head(20)"
   ],
   "execution_count": 302,
   "outputs": [
    {
     "data": {
      "text/plain": "    pclass  survived                                               name  \\\n0      1.0       1.0                      Allen, Miss. Elisabeth Walton   \n1      1.0       1.0                     Allison, Master. Hudson Trevor   \n2      1.0       0.0                       Allison, Miss. Helen Loraine   \n3      1.0       0.0               Allison, Mr. Hudson Joshua Creighton   \n4      1.0       0.0    Allison, Mrs. Hudson J C (Bessie Waldo Daniels)   \n5      1.0       1.0                                Anderson, Mr. Harry   \n6      1.0       1.0                  Andrews, Miss. Kornelia Theodosia   \n7      1.0       0.0                             Andrews, Mr. Thomas Jr   \n8      1.0       1.0      Appleton, Mrs. Edward Dale (Charlotte Lamson)   \n9      1.0       0.0                            Artagaveytia, Mr. Ramon   \n10     1.0       0.0                             Astor, Col. John Jacob   \n11     1.0       1.0  Astor, Mrs. John Jacob (Madeleine Talmadge Force)   \n12     1.0       1.0                      Aubart, Mme. Leontine Pauline   \n13     1.0       1.0                       Barber, Miss. Ellen \"Nellie\"   \n14     1.0       1.0               Barkworth, Mr. Algernon Henry Wilson   \n15     1.0       0.0                                Baumann, Mr. John D   \n16     1.0       0.0                           Baxter, Mr. Quigg Edmond   \n17     1.0       1.0    Baxter, Mrs. James (Helene DeLaudeniere Chaput)   \n18     1.0       1.0                              Bazzani, Miss. Albina   \n19     1.0       0.0                               Beattie, Mr. Thomson   \n\n       sex      age  sibsp  parch    ticket      fare    cabin embarked boat  \\\n0   female  29.0000    0.0    0.0     24160  211.3375       B5        S    2   \n1     male   0.9167    1.0    2.0    113781  151.5500  C22 C26        S   11   \n2   female   2.0000    1.0    2.0    113781  151.5500  C22 C26        S  NaN   \n3     male  30.0000    1.0    2.0    113781  151.5500  C22 C26        S  NaN   \n4   female  25.0000    1.0    2.0    113781  151.5500  C22 C26        S  NaN   \n5     male  48.0000    0.0    0.0     19952   26.5500      E12        S    3   \n6   female  63.0000    1.0    0.0     13502   77.9583       D7        S   10   \n7     male  39.0000    0.0    0.0    112050    0.0000      A36        S  NaN   \n8   female  53.0000    2.0    0.0     11769   51.4792     C101        S    D   \n9     male  71.0000    0.0    0.0  PC 17609   49.5042      NaN        C  NaN   \n10    male  47.0000    1.0    0.0  PC 17757  227.5250  C62 C64        C  NaN   \n11  female  18.0000    1.0    0.0  PC 17757  227.5250  C62 C64        C    4   \n12  female  24.0000    0.0    0.0  PC 17477   69.3000      B35        C    9   \n13  female  26.0000    0.0    0.0     19877   78.8500      NaN        S    6   \n14    male  80.0000    0.0    0.0     27042   30.0000      A23        S    B   \n15    male      NaN    0.0    0.0  PC 17318   25.9250      NaN        S  NaN   \n16    male  24.0000    0.0    1.0  PC 17558  247.5208  B58 B60        C  NaN   \n17  female  50.0000    0.0    1.0  PC 17558  247.5208  B58 B60        C    6   \n18  female  32.0000    0.0    0.0     11813   76.2917      D15        C    8   \n19    male  36.0000    0.0    0.0     13050   75.2417       C6        C    A   \n\n     body                        home.dest  \n0     NaN                     St Louis, MO  \n1     NaN  Montreal, PQ / Chesterville, ON  \n2     NaN  Montreal, PQ / Chesterville, ON  \n3   135.0  Montreal, PQ / Chesterville, ON  \n4     NaN  Montreal, PQ / Chesterville, ON  \n5     NaN                     New York, NY  \n6     NaN                       Hudson, NY  \n7     NaN                      Belfast, NI  \n8     NaN              Bayside, Queens, NY  \n9    22.0              Montevideo, Uruguay  \n10  124.0                     New York, NY  \n11    NaN                     New York, NY  \n12    NaN                    Paris, France  \n13    NaN                              NaN  \n14    NaN                    Hessle, Yorks  \n15    NaN                     New York, NY  \n16    NaN                     Montreal, PQ  \n17    NaN                     Montreal, PQ  \n18    NaN                              NaN  \n19    NaN                     Winnipeg, MN  ",
      "text/html": "<div>\n<style scoped>\n    .dataframe tbody tr th:only-of-type {\n        vertical-align: middle;\n    }\n\n    .dataframe tbody tr th {\n        vertical-align: top;\n    }\n\n    .dataframe thead th {\n        text-align: right;\n    }\n</style>\n<table border=\"1\" class=\"dataframe\">\n  <thead>\n    <tr style=\"text-align: right;\">\n      <th></th>\n      <th>pclass</th>\n      <th>survived</th>\n      <th>name</th>\n      <th>sex</th>\n      <th>age</th>\n      <th>sibsp</th>\n      <th>parch</th>\n      <th>ticket</th>\n      <th>fare</th>\n      <th>cabin</th>\n      <th>embarked</th>\n      <th>boat</th>\n      <th>body</th>\n      <th>home.dest</th>\n    </tr>\n  </thead>\n  <tbody>\n    <tr>\n      <th>0</th>\n      <td>1.0</td>\n      <td>1.0</td>\n      <td>Allen, Miss. Elisabeth Walton</td>\n      <td>female</td>\n      <td>29.0000</td>\n      <td>0.0</td>\n      <td>0.0</td>\n      <td>24160</td>\n      <td>211.3375</td>\n      <td>B5</td>\n      <td>S</td>\n      <td>2</td>\n      <td>NaN</td>\n      <td>St Louis, MO</td>\n    </tr>\n    <tr>\n      <th>1</th>\n      <td>1.0</td>\n      <td>1.0</td>\n      <td>Allison, Master. Hudson Trevor</td>\n      <td>male</td>\n      <td>0.9167</td>\n      <td>1.0</td>\n      <td>2.0</td>\n      <td>113781</td>\n      <td>151.5500</td>\n      <td>C22 C26</td>\n      <td>S</td>\n      <td>11</td>\n      <td>NaN</td>\n      <td>Montreal, PQ / Chesterville, ON</td>\n    </tr>\n    <tr>\n      <th>2</th>\n      <td>1.0</td>\n      <td>0.0</td>\n      <td>Allison, Miss. Helen Loraine</td>\n      <td>female</td>\n      <td>2.0000</td>\n      <td>1.0</td>\n      <td>2.0</td>\n      <td>113781</td>\n      <td>151.5500</td>\n      <td>C22 C26</td>\n      <td>S</td>\n      <td>NaN</td>\n      <td>NaN</td>\n      <td>Montreal, PQ / Chesterville, ON</td>\n    </tr>\n    <tr>\n      <th>3</th>\n      <td>1.0</td>\n      <td>0.0</td>\n      <td>Allison, Mr. Hudson Joshua Creighton</td>\n      <td>male</td>\n      <td>30.0000</td>\n      <td>1.0</td>\n      <td>2.0</td>\n      <td>113781</td>\n      <td>151.5500</td>\n      <td>C22 C26</td>\n      <td>S</td>\n      <td>NaN</td>\n      <td>135.0</td>\n      <td>Montreal, PQ / Chesterville, ON</td>\n    </tr>\n    <tr>\n      <th>4</th>\n      <td>1.0</td>\n      <td>0.0</td>\n      <td>Allison, Mrs. Hudson J C (Bessie Waldo Daniels)</td>\n      <td>female</td>\n      <td>25.0000</td>\n      <td>1.0</td>\n      <td>2.0</td>\n      <td>113781</td>\n      <td>151.5500</td>\n      <td>C22 C26</td>\n      <td>S</td>\n      <td>NaN</td>\n      <td>NaN</td>\n      <td>Montreal, PQ / Chesterville, ON</td>\n    </tr>\n    <tr>\n      <th>5</th>\n      <td>1.0</td>\n      <td>1.0</td>\n      <td>Anderson, Mr. Harry</td>\n      <td>male</td>\n      <td>48.0000</td>\n      <td>0.0</td>\n      <td>0.0</td>\n      <td>19952</td>\n      <td>26.5500</td>\n      <td>E12</td>\n      <td>S</td>\n      <td>3</td>\n      <td>NaN</td>\n      <td>New York, NY</td>\n    </tr>\n    <tr>\n      <th>6</th>\n      <td>1.0</td>\n      <td>1.0</td>\n      <td>Andrews, Miss. Kornelia Theodosia</td>\n      <td>female</td>\n      <td>63.0000</td>\n      <td>1.0</td>\n      <td>0.0</td>\n      <td>13502</td>\n      <td>77.9583</td>\n      <td>D7</td>\n      <td>S</td>\n      <td>10</td>\n      <td>NaN</td>\n      <td>Hudson, NY</td>\n    </tr>\n    <tr>\n      <th>7</th>\n      <td>1.0</td>\n      <td>0.0</td>\n      <td>Andrews, Mr. Thomas Jr</td>\n      <td>male</td>\n      <td>39.0000</td>\n      <td>0.0</td>\n      <td>0.0</td>\n      <td>112050</td>\n      <td>0.0000</td>\n      <td>A36</td>\n      <td>S</td>\n      <td>NaN</td>\n      <td>NaN</td>\n      <td>Belfast, NI</td>\n    </tr>\n    <tr>\n      <th>8</th>\n      <td>1.0</td>\n      <td>1.0</td>\n      <td>Appleton, Mrs. Edward Dale (Charlotte Lamson)</td>\n      <td>female</td>\n      <td>53.0000</td>\n      <td>2.0</td>\n      <td>0.0</td>\n      <td>11769</td>\n      <td>51.4792</td>\n      <td>C101</td>\n      <td>S</td>\n      <td>D</td>\n      <td>NaN</td>\n      <td>Bayside, Queens, NY</td>\n    </tr>\n    <tr>\n      <th>9</th>\n      <td>1.0</td>\n      <td>0.0</td>\n      <td>Artagaveytia, Mr. Ramon</td>\n      <td>male</td>\n      <td>71.0000</td>\n      <td>0.0</td>\n      <td>0.0</td>\n      <td>PC 17609</td>\n      <td>49.5042</td>\n      <td>NaN</td>\n      <td>C</td>\n      <td>NaN</td>\n      <td>22.0</td>\n      <td>Montevideo, Uruguay</td>\n    </tr>\n    <tr>\n      <th>10</th>\n      <td>1.0</td>\n      <td>0.0</td>\n      <td>Astor, Col. John Jacob</td>\n      <td>male</td>\n      <td>47.0000</td>\n      <td>1.0</td>\n      <td>0.0</td>\n      <td>PC 17757</td>\n      <td>227.5250</td>\n      <td>C62 C64</td>\n      <td>C</td>\n      <td>NaN</td>\n      <td>124.0</td>\n      <td>New York, NY</td>\n    </tr>\n    <tr>\n      <th>11</th>\n      <td>1.0</td>\n      <td>1.0</td>\n      <td>Astor, Mrs. John Jacob (Madeleine Talmadge Force)</td>\n      <td>female</td>\n      <td>18.0000</td>\n      <td>1.0</td>\n      <td>0.0</td>\n      <td>PC 17757</td>\n      <td>227.5250</td>\n      <td>C62 C64</td>\n      <td>C</td>\n      <td>4</td>\n      <td>NaN</td>\n      <td>New York, NY</td>\n    </tr>\n    <tr>\n      <th>12</th>\n      <td>1.0</td>\n      <td>1.0</td>\n      <td>Aubart, Mme. Leontine Pauline</td>\n      <td>female</td>\n      <td>24.0000</td>\n      <td>0.0</td>\n      <td>0.0</td>\n      <td>PC 17477</td>\n      <td>69.3000</td>\n      <td>B35</td>\n      <td>C</td>\n      <td>9</td>\n      <td>NaN</td>\n      <td>Paris, France</td>\n    </tr>\n    <tr>\n      <th>13</th>\n      <td>1.0</td>\n      <td>1.0</td>\n      <td>Barber, Miss. Ellen \"Nellie\"</td>\n      <td>female</td>\n      <td>26.0000</td>\n      <td>0.0</td>\n      <td>0.0</td>\n      <td>19877</td>\n      <td>78.8500</td>\n      <td>NaN</td>\n      <td>S</td>\n      <td>6</td>\n      <td>NaN</td>\n      <td>NaN</td>\n    </tr>\n    <tr>\n      <th>14</th>\n      <td>1.0</td>\n      <td>1.0</td>\n      <td>Barkworth, Mr. Algernon Henry Wilson</td>\n      <td>male</td>\n      <td>80.0000</td>\n      <td>0.0</td>\n      <td>0.0</td>\n      <td>27042</td>\n      <td>30.0000</td>\n      <td>A23</td>\n      <td>S</td>\n      <td>B</td>\n      <td>NaN</td>\n      <td>Hessle, Yorks</td>\n    </tr>\n    <tr>\n      <th>15</th>\n      <td>1.0</td>\n      <td>0.0</td>\n      <td>Baumann, Mr. John D</td>\n      <td>male</td>\n      <td>NaN</td>\n      <td>0.0</td>\n      <td>0.0</td>\n      <td>PC 17318</td>\n      <td>25.9250</td>\n      <td>NaN</td>\n      <td>S</td>\n      <td>NaN</td>\n      <td>NaN</td>\n      <td>New York, NY</td>\n    </tr>\n    <tr>\n      <th>16</th>\n      <td>1.0</td>\n      <td>0.0</td>\n      <td>Baxter, Mr. Quigg Edmond</td>\n      <td>male</td>\n      <td>24.0000</td>\n      <td>0.0</td>\n      <td>1.0</td>\n      <td>PC 17558</td>\n      <td>247.5208</td>\n      <td>B58 B60</td>\n      <td>C</td>\n      <td>NaN</td>\n      <td>NaN</td>\n      <td>Montreal, PQ</td>\n    </tr>\n    <tr>\n      <th>17</th>\n      <td>1.0</td>\n      <td>1.0</td>\n      <td>Baxter, Mrs. James (Helene DeLaudeniere Chaput)</td>\n      <td>female</td>\n      <td>50.0000</td>\n      <td>0.0</td>\n      <td>1.0</td>\n      <td>PC 17558</td>\n      <td>247.5208</td>\n      <td>B58 B60</td>\n      <td>C</td>\n      <td>6</td>\n      <td>NaN</td>\n      <td>Montreal, PQ</td>\n    </tr>\n    <tr>\n      <th>18</th>\n      <td>1.0</td>\n      <td>1.0</td>\n      <td>Bazzani, Miss. Albina</td>\n      <td>female</td>\n      <td>32.0000</td>\n      <td>0.0</td>\n      <td>0.0</td>\n      <td>11813</td>\n      <td>76.2917</td>\n      <td>D15</td>\n      <td>C</td>\n      <td>8</td>\n      <td>NaN</td>\n      <td>NaN</td>\n    </tr>\n    <tr>\n      <th>19</th>\n      <td>1.0</td>\n      <td>0.0</td>\n      <td>Beattie, Mr. Thomson</td>\n      <td>male</td>\n      <td>36.0000</td>\n      <td>0.0</td>\n      <td>0.0</td>\n      <td>13050</td>\n      <td>75.2417</td>\n      <td>C6</td>\n      <td>C</td>\n      <td>A</td>\n      <td>NaN</td>\n      <td>Winnipeg, MN</td>\n    </tr>\n  </tbody>\n</table>\n</div>"
     },
     "execution_count": 302,
     "metadata": {},
     "output_type": "execute_result"
    }
   ]
  },
  {
   "cell_type": "markdown",
   "metadata": {
    "id": "W67hWJy1zXtX"
   },
   "source": [
    "### 1.2\n",
    "Проверьте, имеются ли пропущенные значения в колонках, и выведите сумму всех пропущенных значений в каждой из колонок."
   ]
  },
  {
   "cell_type": "code",
   "metadata": {
    "id": "UrWKo-nZzXtX",
    "ExecuteTime": {
     "end_time": "2024-07-01T10:43:12.161156Z",
     "start_time": "2024-07-01T10:43:12.094994Z"
    }
   },
   "source": [
    "titanik.isna().sum().sum()\n",
    "titanik.age.isna().sum()\n",
    "\n",
    "\n"
   ],
   "execution_count": 303,
   "outputs": [
    {
     "data": {
      "text/plain": "264"
     },
     "execution_count": 303,
     "metadata": {},
     "output_type": "execute_result"
    }
   ]
  },
  {
   "cell_type": "markdown",
   "metadata": {
    "id": "WEXNaPplzXtZ"
   },
   "source": [
    "### 1.3\n",
    "Замените все пропущенные значения колонки Age на медианы в зависимости от пола человека: т.е. если пол человека в строке с пропущенным значением \"male\", заменяете пропущенное значение возраста на медиану по всем известным возрастам мужчин, и наоборот. Выведите медианы возраста в зависимости от пола. Пропущенные значения колонок Cabin и Embarked замените на U (Unknown)."
   ]
  },
  {
   "cell_type": "markdown",
   "metadata": {
    "id": "iN0qq_kAzXta"
   },
   "source": [
    "Примечание: для группировки по полу можно использовать метод df.groupby(), который имеет встроенные агрегатные функции (в т.ч. для вычисления медианы).  Для установки пропущенных значений в датасете воспользуйтесь функцией df.apply()."
   ]
  },
  {
   "cell_type": "code",
   "metadata": {
    "id": "X99uZ48yzXtb",
    "ExecuteTime": {
     "end_time": "2024-07-01T10:43:13.082652Z",
     "start_time": "2024-07-01T10:43:12.175646Z"
    }
   },
   "source": [
    "titanik_male = titanik[titanik.sex=='male']\n",
    "\n",
    "new = titanik_male[titanik_male.age.isna()].fillna(titanik_male.age.mean())\n",
    "titanik_male =titanik_male.combine_first(new)\n",
    "titanik_female = titanik[titanik.sex=='female']\n",
    "\n",
    "new2 = titanik_female[titanik_female.age.isna()].fillna(titanik_female.age.mean())\n",
    "titanik_female =titanik_female.combine_first(new2)\n",
    "\n",
    "resault = pd.concat([titanik_female,titanik_male])\n",
    "resault.cabin = resault.cabin.fillna('U')\n",
    "resault.embarked = resault.embarked.fillna('U')\n",
    "resault\n"
   ],
   "execution_count": 304,
   "outputs": [
    {
     "data": {
      "text/plain": "      pclass  survived                                             name  \\\n0        1.0       1.0                    Allen, Miss. Elisabeth Walton   \n2        1.0       0.0                     Allison, Miss. Helen Loraine   \n4        1.0       0.0  Allison, Mrs. Hudson J C (Bessie Waldo Daniels)   \n6        1.0       1.0                Andrews, Miss. Kornelia Theodosia   \n8        1.0       1.0    Appleton, Mrs. Edward Dale (Charlotte Lamson)   \n...      ...       ...                                              ...   \n1302     3.0       0.0                                Yousif, Mr. Wazli   \n1303     3.0       0.0                            Yousseff, Mr. Gerious   \n1306     3.0       0.0                        Zakarian, Mr. Mapriededer   \n1307     3.0       0.0                              Zakarian, Mr. Ortin   \n1308     3.0       0.0                               Zimmerman, Mr. Leo   \n\n         sex        age  sibsp  parch  ticket      fare      cabin embarked  \\\n0     female  29.000000    0.0    0.0   24160  211.3375         B5        S   \n2     female   2.000000    1.0    2.0  113781  151.5500    C22 C26        S   \n4     female  25.000000    1.0    2.0  113781  151.5500    C22 C26        S   \n6     female  63.000000    1.0    0.0   13502   77.9583         D7        S   \n8     female  53.000000    2.0    0.0   11769   51.4792       C101        S   \n...      ...        ...    ...    ...     ...       ...        ...      ...   \n1302    male  30.585233    0.0    0.0    2647    7.2250  30.585233        C   \n1303    male  30.585233    0.0    0.0    2627   14.4583  30.585233        C   \n1306    male  26.500000    0.0    0.0    2656    7.2250          U        C   \n1307    male  27.000000    0.0    0.0    2670    7.2250          U        C   \n1308    male  29.000000    0.0    0.0  315082    7.8750          U        S   \n\n           boat        body                        home.dest  \n0             2         NaN                     St Louis, MO  \n2           NaN         NaN  Montreal, PQ / Chesterville, ON  \n4           NaN         NaN  Montreal, PQ / Chesterville, ON  \n6            10         NaN                       Hudson, NY  \n8             D         NaN              Bayside, Queens, NY  \n...         ...         ...                              ...  \n1302  30.585233   30.585233                        30.585233  \n1303  30.585233   30.585233                        30.585233  \n1306        NaN  304.000000                              NaN  \n1307        NaN         NaN                              NaN  \n1308        NaN         NaN                              NaN  \n\n[1309 rows x 14 columns]",
      "text/html": "<div>\n<style scoped>\n    .dataframe tbody tr th:only-of-type {\n        vertical-align: middle;\n    }\n\n    .dataframe tbody tr th {\n        vertical-align: top;\n    }\n\n    .dataframe thead th {\n        text-align: right;\n    }\n</style>\n<table border=\"1\" class=\"dataframe\">\n  <thead>\n    <tr style=\"text-align: right;\">\n      <th></th>\n      <th>pclass</th>\n      <th>survived</th>\n      <th>name</th>\n      <th>sex</th>\n      <th>age</th>\n      <th>sibsp</th>\n      <th>parch</th>\n      <th>ticket</th>\n      <th>fare</th>\n      <th>cabin</th>\n      <th>embarked</th>\n      <th>boat</th>\n      <th>body</th>\n      <th>home.dest</th>\n    </tr>\n  </thead>\n  <tbody>\n    <tr>\n      <th>0</th>\n      <td>1.0</td>\n      <td>1.0</td>\n      <td>Allen, Miss. Elisabeth Walton</td>\n      <td>female</td>\n      <td>29.000000</td>\n      <td>0.0</td>\n      <td>0.0</td>\n      <td>24160</td>\n      <td>211.3375</td>\n      <td>B5</td>\n      <td>S</td>\n      <td>2</td>\n      <td>NaN</td>\n      <td>St Louis, MO</td>\n    </tr>\n    <tr>\n      <th>2</th>\n      <td>1.0</td>\n      <td>0.0</td>\n      <td>Allison, Miss. Helen Loraine</td>\n      <td>female</td>\n      <td>2.000000</td>\n      <td>1.0</td>\n      <td>2.0</td>\n      <td>113781</td>\n      <td>151.5500</td>\n      <td>C22 C26</td>\n      <td>S</td>\n      <td>NaN</td>\n      <td>NaN</td>\n      <td>Montreal, PQ / Chesterville, ON</td>\n    </tr>\n    <tr>\n      <th>4</th>\n      <td>1.0</td>\n      <td>0.0</td>\n      <td>Allison, Mrs. Hudson J C (Bessie Waldo Daniels)</td>\n      <td>female</td>\n      <td>25.000000</td>\n      <td>1.0</td>\n      <td>2.0</td>\n      <td>113781</td>\n      <td>151.5500</td>\n      <td>C22 C26</td>\n      <td>S</td>\n      <td>NaN</td>\n      <td>NaN</td>\n      <td>Montreal, PQ / Chesterville, ON</td>\n    </tr>\n    <tr>\n      <th>6</th>\n      <td>1.0</td>\n      <td>1.0</td>\n      <td>Andrews, Miss. Kornelia Theodosia</td>\n      <td>female</td>\n      <td>63.000000</td>\n      <td>1.0</td>\n      <td>0.0</td>\n      <td>13502</td>\n      <td>77.9583</td>\n      <td>D7</td>\n      <td>S</td>\n      <td>10</td>\n      <td>NaN</td>\n      <td>Hudson, NY</td>\n    </tr>\n    <tr>\n      <th>8</th>\n      <td>1.0</td>\n      <td>1.0</td>\n      <td>Appleton, Mrs. Edward Dale (Charlotte Lamson)</td>\n      <td>female</td>\n      <td>53.000000</td>\n      <td>2.0</td>\n      <td>0.0</td>\n      <td>11769</td>\n      <td>51.4792</td>\n      <td>C101</td>\n      <td>S</td>\n      <td>D</td>\n      <td>NaN</td>\n      <td>Bayside, Queens, NY</td>\n    </tr>\n    <tr>\n      <th>...</th>\n      <td>...</td>\n      <td>...</td>\n      <td>...</td>\n      <td>...</td>\n      <td>...</td>\n      <td>...</td>\n      <td>...</td>\n      <td>...</td>\n      <td>...</td>\n      <td>...</td>\n      <td>...</td>\n      <td>...</td>\n      <td>...</td>\n      <td>...</td>\n    </tr>\n    <tr>\n      <th>1302</th>\n      <td>3.0</td>\n      <td>0.0</td>\n      <td>Yousif, Mr. Wazli</td>\n      <td>male</td>\n      <td>30.585233</td>\n      <td>0.0</td>\n      <td>0.0</td>\n      <td>2647</td>\n      <td>7.2250</td>\n      <td>30.585233</td>\n      <td>C</td>\n      <td>30.585233</td>\n      <td>30.585233</td>\n      <td>30.585233</td>\n    </tr>\n    <tr>\n      <th>1303</th>\n      <td>3.0</td>\n      <td>0.0</td>\n      <td>Yousseff, Mr. Gerious</td>\n      <td>male</td>\n      <td>30.585233</td>\n      <td>0.0</td>\n      <td>0.0</td>\n      <td>2627</td>\n      <td>14.4583</td>\n      <td>30.585233</td>\n      <td>C</td>\n      <td>30.585233</td>\n      <td>30.585233</td>\n      <td>30.585233</td>\n    </tr>\n    <tr>\n      <th>1306</th>\n      <td>3.0</td>\n      <td>0.0</td>\n      <td>Zakarian, Mr. Mapriededer</td>\n      <td>male</td>\n      <td>26.500000</td>\n      <td>0.0</td>\n      <td>0.0</td>\n      <td>2656</td>\n      <td>7.2250</td>\n      <td>U</td>\n      <td>C</td>\n      <td>NaN</td>\n      <td>304.000000</td>\n      <td>NaN</td>\n    </tr>\n    <tr>\n      <th>1307</th>\n      <td>3.0</td>\n      <td>0.0</td>\n      <td>Zakarian, Mr. Ortin</td>\n      <td>male</td>\n      <td>27.000000</td>\n      <td>0.0</td>\n      <td>0.0</td>\n      <td>2670</td>\n      <td>7.2250</td>\n      <td>U</td>\n      <td>C</td>\n      <td>NaN</td>\n      <td>NaN</td>\n      <td>NaN</td>\n    </tr>\n    <tr>\n      <th>1308</th>\n      <td>3.0</td>\n      <td>0.0</td>\n      <td>Zimmerman, Mr. Leo</td>\n      <td>male</td>\n      <td>29.000000</td>\n      <td>0.0</td>\n      <td>0.0</td>\n      <td>315082</td>\n      <td>7.8750</td>\n      <td>U</td>\n      <td>S</td>\n      <td>NaN</td>\n      <td>NaN</td>\n      <td>NaN</td>\n    </tr>\n  </tbody>\n</table>\n<p>1309 rows × 14 columns</p>\n</div>"
     },
     "execution_count": 304,
     "metadata": {},
     "output_type": "execute_result"
    }
   ]
  },
  {
   "cell_type": "code",
   "outputs": [
    {
     "data": {
      "text/plain": "0       False\n2       False\n4       False\n6       False\n8       False\n        ...  \n1302    False\n1303    False\n1306    False\n1307    False\n1308    False\nName: sex, Length: 1309, dtype: bool"
     },
     "execution_count": 305,
     "metadata": {},
     "output_type": "execute_result"
    }
   ],
   "source": [
    "resault.sex.isna()\n"
   ],
   "metadata": {
    "collapsed": false,
    "ExecuteTime": {
     "end_time": "2024-07-01T10:43:13.148081Z",
     "start_time": "2024-07-01T10:43:13.106505Z"
    }
   },
   "execution_count": 305
  },
  {
   "cell_type": "code",
   "outputs": [],
   "source": [],
   "metadata": {
    "collapsed": false,
    "ExecuteTime": {
     "end_time": "2024-07-01T10:43:13.177330Z",
     "start_time": "2024-07-01T10:43:13.165012Z"
    }
   },
   "execution_count": 305
  },
  {
   "cell_type": "markdown",
   "metadata": {
    "id": "n4y7HgtRzXtd"
   },
   "source": [
    "### 1.4\n",
    "Выведите возраст пассажиров с PassengerID = [6, 20]. Убедитесь, что заполнены все пропущенные значения (воспользуйтесь функцией df.isnull() )."
   ]
  },
  {
   "cell_type": "code",
   "metadata": {
    "id": "zOb5XHuJzXte",
    "ExecuteTime": {
     "end_time": "2024-07-01T10:43:13.221701Z",
     "start_time": "2024-07-01T10:43:13.187345Z"
    }
   },
   "source": [
    "\n",
    "\n"
   ],
   "execution_count": 305,
   "outputs": []
  },
  {
   "cell_type": "markdown",
   "metadata": {
    "id": "9ayEbWnlzXth"
   },
   "source": [
    "Так как не все классификаторы могут работать с категориальными признаками, в данном случае необходимо заменить их на числовые.\n",
    "\n",
    "Также можно было бы выделить расширенные признаки, такие как статус пассажира (Mr., Mrs., Miss., Dr., Master. и т.д.), собственный индекс билета, индекс палубы и другие, но здесь ограничимся выбором более простых признаков."
   ]
  },
  {
   "cell_type": "markdown",
   "metadata": {
    "id": "yokvJp2dzXth"
   },
   "source": [
    "### 1.5\n",
    "В колонке Sex замените значения на 0, если пол \"male\", и на 1, если \"female\". В колонке Embarked замените параметры \"U\", \"S\", \"C\", \"Q\" на 0, 1, 2, 3 соответственно. Отбросьте колонки PassengerId, Name, Ticket, Cabin. Выведите первые 20 строк получившегося набора данных."
   ]
  },
  {
   "cell_type": "code",
   "metadata": {
    "id": "xf7r1L1SzXti",
    "ExecuteTime": {
     "end_time": "2024-07-01T10:43:13.453981Z",
     "start_time": "2024-07-01T10:43:13.233260Z"
    }
   },
   "source": [
    "resault.sex = resault.sex.map(lambda x: 0 if x == 'male' else 1)\n",
    "resault.embarked = resault.embarked.replace({'U':0, 'S':1, 'C':2, 'Q':3})\n",
    "resault.head(20)\n",
    "\n"
   ],
   "execution_count": 306,
   "outputs": [
    {
     "data": {
      "text/plain": "    pclass  survived                                               name  sex  \\\n0      1.0       1.0                      Allen, Miss. Elisabeth Walton    1   \n2      1.0       0.0                       Allison, Miss. Helen Loraine    1   \n4      1.0       0.0    Allison, Mrs. Hudson J C (Bessie Waldo Daniels)    1   \n6      1.0       1.0                  Andrews, Miss. Kornelia Theodosia    1   \n8      1.0       1.0      Appleton, Mrs. Edward Dale (Charlotte Lamson)    1   \n11     1.0       1.0  Astor, Mrs. John Jacob (Madeleine Talmadge Force)    1   \n12     1.0       1.0                      Aubart, Mme. Leontine Pauline    1   \n13     1.0       1.0                       Barber, Miss. Ellen \"Nellie\"    1   \n17     1.0       1.0    Baxter, Mrs. James (Helene DeLaudeniere Chaput)    1   \n18     1.0       1.0                              Bazzani, Miss. Albina    1   \n21     1.0       1.0   Beckwith, Mrs. Richard Leonard (Sallie Monypeny)    1   \n23     1.0       1.0                              Bidois, Miss. Rosalie    1   \n24     1.0       1.0                                  Bird, Miss. Ellen    1   \n27     1.0       1.0            Bishop, Mrs. Dickinson H (Helen Walton)    1   \n28     1.0       1.0                             Bissette, Miss. Amelia    1   \n32     1.0       1.0                            Bonnell, Miss. Caroline    1   \n33     1.0       1.0                           Bonnell, Miss. Elizabeth    1   \n35     1.0       1.0                           Bowen, Miss. Grace Scott    1   \n36     1.0       1.0                        Bowerman, Miss. Elsie Edith    1   \n41     1.0       1.0          Brown, Mrs. James Joseph (Margaret Tobin)    1   \n\n     age  sibsp  parch    ticket      fare    cabin  embarked boat  body  \\\n0   29.0    0.0    0.0     24160  211.3375       B5         1    2   NaN   \n2    2.0    1.0    2.0    113781  151.5500  C22 C26         1  NaN   NaN   \n4   25.0    1.0    2.0    113781  151.5500  C22 C26         1  NaN   NaN   \n6   63.0    1.0    0.0     13502   77.9583       D7         1   10   NaN   \n8   53.0    2.0    0.0     11769   51.4792     C101         1    D   NaN   \n11  18.0    1.0    0.0  PC 17757  227.5250  C62 C64         2    4   NaN   \n12  24.0    0.0    0.0  PC 17477   69.3000      B35         2    9   NaN   \n13  26.0    0.0    0.0     19877   78.8500        U         1    6   NaN   \n17  50.0    0.0    1.0  PC 17558  247.5208  B58 B60         2    6   NaN   \n18  32.0    0.0    0.0     11813   76.2917      D15         2    8   NaN   \n21  47.0    1.0    1.0     11751   52.5542      D35         1    5   NaN   \n23  42.0    0.0    0.0  PC 17757  227.5250        U         2    4   NaN   \n24  29.0    0.0    0.0  PC 17483  221.7792      C97         1    8   NaN   \n27  19.0    1.0    0.0     11967   91.0792      B49         2    7   NaN   \n28  35.0    0.0    0.0  PC 17760  135.6333      C99         1    8   NaN   \n32  30.0    0.0    0.0     36928  164.8667       C7         1    8   NaN   \n33  58.0    0.0    0.0    113783   26.5500     C103         1    8   NaN   \n35  45.0    0.0    0.0  PC 17608  262.3750        U         2    4   NaN   \n36  22.0    0.0    1.0    113505   55.0000      E33         1    6   NaN   \n41  44.0    0.0    0.0  PC 17610   27.7208       B4         2    6   NaN   \n\n                            home.dest  \n0                        St Louis, MO  \n2     Montreal, PQ / Chesterville, ON  \n4     Montreal, PQ / Chesterville, ON  \n6                          Hudson, NY  \n8                 Bayside, Queens, NY  \n11                       New York, NY  \n12                      Paris, France  \n13                                NaN  \n17                       Montreal, PQ  \n18                                NaN  \n21                       New York, NY  \n23                                NaN  \n24                                NaN  \n27                       Dowagiac, MI  \n28                                NaN  \n32                     Youngstown, OH  \n33  Birkdale, England Cleveland, Ohio  \n35                    Cooperstown, NY  \n36   St Leonards-on-Sea, England Ohio  \n41                         Denver, CO  ",
      "text/html": "<div>\n<style scoped>\n    .dataframe tbody tr th:only-of-type {\n        vertical-align: middle;\n    }\n\n    .dataframe tbody tr th {\n        vertical-align: top;\n    }\n\n    .dataframe thead th {\n        text-align: right;\n    }\n</style>\n<table border=\"1\" class=\"dataframe\">\n  <thead>\n    <tr style=\"text-align: right;\">\n      <th></th>\n      <th>pclass</th>\n      <th>survived</th>\n      <th>name</th>\n      <th>sex</th>\n      <th>age</th>\n      <th>sibsp</th>\n      <th>parch</th>\n      <th>ticket</th>\n      <th>fare</th>\n      <th>cabin</th>\n      <th>embarked</th>\n      <th>boat</th>\n      <th>body</th>\n      <th>home.dest</th>\n    </tr>\n  </thead>\n  <tbody>\n    <tr>\n      <th>0</th>\n      <td>1.0</td>\n      <td>1.0</td>\n      <td>Allen, Miss. Elisabeth Walton</td>\n      <td>1</td>\n      <td>29.0</td>\n      <td>0.0</td>\n      <td>0.0</td>\n      <td>24160</td>\n      <td>211.3375</td>\n      <td>B5</td>\n      <td>1</td>\n      <td>2</td>\n      <td>NaN</td>\n      <td>St Louis, MO</td>\n    </tr>\n    <tr>\n      <th>2</th>\n      <td>1.0</td>\n      <td>0.0</td>\n      <td>Allison, Miss. Helen Loraine</td>\n      <td>1</td>\n      <td>2.0</td>\n      <td>1.0</td>\n      <td>2.0</td>\n      <td>113781</td>\n      <td>151.5500</td>\n      <td>C22 C26</td>\n      <td>1</td>\n      <td>NaN</td>\n      <td>NaN</td>\n      <td>Montreal, PQ / Chesterville, ON</td>\n    </tr>\n    <tr>\n      <th>4</th>\n      <td>1.0</td>\n      <td>0.0</td>\n      <td>Allison, Mrs. Hudson J C (Bessie Waldo Daniels)</td>\n      <td>1</td>\n      <td>25.0</td>\n      <td>1.0</td>\n      <td>2.0</td>\n      <td>113781</td>\n      <td>151.5500</td>\n      <td>C22 C26</td>\n      <td>1</td>\n      <td>NaN</td>\n      <td>NaN</td>\n      <td>Montreal, PQ / Chesterville, ON</td>\n    </tr>\n    <tr>\n      <th>6</th>\n      <td>1.0</td>\n      <td>1.0</td>\n      <td>Andrews, Miss. Kornelia Theodosia</td>\n      <td>1</td>\n      <td>63.0</td>\n      <td>1.0</td>\n      <td>0.0</td>\n      <td>13502</td>\n      <td>77.9583</td>\n      <td>D7</td>\n      <td>1</td>\n      <td>10</td>\n      <td>NaN</td>\n      <td>Hudson, NY</td>\n    </tr>\n    <tr>\n      <th>8</th>\n      <td>1.0</td>\n      <td>1.0</td>\n      <td>Appleton, Mrs. Edward Dale (Charlotte Lamson)</td>\n      <td>1</td>\n      <td>53.0</td>\n      <td>2.0</td>\n      <td>0.0</td>\n      <td>11769</td>\n      <td>51.4792</td>\n      <td>C101</td>\n      <td>1</td>\n      <td>D</td>\n      <td>NaN</td>\n      <td>Bayside, Queens, NY</td>\n    </tr>\n    <tr>\n      <th>11</th>\n      <td>1.0</td>\n      <td>1.0</td>\n      <td>Astor, Mrs. John Jacob (Madeleine Talmadge Force)</td>\n      <td>1</td>\n      <td>18.0</td>\n      <td>1.0</td>\n      <td>0.0</td>\n      <td>PC 17757</td>\n      <td>227.5250</td>\n      <td>C62 C64</td>\n      <td>2</td>\n      <td>4</td>\n      <td>NaN</td>\n      <td>New York, NY</td>\n    </tr>\n    <tr>\n      <th>12</th>\n      <td>1.0</td>\n      <td>1.0</td>\n      <td>Aubart, Mme. Leontine Pauline</td>\n      <td>1</td>\n      <td>24.0</td>\n      <td>0.0</td>\n      <td>0.0</td>\n      <td>PC 17477</td>\n      <td>69.3000</td>\n      <td>B35</td>\n      <td>2</td>\n      <td>9</td>\n      <td>NaN</td>\n      <td>Paris, France</td>\n    </tr>\n    <tr>\n      <th>13</th>\n      <td>1.0</td>\n      <td>1.0</td>\n      <td>Barber, Miss. Ellen \"Nellie\"</td>\n      <td>1</td>\n      <td>26.0</td>\n      <td>0.0</td>\n      <td>0.0</td>\n      <td>19877</td>\n      <td>78.8500</td>\n      <td>U</td>\n      <td>1</td>\n      <td>6</td>\n      <td>NaN</td>\n      <td>NaN</td>\n    </tr>\n    <tr>\n      <th>17</th>\n      <td>1.0</td>\n      <td>1.0</td>\n      <td>Baxter, Mrs. James (Helene DeLaudeniere Chaput)</td>\n      <td>1</td>\n      <td>50.0</td>\n      <td>0.0</td>\n      <td>1.0</td>\n      <td>PC 17558</td>\n      <td>247.5208</td>\n      <td>B58 B60</td>\n      <td>2</td>\n      <td>6</td>\n      <td>NaN</td>\n      <td>Montreal, PQ</td>\n    </tr>\n    <tr>\n      <th>18</th>\n      <td>1.0</td>\n      <td>1.0</td>\n      <td>Bazzani, Miss. Albina</td>\n      <td>1</td>\n      <td>32.0</td>\n      <td>0.0</td>\n      <td>0.0</td>\n      <td>11813</td>\n      <td>76.2917</td>\n      <td>D15</td>\n      <td>2</td>\n      <td>8</td>\n      <td>NaN</td>\n      <td>NaN</td>\n    </tr>\n    <tr>\n      <th>21</th>\n      <td>1.0</td>\n      <td>1.0</td>\n      <td>Beckwith, Mrs. Richard Leonard (Sallie Monypeny)</td>\n      <td>1</td>\n      <td>47.0</td>\n      <td>1.0</td>\n      <td>1.0</td>\n      <td>11751</td>\n      <td>52.5542</td>\n      <td>D35</td>\n      <td>1</td>\n      <td>5</td>\n      <td>NaN</td>\n      <td>New York, NY</td>\n    </tr>\n    <tr>\n      <th>23</th>\n      <td>1.0</td>\n      <td>1.0</td>\n      <td>Bidois, Miss. Rosalie</td>\n      <td>1</td>\n      <td>42.0</td>\n      <td>0.0</td>\n      <td>0.0</td>\n      <td>PC 17757</td>\n      <td>227.5250</td>\n      <td>U</td>\n      <td>2</td>\n      <td>4</td>\n      <td>NaN</td>\n      <td>NaN</td>\n    </tr>\n    <tr>\n      <th>24</th>\n      <td>1.0</td>\n      <td>1.0</td>\n      <td>Bird, Miss. Ellen</td>\n      <td>1</td>\n      <td>29.0</td>\n      <td>0.0</td>\n      <td>0.0</td>\n      <td>PC 17483</td>\n      <td>221.7792</td>\n      <td>C97</td>\n      <td>1</td>\n      <td>8</td>\n      <td>NaN</td>\n      <td>NaN</td>\n    </tr>\n    <tr>\n      <th>27</th>\n      <td>1.0</td>\n      <td>1.0</td>\n      <td>Bishop, Mrs. Dickinson H (Helen Walton)</td>\n      <td>1</td>\n      <td>19.0</td>\n      <td>1.0</td>\n      <td>0.0</td>\n      <td>11967</td>\n      <td>91.0792</td>\n      <td>B49</td>\n      <td>2</td>\n      <td>7</td>\n      <td>NaN</td>\n      <td>Dowagiac, MI</td>\n    </tr>\n    <tr>\n      <th>28</th>\n      <td>1.0</td>\n      <td>1.0</td>\n      <td>Bissette, Miss. Amelia</td>\n      <td>1</td>\n      <td>35.0</td>\n      <td>0.0</td>\n      <td>0.0</td>\n      <td>PC 17760</td>\n      <td>135.6333</td>\n      <td>C99</td>\n      <td>1</td>\n      <td>8</td>\n      <td>NaN</td>\n      <td>NaN</td>\n    </tr>\n    <tr>\n      <th>32</th>\n      <td>1.0</td>\n      <td>1.0</td>\n      <td>Bonnell, Miss. Caroline</td>\n      <td>1</td>\n      <td>30.0</td>\n      <td>0.0</td>\n      <td>0.0</td>\n      <td>36928</td>\n      <td>164.8667</td>\n      <td>C7</td>\n      <td>1</td>\n      <td>8</td>\n      <td>NaN</td>\n      <td>Youngstown, OH</td>\n    </tr>\n    <tr>\n      <th>33</th>\n      <td>1.0</td>\n      <td>1.0</td>\n      <td>Bonnell, Miss. Elizabeth</td>\n      <td>1</td>\n      <td>58.0</td>\n      <td>0.0</td>\n      <td>0.0</td>\n      <td>113783</td>\n      <td>26.5500</td>\n      <td>C103</td>\n      <td>1</td>\n      <td>8</td>\n      <td>NaN</td>\n      <td>Birkdale, England Cleveland, Ohio</td>\n    </tr>\n    <tr>\n      <th>35</th>\n      <td>1.0</td>\n      <td>1.0</td>\n      <td>Bowen, Miss. Grace Scott</td>\n      <td>1</td>\n      <td>45.0</td>\n      <td>0.0</td>\n      <td>0.0</td>\n      <td>PC 17608</td>\n      <td>262.3750</td>\n      <td>U</td>\n      <td>2</td>\n      <td>4</td>\n      <td>NaN</td>\n      <td>Cooperstown, NY</td>\n    </tr>\n    <tr>\n      <th>36</th>\n      <td>1.0</td>\n      <td>1.0</td>\n      <td>Bowerman, Miss. Elsie Edith</td>\n      <td>1</td>\n      <td>22.0</td>\n      <td>0.0</td>\n      <td>1.0</td>\n      <td>113505</td>\n      <td>55.0000</td>\n      <td>E33</td>\n      <td>1</td>\n      <td>6</td>\n      <td>NaN</td>\n      <td>St Leonards-on-Sea, England Ohio</td>\n    </tr>\n    <tr>\n      <th>41</th>\n      <td>1.0</td>\n      <td>1.0</td>\n      <td>Brown, Mrs. James Joseph (Margaret Tobin)</td>\n      <td>1</td>\n      <td>44.0</td>\n      <td>0.0</td>\n      <td>0.0</td>\n      <td>PC 17610</td>\n      <td>27.7208</td>\n      <td>B4</td>\n      <td>2</td>\n      <td>6</td>\n      <td>NaN</td>\n      <td>Denver, CO</td>\n    </tr>\n  </tbody>\n</table>\n</div>"
     },
     "execution_count": 306,
     "metadata": {},
     "output_type": "execute_result"
    }
   ]
  },
  {
   "cell_type": "markdown",
   "metadata": {
    "id": "qMAW08A5zXtk"
   },
   "source": [
    "### 1.6\n",
    "Приступим к построению классификаторов. **Условимся, что, если функция или объект модели имеют параметр random_state, то устанавливаем его равным 17 в каждом из случаев.**\n",
    "\n",
    "Разделите данные на тренировочный и тестовый датасеты, установив размер тестового как 0.25 (первая колонка Survived является целевой, поэтому необходимо сначала ее отделить от признаков)."
   ]
  },
  {
   "cell_type": "code",
   "metadata": {
    "id": "ld64gUCAzXtm",
    "ExecuteTime": {
     "end_time": "2024-07-01T10:43:13.584453Z",
     "start_time": "2024-07-01T10:43:13.469653Z"
    }
   },
   "source": [
    "from sklearn.model_selection import train_test_split\n",
    "target = pd.DataFrame(resault.survived)\n",
    "resault.pop('survived')"
   ],
   "execution_count": 307,
   "outputs": [
    {
     "data": {
      "text/plain": "0       1.0\n2       0.0\n4       0.0\n6       1.0\n8       1.0\n       ... \n1302    0.0\n1303    0.0\n1306    0.0\n1307    0.0\n1308    0.0\nName: survived, Length: 1309, dtype: float64"
     },
     "execution_count": 307,
     "metadata": {},
     "output_type": "execute_result"
    }
   ]
  },
  {
   "cell_type": "code",
   "metadata": {
    "id": "jWs-vIXdzXtr",
    "ExecuteTime": {
     "end_time": "2024-07-01T10:43:13.782549Z",
     "start_time": "2024-07-01T10:43:13.591669Z"
    }
   },
   "source": [
    "x_train,x_test, y_train, y_test = train_test_split(resault[['sex','age']], target, test_size=0.25, random_state=17)\n",
    "\n",
    "\n",
    "x_train"
   ],
   "execution_count": 308,
   "outputs": [
    {
     "data": {
      "text/plain": "      sex   age\n1263    0  11.5\n1008    1  35.0\n859     1  18.0\n831     0  40.0\n1280    0  22.0\n...   ...   ...\n497     0  40.0\n1086    1  31.0\n322     1  36.0\n1251    0  30.5\n285     0  67.0\n\n[981 rows x 2 columns]",
      "text/html": "<div>\n<style scoped>\n    .dataframe tbody tr th:only-of-type {\n        vertical-align: middle;\n    }\n\n    .dataframe tbody tr th {\n        vertical-align: top;\n    }\n\n    .dataframe thead th {\n        text-align: right;\n    }\n</style>\n<table border=\"1\" class=\"dataframe\">\n  <thead>\n    <tr style=\"text-align: right;\">\n      <th></th>\n      <th>sex</th>\n      <th>age</th>\n    </tr>\n  </thead>\n  <tbody>\n    <tr>\n      <th>1263</th>\n      <td>0</td>\n      <td>11.5</td>\n    </tr>\n    <tr>\n      <th>1008</th>\n      <td>1</td>\n      <td>35.0</td>\n    </tr>\n    <tr>\n      <th>859</th>\n      <td>1</td>\n      <td>18.0</td>\n    </tr>\n    <tr>\n      <th>831</th>\n      <td>0</td>\n      <td>40.0</td>\n    </tr>\n    <tr>\n      <th>1280</th>\n      <td>0</td>\n      <td>22.0</td>\n    </tr>\n    <tr>\n      <th>...</th>\n      <td>...</td>\n      <td>...</td>\n    </tr>\n    <tr>\n      <th>497</th>\n      <td>0</td>\n      <td>40.0</td>\n    </tr>\n    <tr>\n      <th>1086</th>\n      <td>1</td>\n      <td>31.0</td>\n    </tr>\n    <tr>\n      <th>322</th>\n      <td>1</td>\n      <td>36.0</td>\n    </tr>\n    <tr>\n      <th>1251</th>\n      <td>0</td>\n      <td>30.5</td>\n    </tr>\n    <tr>\n      <th>285</th>\n      <td>0</td>\n      <td>67.0</td>\n    </tr>\n  </tbody>\n</table>\n<p>981 rows × 2 columns</p>\n</div>"
     },
     "execution_count": 308,
     "metadata": {},
     "output_type": "execute_result"
    }
   ]
  },
  {
   "cell_type": "markdown",
   "metadata": {
    "id": "LRUJb1gozXtv"
   },
   "source": [
    "### 1.7\n",
    "Обучите на полученных выборках несколько классификаторов, которые импортированы ниже.\n",
    "\n",
    "**Примечание: в методе ближайших соседей используйте количество соседей, равное 5.**"
   ]
  },
  {
   "cell_type": "code",
   "metadata": {
    "id": "-1szEVSTzXtw",
    "ExecuteTime": {
     "end_time": "2024-07-01T10:43:13.860732Z",
     "start_time": "2024-07-01T10:43:13.790050Z"
    }
   },
   "source": [
    "from sklearn.neighbors import KNeighborsClassifier\n",
    "from sklearn.naive_bayes import GaussianNB\n",
    "from sklearn.tree import DecisionTreeClassifier\n",
    "from sklearn.linear_model import LogisticRegression"
   ],
   "execution_count": 309,
   "outputs": []
  },
  {
   "cell_type": "code",
   "metadata": {
    "id": "1pq3i9LnzXty",
    "ExecuteTime": {
     "end_time": "2024-07-01T10:43:14.815394Z",
     "start_time": "2024-07-01T10:43:13.875432Z"
    }
   },
   "source": [
    "model1 = KNeighborsClassifier(5).fit(x_train,y_train)\n",
    "score1 = model1.score(x_test,y_test)\n",
    "y_pred1 = model1.predict(x_test)\n",
    " \n",
    "\n",
    "model2 = GaussianNB().fit(x_train,y_train)\n",
    "score2 = model2.score(x_test,y_test)\n",
    "y_pred2 = model2.predict(x_test)\n",
    "\n",
    "model3 = DecisionTreeClassifier().fit(x_train,y_train)\n",
    "score3 = model3.score(x_test,y_test)\n",
    "y_pred3 = model3.predict(x_test)\n",
    "\n",
    "model4 = LogisticRegression().fit(x_train,y_train)\n",
    "score4 = model4.score(x_test,y_test)\n",
    "y_pred4 = model4.predict(x_test)\n",
    "\n",
    "print(f'KNB score: {score1}\\nNB score: {score2}\\nDTC score: {score3}\\nL2 score: {score4}')"
   ],
   "execution_count": 310,
   "outputs": [
    {
     "name": "stderr",
     "output_type": "stream",
     "text": [
      "C:\\ProgramData\\anaconda3\\Lib\\site-packages\\sklearn\\neighbors\\_classification.py:215: DataConversionWarning: A column-vector y was passed when a 1d array was expected. Please change the shape of y to (n_samples,), for example using ravel().\n",
      "  return self._fit(X, y)\n",
      "C:\\ProgramData\\anaconda3\\Lib\\site-packages\\sklearn\\utils\\validation.py:1143: DataConversionWarning: A column-vector y was passed when a 1d array was expected. Please change the shape of y to (n_samples, ), for example using ravel().\n",
      "  y = column_or_1d(y, warn=True)\n",
      "C:\\ProgramData\\anaconda3\\Lib\\site-packages\\sklearn\\utils\\validation.py:1143: DataConversionWarning: A column-vector y was passed when a 1d array was expected. Please change the shape of y to (n_samples, ), for example using ravel().\n",
      "  y = column_or_1d(y, warn=True)\n"
     ]
    },
    {
     "name": "stdout",
     "output_type": "stream",
     "text": [
      "KNB score: 0.7317073170731707\n",
      "NB score: 0.7865853658536586\n",
      "DTC score: 0.7652439024390244\n",
      "L2 score: 0.7865853658536586\n"
     ]
    }
   ]
  },
  {
   "cell_type": "markdown",
   "metadata": {
    "id": "Jv5Uy5UmzXt2"
   },
   "source": [
    "Очевидно, в этом случае использовать метрику accuracy, которую мы применяли до этого, не совсем правильно: она не даст верную оценку классификатору, потому как выживших явно меньше, чем погибших.\n",
    "\n",
    "Вспомним про такие метрики как точность и полнота. Здесь они подойдут хорошо, так как у нас имеются положительный и отрицательный классы, и определить корректно один из них может оказаться более важным ."
   ]
  },
  {
   "cell_type": "markdown",
   "metadata": {
    "id": "Opt43TOIzXt3"
   },
   "source": [
    "### 1.8\n",
    "В каждом из пунктов следующего теста выберите, что важнее максимизировать: точность (precision) или полноту (recall). Выпишите ответы.\n",
    "\n",
    "1. Вероятность того, что при определенной поломке самолета он сможет долететь до пункта назначения (1 - долетел, 0 - не долетел).\n",
    "2. Предсказание, представляет ли человек опасность, по анализу психического состояния (1 - представляет опасность, 0 - не представляет опасности).\n",
    "3. Предсказание ухода клиента (1 - клиент ушел, 0 - остался).\n",
    "4. Выявление рака на основе медицинских показателей (1 - болен раком, 0 - здоров).\n",
    "5. Предсказание летальности при наблюдаемой мутации (1 - выживание, 0 - летальный исход).\n",
    "6. Определение важности происшествия для экстренных служб (1 - важно, 0 - неважно).\n",
    "7. Окупятся ли вложения в бизнес (1 - окупятся, 0 - не окупятся)."
   ]
  },
  {
   "cell_type": "markdown",
   "metadata": {
    "id": "K1-v6SmGzXt3"
   },
   "source": [
    "Ваш ответ:\n",
    "\n",
    "1. <br>\n",
    "2. <br>\n",
    "3. <br>\n",
    "4. <br>\n",
    "5. <br>\n",
    "6. <br>\n",
    "7. <br>"
   ]
  },
  {
   "cell_type": "markdown",
   "metadata": {
    "id": "FqrtMi-jzXt4"
   },
   "source": [
    "### 1.9\n",
    "Определите, что важнее использовать в случае датасета Titanic: полноту или точность. Объясните, почему.\n",
    "\n",
    "### 1.10\n",
    "Для каждого классификатора выведите матрицу ошибок и самостоятельно рассчитайте метрику recall (расчеты должны присутствовать). Проверьте расчеты, воспользовавшись встроенной метрикой recall_score."
   ]
  },
  {
   "cell_type": "code",
   "metadata": {
    "id": "cJ3N4TqEzXt5",
    "ExecuteTime": {
     "end_time": "2024-07-01T10:43:14.842730Z",
     "start_time": "2024-07-01T10:43:14.825567Z"
    }
   },
   "source": [
    "from sklearn.metrics import confusion_matrix, recall_score"
   ],
   "execution_count": 311,
   "outputs": []
  },
  {
   "cell_type": "code",
   "metadata": {
    "id": "bVukHkOgzXt7",
    "ExecuteTime": {
     "end_time": "2024-07-01T10:43:15.288988Z",
     "start_time": "2024-07-01T10:43:14.872636Z"
    }
   },
   "source": [
    "error1 = recall_score(y_test,y_pred1)\n",
    "error11 = confusion_matrix(y_test,y_pred1)\n",
    "\n",
    "error2 = recall_score(y_test,y_pred2)\n",
    "error22 = confusion_matrix(y_test,y_pred2)\n",
    "\n",
    "error3 = recall_score(y_test,y_pred3)\n",
    "error33 = confusion_matrix(y_test,y_pred3)\n",
    "\n",
    "error4 = recall_score(y_test,y_pred4)\n",
    "error44 = confusion_matrix(y_test,y_pred4)\n",
    "\n",
    "\n",
    "print(f'KNB recall: {error1} matrix:\\n {error11}\\nNB recall: {error2} matrix:\\n {error22}\\nDTC recall: {error3} matrix:\\n {error33}\\nL2 recall: {error4} matrix:\\n {error44}')\n",
    "\n"
   ],
   "execution_count": 312,
   "outputs": [
    {
     "name": "stdout",
     "output_type": "stream",
     "text": [
      "KNB recall: 0.5196850393700787 matrix:\n",
      " [[174  27]\n",
      " [ 61  66]]\n",
      "NB recall: 0.7165354330708661 matrix:\n",
      " [[167  34]\n",
      " [ 36  91]]\n",
      "DTC recall: 0.6535433070866141 matrix:\n",
      " [[168  33]\n",
      " [ 44  83]]\n",
      "L2 recall: 0.7165354330708661 matrix:\n",
      " [[167  34]\n",
      " [ 36  91]]\n"
     ]
    }
   ]
  },
  {
   "cell_type": "markdown",
   "metadata": {
    "id": "hvz-MxztzXt8"
   },
   "source": [
    "### 1.11\n",
    "Выберите ту модель, на которой метрика recall давала лучший ответ, и рассчитайте для нее precision, используя встроенную функцию."
   ]
  },
  {
   "cell_type": "code",
   "metadata": {
    "id": "UUdiUwlszXt9",
    "ExecuteTime": {
     "end_time": "2024-07-01T10:43:15.317069Z",
     "start_time": "2024-07-01T10:43:15.297980Z"
    }
   },
   "source": [
    "from sklearn.metrics import precision_score"
   ],
   "execution_count": 313,
   "outputs": []
  },
  {
   "cell_type": "code",
   "metadata": {
    "id": "4UcVLFdUzXt_",
    "ExecuteTime": {
     "end_time": "2024-07-01T10:43:15.437892Z",
     "start_time": "2024-07-01T10:43:15.329651Z"
    }
   },
   "source": [
    "error_p = precision_score(y_test,y_pred2)\n",
    "error_p\n",
    "\n"
   ],
   "execution_count": 314,
   "outputs": [
    {
     "data": {
      "text/plain": "0.728"
     },
     "execution_count": 314,
     "metadata": {},
     "output_type": "execute_result"
    }
   ]
  },
  {
   "cell_type": "code",
   "outputs": [
    {
     "data": {
      "text/plain": "0.7222222222222222"
     },
     "execution_count": 315,
     "metadata": {},
     "output_type": "execute_result"
    }
   ],
   "source": [
    "from sklearn.metrics import precision_score, f1_score\n",
    "\n",
    "error_f = f1_score(y_test,y_pred2)\n",
    "error_f\n"
   ],
   "metadata": {
    "collapsed": false,
    "ExecuteTime": {
     "end_time": "2024-07-01T10:43:15.508854Z",
     "start_time": "2024-07-01T10:43:15.448649Z"
    }
   },
   "execution_count": 315
  },
  {
   "cell_type": "code",
   "outputs": [
    {
     "name": "stdout",
     "output_type": "stream",
     "text": [
      "KNB \n",
      "              precision    recall  f1-score   support\n",
      "\n",
      "         0.0       0.74      0.87      0.80       201\n",
      "         1.0       0.71      0.52      0.60       127\n",
      "\n",
      "    accuracy                           0.73       328\n",
      "   macro avg       0.73      0.69      0.70       328\n",
      "weighted avg       0.73      0.73      0.72       328\n",
      "\n",
      "NB \n",
      "              precision    recall  f1-score   support\n",
      "\n",
      "         0.0       0.82      0.83      0.83       201\n",
      "         1.0       0.73      0.72      0.72       127\n",
      "\n",
      "    accuracy                           0.79       328\n",
      "   macro avg       0.78      0.77      0.77       328\n",
      "weighted avg       0.79      0.79      0.79       328\n",
      "\n",
      "DTC \n",
      "              precision    recall  f1-score   support\n",
      "\n",
      "         0.0       0.79      0.84      0.81       201\n",
      "         1.0       0.72      0.65      0.68       127\n",
      "\n",
      "    accuracy                           0.77       328\n",
      "   macro avg       0.75      0.74      0.75       328\n",
      "weighted avg       0.76      0.77      0.76       328\n",
      "\n",
      "L2 \n",
      "              precision    recall  f1-score   support\n",
      "\n",
      "         0.0       0.82      0.83      0.83       201\n",
      "         1.0       0.73      0.72      0.72       127\n",
      "\n",
      "    accuracy                           0.79       328\n",
      "   macro avg       0.78      0.77      0.77       328\n",
      "weighted avg       0.79      0.79      0.79       328\n"
     ]
    }
   ],
   "source": [
    "from sklearn.metrics import precision_recall_fscore_support, classification_report\n",
    "\n",
    "lesson = classification_report(y_test, y_pred1)\n",
    "\n",
    "lesson2 = classification_report(y_test, y_pred2)\n",
    "\n",
    "lesson3 = classification_report(y_test, y_pred3)\n",
    "\n",
    "lesson4 = classification_report(y_test, y_pred4)\n",
    "print(f'KNB \\n{lesson}')\n",
    "print(f'NB \\n{lesson2}')\n",
    "print(f'DTC \\n{lesson3}')\n",
    "print(f'L2 \\n{lesson4}')"
   ],
   "metadata": {
    "collapsed": false,
    "ExecuteTime": {
     "end_time": "2024-07-01T10:43:15.679663Z",
     "start_time": "2024-07-01T10:43:15.517275Z"
    }
   },
   "execution_count": 316
  },
  {
   "cell_type": "code",
   "outputs": [],
   "source": [
    "from sklearn.model_selection import StratifiedKFold\n",
    "from sklearn.linear_model import LogisticRegressionCV\n",
    "import numpy as np"
   ],
   "metadata": {
    "collapsed": false,
    "ExecuteTime": {
     "end_time": "2024-07-01T10:43:15.704339Z",
     "start_time": "2024-07-01T10:43:15.679663Z"
    }
   },
   "execution_count": 317
  },
  {
   "cell_type": "markdown",
   "source": [
    "\n",
    "1. Используя StratifiedKFold, разбейте данные для кросс-валидации по 5-ти блокам (не забывайте во всех методах использовать random_state=17).\n",
    "2. С помощью numpy.logspace разбейте интервал (-1, 2) на 500 значений.\n",
    "3. С помощью LogisticRegressionCV подберите оптимальный параметр C: установите гиперпараметр Cs равным объекту из п.2 (разбиение интервала (-1, 2) отвечает за подбор обратного коэффициента регуляризации C); cv равным объекту из п.1 (разбиение для кросс-валидации); scoring равным \"roc_auc\" (отвечает за оптимизацию гиперпараметров на кросс-валидации: метрика, установленная в scoring, контролирует, как оценивать модель при каждом из наборе параметров, т.е. показывает, какая метрика должна быть наилучшей).\n",
    "4. Обучите полученную модель на тренировочных данных."
   ],
   "metadata": {
    "collapsed": false
   }
  },
  {
   "cell_type": "code",
   "outputs": [
    {
     "name": "stdout",
     "output_type": "stream",
     "text": [
      "0\n",
      "train [   0    1    2 ... 1306 1307 1308]\n",
      "test [   9   18   20   21   35   37   41   48   50   55   62   65   68   72\n",
      "   79   86   88   90  101  102  103  104  114  117  119  126  141  143\n",
      "  145  154  156  158  162  166  168  178  190  198  210  215  224  229\n",
      "  237  242  243  244  262  264  271  274  277  280  289  293  295  302\n",
      "  303  304  312  314  319  320  327  330  340  342  351  363  364  369\n",
      "  373  376  379  381  384  391  395  396  404  405  406  412  413  433\n",
      "  435  436  440  441  446  447  448  456  459  460  465  466  477  478\n",
      "  479  480  482  488  492  499  506  508  515  541  545  549  558  562\n",
      "  566  574  575  580  585  587  595  597  601  607  611  614  621  624\n",
      "  628  633  634  636  639  646  648  649  653  655  659  661  668  672\n",
      "  676  680  692  693  694  704  719  729  742  749  750  755  756  761\n",
      "  772  776  779  780  784  790  791  794  799  818  824  829  832  834\n",
      "  836  837  845  848  849  850  851  861  867  868  871  878  888  895\n",
      "  896  899  900  902  903  910  911  915  921  922  927  939  942  945\n",
      "  958  983  986  993  995  996  997  998 1005 1006 1009 1012 1020 1024\n",
      " 1028 1029 1032 1033 1037 1045 1051 1058 1059 1064 1068 1081 1090 1098\n",
      " 1104 1107 1129 1130 1131 1138 1141 1143 1158 1163 1164 1167 1169 1173\n",
      " 1176 1185 1191 1195 1197 1206 1207 1208 1214 1215 1218 1222 1228 1234\n",
      " 1237 1240 1251 1258 1259 1280 1291 1295 1299 1305]\n",
      "1\n",
      "train [   1    3    4 ... 1305 1306 1308]\n",
      "test [   0    2    6   11   17   23   24   27   40   44   46   58   60   66\n",
      "   67   70   73   74   85  112  118  120  123  124  129  131  138  139\n",
      "  144  147  150  153  159  169  171  181  187  189  192  211  213  217\n",
      "  222  223  228  239  245  246  248  250  255  256  257  260  263  265\n",
      "  268  269  273  278  279  282  283  285  286  290  294  305  308  310\n",
      "  313  315  318  328  337  338  350  359  361  362  365  366  367  368\n",
      "  370  385  388  389  390  410  416  419  421  425  428  432  438  439\n",
      "  442  455  457  469  476  487  495  496  497  503  505  509  511  513\n",
      "  518  529  532  536  537  540  550  551  556  557  560  564  565  582\n",
      "  584  602  606  616  617  626  635  640  644  654  660  662  673  675\n",
      "  683  684  687  691  705  714  720  722  723  725  726  735  738  740\n",
      "  743  752  757  760  763  768  783  785  786  788  793  800  801  803\n",
      "  808  810  811  812  820  821  822  831  835  840  842  852  857  874\n",
      "  875  886  892  893  908  909  914  920  923  929  931  932  937  940\n",
      "  944  946  947  956  962  964  967  968  985  987  988 1004 1008 1016\n",
      " 1018 1023 1031 1047 1052 1061 1065 1069 1070 1075 1077 1078 1079 1095\n",
      " 1102 1106 1112 1117 1118 1121 1124 1127 1135 1144 1145 1152 1155 1162\n",
      " 1181 1182 1187 1190 1194 1196 1210 1211 1223 1232 1233 1239 1245 1250\n",
      " 1253 1266 1268 1274 1281 1283 1288 1292 1293 1307]\n",
      "2\n",
      "train [   0    1    2 ... 1306 1307 1308]\n",
      "test [   3    5   12   15   16   25   31   33   38   45   69   71   80   81\n",
      "   87   92   94  100  105  107  116  122  127  132  135  136  148  149\n",
      "  152  161  164  172  176  177  186  200  203  206  207  214  216  218\n",
      "  219  221  231  232  233  238  258  259  276  287  288  296  298  300\n",
      "  306  321  324  325  334  335  336  339  341  343  347  349  352  355\n",
      "  356  371  372  378  386  387  393  399  400  408  414  418  424  426\n",
      "  437  444  454  458  464  467  468  470  471  472  475  483  486  491\n",
      "  493  500  502  507  510  517  523  528  535  538  542  546  552  554\n",
      "  555  559  561  567  570  571  576  581  594  599  610  612  622  623\n",
      "  629  638  642  643  656  663  667  669  674  690  701  706  712  728\n",
      "  730  731  732  733  736  739  741  744  746  747  753  764  769  774\n",
      "  777  778  782  787  789  792  802  807  809  826  839  843  846  860\n",
      "  862  865  866  869  870  879  880  889  894  904  907  912  918  926\n",
      "  930  957  959  965  972  974  978  979  980  984 1000 1001 1011 1014\n",
      " 1017 1021 1022 1027 1030 1034 1036 1042 1044 1046 1062 1063 1066 1067\n",
      " 1080 1082 1083 1085 1091 1093 1096 1097 1099 1101 1113 1115 1119 1122\n",
      " 1128 1132 1136 1139 1140 1142 1148 1151 1160 1161 1165 1166 1188 1189\n",
      " 1192 1202 1203 1213 1224 1229 1230 1231 1236 1241 1243 1246 1247 1249\n",
      " 1260 1261 1264 1265 1270 1272 1275 1278 1289 1300]\n",
      "3\n",
      "train [   0    1    2 ... 1306 1307 1308]\n",
      "test [  10   19   26   36   42   43   47   49   56   57   59   61   63   64\n",
      "   75   76   77   78   89   91   96   97   98  106  108  110  111  113\n",
      "  115  128  133  155  160  167  173  174  175  179  182  185  191  193\n",
      "  195  196  201  202  205  209  212  220  225  240  249  251  253  261\n",
      "  266  267  272  275  281  284  297  299  301  307  317  323  326  329\n",
      "  344  346  353  358  377  382  383  397  398  402  407  415  417  420\n",
      "  431  445  450  452  461  462  463  481  484  485  512  514  524  526\n",
      "  527  534  539  543  548  569  572  573  579  583  586  589  591  593\n",
      "  598  604  609  615  618  620  627  630  631  632  641  651  657  664\n",
      "  665  666  678  682  685  686  689  696  698  702  707  708  709  715\n",
      "  716  718  727  734  745  751  754  758  759  767  770  771  775  796\n",
      "  798  804  813  814  816  825  827  828  833  841  855  872  876  881\n",
      "  882  884  885  890  891  897  905  913  917  928  933  948  953  954\n",
      "  955  960  966  969  973  975  976  977  989  990  991  992 1002 1010\n",
      " 1013 1015 1026 1035 1039 1040 1055 1057 1060 1076 1086 1088 1092 1094\n",
      " 1100 1103 1105 1110 1116 1120 1123 1125 1126 1134 1137 1147 1149 1150\n",
      " 1154 1156 1157 1159 1168 1171 1172 1174 1177 1183 1186 1193 1198 1204\n",
      " 1216 1219 1220 1221 1225 1226 1227 1242 1244 1252 1255 1256 1257 1262\n",
      " 1263 1267 1269 1273 1290 1294 1297 1301 1302 1303]\n",
      "4\n",
      "train [   0    2    3 ... 1303 1305 1307]\n",
      "test [   1    4    7    8   13   14   22   28   29   30   32   34   39   51\n",
      "   52   53   54   82   83   84   93   95   99  109  121  125  130  134\n",
      "  137  140  142  146  151  157  163  165  170  180  183  184  188  194\n",
      "  197  199  204  208  226  227  230  234  235  236  241  247  252  254\n",
      "  270  291  292  309  311  316  322  331  332  333  345  348  354  357\n",
      "  360  374  375  380  392  394  401  403  409  411  422  423  427  429\n",
      "  430  434  443  449  451  453  473  474  489  490  494  498  501  504\n",
      "  516  519  520  521  522  525  530  531  533  544  547  553  563  568\n",
      "  577  578  588  590  592  596  600  603  605  608  613  619  625  637\n",
      "  645  647  650  652  658  670  671  677  679  681  688  695  697  699\n",
      "  700  703  710  711  713  717  721  724  737  748  762  765  766  773\n",
      "  781  795  797  805  806  815  817  819  823  830  838  844  847  853\n",
      "  854  856  858  859  863  864  873  877  883  887  898  901  906  916\n",
      "  919  924  925  934  935  936  938  941  943  949  950  951  952  961\n",
      "  963  970  971  981  982  994  999 1003 1007 1019 1025 1038 1041 1043\n",
      " 1048 1049 1050 1053 1054 1056 1071 1072 1073 1074 1084 1087 1089 1108\n",
      " 1109 1111 1114 1133 1146 1153 1170 1175 1178 1179 1180 1184 1199 1200\n",
      " 1201 1205 1209 1212 1217 1235 1238 1248 1254 1271 1276 1277 1279 1282\n",
      " 1284 1285 1286 1287 1296 1298 1304 1306 1308]\n"
     ]
    }
   ],
   "source": [
    "skf = StratifiedKFold(n_splits=5, random_state=17, shuffle=True)\n",
    "\n",
    "x = skf.split(resault[['sex','age']], target)\n",
    "\n",
    "for i, (train, test) in enumerate(x):\n",
    "    print(i)\n",
    "    print(f'train {train}')\n",
    "    print(f'test {test}')\n",
    "\n",
    "\n",
    "    \n"
   ],
   "metadata": {
    "collapsed": false,
    "ExecuteTime": {
     "end_time": "2024-07-02T10:53:21.783516Z",
     "start_time": "2024-07-02T10:53:21.723973Z"
    }
   },
   "execution_count": 346
  },
  {
   "cell_type": "code",
   "outputs": [
    {
     "name": "stderr",
     "output_type": "stream",
     "text": [
      "C:\\ProgramData\\anaconda3\\Lib\\site-packages\\sklearn\\utils\\validation.py:1143: DataConversionWarning: A column-vector y was passed when a 1d array was expected. Please change the shape of y to (n_samples, ), for example using ravel().\n",
      "  y = column_or_1d(y, warn=True)\n"
     ]
    },
    {
     "data": {
      "text/plain": "LogisticRegressionCV()",
      "text/html": "<style>#sk-container-id-3 {color: black;background-color: white;}#sk-container-id-3 pre{padding: 0;}#sk-container-id-3 div.sk-toggleable {background-color: white;}#sk-container-id-3 label.sk-toggleable__label {cursor: pointer;display: block;width: 100%;margin-bottom: 0;padding: 0.3em;box-sizing: border-box;text-align: center;}#sk-container-id-3 label.sk-toggleable__label-arrow:before {content: \"▸\";float: left;margin-right: 0.25em;color: #696969;}#sk-container-id-3 label.sk-toggleable__label-arrow:hover:before {color: black;}#sk-container-id-3 div.sk-estimator:hover label.sk-toggleable__label-arrow:before {color: black;}#sk-container-id-3 div.sk-toggleable__content {max-height: 0;max-width: 0;overflow: hidden;text-align: left;background-color: #f0f8ff;}#sk-container-id-3 div.sk-toggleable__content pre {margin: 0.2em;color: black;border-radius: 0.25em;background-color: #f0f8ff;}#sk-container-id-3 input.sk-toggleable__control:checked~div.sk-toggleable__content {max-height: 200px;max-width: 100%;overflow: auto;}#sk-container-id-3 input.sk-toggleable__control:checked~label.sk-toggleable__label-arrow:before {content: \"▾\";}#sk-container-id-3 div.sk-estimator input.sk-toggleable__control:checked~label.sk-toggleable__label {background-color: #d4ebff;}#sk-container-id-3 div.sk-label input.sk-toggleable__control:checked~label.sk-toggleable__label {background-color: #d4ebff;}#sk-container-id-3 input.sk-hidden--visually {border: 0;clip: rect(1px 1px 1px 1px);clip: rect(1px, 1px, 1px, 1px);height: 1px;margin: -1px;overflow: hidden;padding: 0;position: absolute;width: 1px;}#sk-container-id-3 div.sk-estimator {font-family: monospace;background-color: #f0f8ff;border: 1px dotted black;border-radius: 0.25em;box-sizing: border-box;margin-bottom: 0.5em;}#sk-container-id-3 div.sk-estimator:hover {background-color: #d4ebff;}#sk-container-id-3 div.sk-parallel-item::after {content: \"\";width: 100%;border-bottom: 1px solid gray;flex-grow: 1;}#sk-container-id-3 div.sk-label:hover label.sk-toggleable__label {background-color: #d4ebff;}#sk-container-id-3 div.sk-serial::before {content: \"\";position: absolute;border-left: 1px solid gray;box-sizing: border-box;top: 0;bottom: 0;left: 50%;z-index: 0;}#sk-container-id-3 div.sk-serial {display: flex;flex-direction: column;align-items: center;background-color: white;padding-right: 0.2em;padding-left: 0.2em;position: relative;}#sk-container-id-3 div.sk-item {position: relative;z-index: 1;}#sk-container-id-3 div.sk-parallel {display: flex;align-items: stretch;justify-content: center;background-color: white;position: relative;}#sk-container-id-3 div.sk-item::before, #sk-container-id-3 div.sk-parallel-item::before {content: \"\";position: absolute;border-left: 1px solid gray;box-sizing: border-box;top: 0;bottom: 0;left: 50%;z-index: -1;}#sk-container-id-3 div.sk-parallel-item {display: flex;flex-direction: column;z-index: 1;position: relative;background-color: white;}#sk-container-id-3 div.sk-parallel-item:first-child::after {align-self: flex-end;width: 50%;}#sk-container-id-3 div.sk-parallel-item:last-child::after {align-self: flex-start;width: 50%;}#sk-container-id-3 div.sk-parallel-item:only-child::after {width: 0;}#sk-container-id-3 div.sk-dashed-wrapped {border: 1px dashed gray;margin: 0 0.4em 0.5em 0.4em;box-sizing: border-box;padding-bottom: 0.4em;background-color: white;}#sk-container-id-3 div.sk-label label {font-family: monospace;font-weight: bold;display: inline-block;line-height: 1.2em;}#sk-container-id-3 div.sk-label-container {text-align: center;}#sk-container-id-3 div.sk-container {/* jupyter's `normalize.less` sets `[hidden] { display: none; }` but bootstrap.min.css set `[hidden] { display: none !important; }` so we also need the `!important` here to be able to override the default hidden behavior on the sphinx rendered scikit-learn.org. See: https://github.com/scikit-learn/scikit-learn/issues/21755 */display: inline-block !important;position: relative;}#sk-container-id-3 div.sk-text-repr-fallback {display: none;}</style><div id=\"sk-container-id-3\" class=\"sk-top-container\"><div class=\"sk-text-repr-fallback\"><pre>LogisticRegressionCV()</pre><b>In a Jupyter environment, please rerun this cell to show the HTML representation or trust the notebook. <br />On GitHub, the HTML representation is unable to render, please try loading this page with nbviewer.org.</b></div><div class=\"sk-container\" hidden><div class=\"sk-item\"><div class=\"sk-estimator sk-toggleable\"><input class=\"sk-toggleable__control sk-hidden--visually\" id=\"sk-estimator-id-3\" type=\"checkbox\" checked><label for=\"sk-estimator-id-3\" class=\"sk-toggleable__label sk-toggleable__label-arrow\">LogisticRegressionCV</label><div class=\"sk-toggleable__content\"><pre>LogisticRegressionCV()</pre></div></div></div></div></div>"
     },
     "execution_count": 350,
     "metadata": {},
     "output_type": "execute_result"
    }
   ],
   "source": [
    "from sklearn.linear_model import LogisticRegressionCV\n",
    "\n",
    "modelcv = LogisticRegressionCV().fit(x_train,y_train)\n",
    "modelcv"
   ],
   "metadata": {
    "collapsed": false,
    "ExecuteTime": {
     "end_time": "2024-07-02T11:02:49.648088Z",
     "start_time": "2024-07-02T11:02:48.752518Z"
    }
   },
   "execution_count": 350
  },
  {
   "cell_type": "code",
   "outputs": [
    {
     "ename": "NameError",
     "evalue": "name 'logit_search' is not defined",
     "output_type": "error",
     "traceback": [
      "\u001B[1;31m---------------------------------------------------------------------------\u001B[0m",
      "\u001B[1;31mNameError\u001B[0m                                 Traceback (most recent call last)",
      "Cell \u001B[1;32mIn[291], line 3\u001B[0m\n\u001B[0;32m      1\u001B[0m \u001B[38;5;28;01mfrom\u001B[39;00m \u001B[38;5;21;01msklearn\u001B[39;00m\u001B[38;5;21;01m.\u001B[39;00m\u001B[38;5;21;01mmetrics\u001B[39;00m \u001B[38;5;28;01mimport\u001B[39;00m roc_auc_score, roc_curve\n\u001B[1;32m----> 3\u001B[0m probas \u001B[38;5;241m=\u001B[39m logit_search\u001B[38;5;241m.\u001B[39mfit(x_train, y_train)\u001B[38;5;241m.\u001B[39mpredict_proba(x_train)\n\u001B[0;32m      4\u001B[0m fpr, tpr, _ \u001B[38;5;241m=\u001B[39m roc_curve(y_train, probas[:, \u001B[38;5;241m1\u001B[39m])\n\u001B[0;32m      5\u001B[0m auc \u001B[38;5;241m=\u001B[39m roc_auc_score(y_train, probas[:, \u001B[38;5;241m1\u001B[39m])\n",
      "\u001B[1;31mNameError\u001B[0m: name 'logit_search' is not defined"
     ]
    }
   ],
   "source": [
    "from sklearn.metrics import roc_auc_score, roc_curve\n",
    "\n",
    "probas = logit_search.fit(x_train, y_train).predict_proba(x_train)\n",
    "fpr, tpr, _ = roc_curve(y_train, probas[:, 1])\n",
    "auc = roc_auc_score(y_train, probas[:, 1])\n",
    "plt.plot(fpr, tpr, label=\"auc=\" + str(auc))\n",
    "plt.legend(loc=4)"
   ],
   "metadata": {
    "collapsed": false,
    "ExecuteTime": {
     "end_time": "2024-06-29T12:03:23.806830Z",
     "start_time": "2024-06-29T12:03:23.709874Z"
    }
   },
   "execution_count": 291
  }
 ]
}
