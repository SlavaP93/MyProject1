{
 "nbformat": 4,
 "nbformat_minor": 0,
 "metadata": {
  "colab": {
   "provenance": []
  },
  "kernelspec": {
   "display_name": "Python 3",
   "language": "python",
   "name": "python3"
  },
  "language_info": {
   "codemirror_mode": {
    "name": "ipython",
    "version": 3
   },
   "file_extension": ".py",
   "mimetype": "text/x-python",
   "name": "python",
   "nbconvert_exporter": "python",
   "pygments_lexer": "ipython3",
   "version": "3.6.3"
  }
 },
 "cells": [
  {
   "cell_type": "markdown",
   "metadata": {
    "id": "-smrZewE1tU2"
   },
   "source": [
    "# Урок 6. Многоклассовая классификация.\n",
    "\n",
    "Посмотрим на примере алгоритма логистической регрессии и метода опорных векторов, как работать с различными методами многоклассовой классификации."
   ]
  },
  {
   "cell_type": "markdown",
   "metadata": {
    "id": "S5kQdZzo1tU3"
   },
   "source": [
    "### 1.\n",
    "Вспомните датасет Wine. Загрузите его, разделите на тренировочную и тестовую выборки (random_state=17), используя только [9, 11, 12] признаки."
   ]
  },
  {
   "cell_type": "code",
   "metadata": {
    "id": "paB2E5141tU4",
    "ExecuteTime": {
     "end_time": "2024-07-02T12:11:30.631946Z",
     "start_time": "2024-07-02T12:11:25.319742Z"
    }
   },
   "source": [
    "from sklearn.datasets import load_wine\n",
    "from sklearn.model_selection import train_test_split"
   ],
   "execution_count": 1,
   "outputs": []
  },
  {
   "cell_type": "code",
   "metadata": {
    "id": "LdwwBPqq1tU7",
    "ExecuteTime": {
     "end_time": "2024-07-02T12:16:08.428923Z",
     "start_time": "2024-07-02T12:16:08.392999Z"
    }
   },
   "source": [
    "### YOUR CODE HERE ###\n",
    "wine = load_wine()\n",
    "\n",
    "x_train, x_test, y_train, y_test = train_test_split(wine.data[:,(9,11,12)], wine.target,\n",
    "                                                    random_state=17, test_size=0.2)\n",
    "\n"
   ],
   "execution_count": 6,
   "outputs": [
    {
     "data": {
      "text/plain": "array([[6.200e+00, 2.750e+00, 1.060e+03],\n       [2.570e+00, 3.130e+00, 4.630e+02],\n       [4.000e+00, 1.680e+00, 8.300e+02],\n       [3.400e+00, 3.170e+00, 5.100e+02],\n       [7.700e+00, 1.740e+00, 7.400e+02],\n       [3.940e+00, 2.840e+00, 3.520e+02],\n       [4.600e+00, 2.310e+00, 6.000e+02],\n       [5.700e+00, 1.820e+00, 5.800e+02],\n       [7.650e+00, 1.580e+00, 5.200e+02],\n       [5.280e+00, 1.750e+00, 6.750e+02],\n       [3.080e+00, 2.310e+00, 4.340e+02],\n       [2.700e+00, 3.300e+00, 3.150e+02],\n       [3.700e+00, 2.690e+00, 1.020e+03],\n       [5.430e+00, 3.560e+00, 1.095e+03],\n       [9.300e+00, 1.620e+00, 8.400e+02],\n       [2.200e+00, 2.720e+00, 6.300e+02],\n       [4.500e+00, 2.770e+00, 6.600e+02],\n       [4.920e+00, 2.150e+00, 5.900e+02],\n       [1.950e+00, 3.330e+00, 4.950e+02],\n       [9.700e+00, 1.710e+00, 6.600e+02],\n       [2.650e+00, 3.260e+00, 6.800e+02],\n       [6.300e+00, 2.930e+00, 1.375e+03],\n       [2.650e+00, 2.520e+00, 5.000e+02],\n       [3.250e+00, 3.390e+00, 6.250e+02],\n       [2.060e+00, 2.440e+00, 4.150e+02],\n       [4.600e+00, 2.480e+00, 3.920e+02],\n       [2.600e+00, 2.630e+00, 9.370e+02],\n       [4.500e+00, 3.400e+00, 9.150e+02],\n       [2.900e+00, 3.190e+00, 3.850e+02],\n       [7.500e+00, 1.730e+00, 8.800e+02],\n       [4.700e+00, 3.590e+00, 1.035e+03],\n       [3.380e+00, 3.160e+00, 4.100e+02],\n       [6.750e+00, 2.850e+00, 1.450e+03],\n       [8.210e+00, 2.000e+00, 8.550e+02],\n       [7.900e+00, 1.480e+00, 7.250e+02],\n       [3.350e+00, 3.500e+00, 9.850e+02],\n       [4.200e+00, 2.870e+00, 1.095e+03],\n       [2.800e+00, 2.750e+00, 6.800e+02],\n       [2.600e+00, 3.210e+00, 5.620e+02],\n       [3.050e+00, 1.820e+00, 8.700e+02],\n       [2.900e+00, 2.740e+00, 4.280e+02],\n       [1.280e+00, 3.050e+00, 5.640e+02],\n       [6.250e+00, 3.030e+00, 1.120e+03],\n       [2.450e+00, 2.770e+00, 5.620e+02],\n       [2.800e+00, 3.380e+00, 4.380e+02],\n       [2.760e+00, 3.280e+00, 3.780e+02],\n       [1.900e+00, 2.870e+00, 4.070e+02],\n       [8.500e+00, 1.920e+00, 6.300e+02],\n       [2.800e+00, 3.640e+00, 3.800e+02],\n       [3.930e+00, 3.630e+00, 1.015e+03],\n       [3.400e+00, 2.310e+00, 7.500e+02],\n       [6.800e+00, 2.870e+00, 1.285e+03],\n       [3.050e+00, 2.060e+00, 4.950e+02],\n       [3.300e+00, 2.960e+00, 7.100e+02],\n       [9.200e+00, 1.600e+00, 5.600e+02],\n       [7.050e+00, 3.260e+00, 1.190e+03],\n       [5.300e+00, 3.180e+00, 5.020e+02],\n       [6.130e+00, 3.380e+00, 7.950e+02],\n       [4.320e+00, 2.930e+00, 7.350e+02],\n       [4.380e+00, 3.400e+00, 1.050e+03],\n       [7.650e+00, 1.860e+00, 6.250e+02],\n       [7.300e+00, 1.560e+00, 7.500e+02],\n       [8.700e+00, 2.820e+00, 1.680e+03],\n       [9.580e+00, 1.680e+00, 6.150e+02],\n       [4.680e+00, 3.480e+00, 5.100e+02],\n       [3.520e+00, 3.820e+00, 8.450e+02],\n       [7.500e+00, 3.000e+00, 1.547e+03],\n       [3.800e+00, 2.460e+00, 6.300e+02],\n       [5.100e+00, 3.470e+00, 9.200e+02],\n       [4.360e+00, 3.000e+00, 6.800e+02],\n       [4.900e+00, 3.440e+00, 1.065e+03],\n       [4.600e+00, 2.300e+00, 6.780e+02],\n       [5.240e+00, 3.330e+00, 1.080e+03],\n       [5.880e+00, 1.820e+00, 6.800e+02],\n       [3.000e+00, 2.440e+00, 4.660e+02],\n       [6.100e+00, 3.330e+00, 9.850e+02],\n       [5.400e+00, 3.000e+00, 1.235e+03],\n       [1.950e+00, 1.820e+00, 5.200e+02],\n       [2.300e+00, 2.830e+00, 4.060e+02],\n       [9.010e+00, 1.640e+00, 4.800e+02],\n       [3.210e+00, 3.130e+00, 8.860e+02],\n       [7.800e+00, 3.450e+00, 1.480e+03],\n       [1.740e+00, 3.210e+00, 6.250e+02],\n       [3.050e+00, 3.080e+00, 5.200e+02],\n       [3.300e+00, 2.420e+00, 4.880e+02],\n       [3.580e+00, 3.200e+00, 8.300e+02],\n       [1.300e+01, 1.960e+00, 6.600e+02],\n       [5.600e+00, 2.900e+00, 1.320e+03],\n       [4.500e+00, 3.520e+00, 7.700e+02],\n       [2.940e+00, 3.570e+00, 6.720e+02],\n       [8.660e+00, 1.800e+00, 7.500e+02],\n       [5.400e+00, 2.730e+00, 1.150e+03],\n       [8.420e+00, 1.620e+00, 6.500e+02],\n       [4.350e+00, 2.060e+00, 5.200e+02],\n       [4.600e+00, 2.780e+00, 8.800e+02],\n       [7.300e+00, 2.880e+00, 1.310e+03],\n       [2.060e+00, 2.960e+00, 3.450e+02],\n       [5.650e+00, 3.710e+00, 7.800e+02],\n       [3.740e+00, 2.780e+00, 4.720e+02],\n       [4.900e+00, 1.330e+00, 4.150e+02],\n       [7.600e+00, 1.550e+00, 6.400e+02],\n       [2.900e+00, 2.810e+00, 5.620e+02],\n       [3.600e+00, 2.650e+00, 4.500e+02],\n       [4.800e+00, 3.220e+00, 1.195e+03],\n       [5.580e+00, 2.110e+00, 5.700e+02],\n       [2.600e+00, 3.100e+00, 3.800e+02],\n       [9.400e+00, 1.330e+00, 5.500e+02],\n       [5.200e+00, 2.850e+00, 1.045e+03],\n       [7.100e+00, 1.330e+00, 4.250e+02],\n       [3.270e+00, 1.670e+00, 6.800e+02],\n       [8.900e+00, 3.100e+00, 1.260e+03],\n       [7.200e+00, 2.910e+00, 1.150e+03],\n       [4.800e+00, 2.010e+00, 5.150e+02],\n       [3.950e+00, 2.770e+00, 1.285e+03],\n       [6.380e+00, 3.310e+00, 9.700e+02],\n       [5.600e+00, 2.470e+00, 7.800e+02],\n       [6.000e+00, 3.690e+00, 4.650e+02],\n       [5.040e+00, 3.350e+00, 8.850e+02],\n       [5.680e+00, 3.170e+00, 1.185e+03],\n       [5.000e+00, 1.290e+00, 6.000e+02],\n       [5.750e+00, 1.590e+00, 4.500e+02],\n       [3.840e+00, 2.870e+00, 9.900e+02],\n       [1.068e+01, 1.560e+00, 6.950e+02],\n       [5.700e+00, 2.710e+00, 1.285e+03],\n       [6.620e+00, 1.750e+00, 5.200e+02],\n       [5.250e+00, 3.580e+00, 1.290e+03],\n       [4.450e+00, 2.870e+00, 4.200e+02],\n       [5.400e+00, 1.420e+00, 5.300e+02],\n       [5.750e+00, 3.170e+00, 1.510e+03],\n       [4.280e+00, 3.000e+00, 1.035e+03],\n       [6.600e+00, 2.570e+00, 1.130e+03],\n       [2.600e+00, 2.570e+00, 5.800e+02],\n       [5.050e+00, 3.580e+00, 1.295e+03],\n       [5.100e+00, 3.530e+00, 7.600e+02],\n       [3.170e+00, 1.930e+00, 7.500e+02],\n       [6.900e+00, 2.880e+00, 1.515e+03],\n       [3.800e+00, 4.000e+00, 1.035e+03],\n       [6.000e+00, 2.840e+00, 1.270e+03],\n       [8.600e+00, 1.300e+00, 5.000e+02],\n       [5.450e+00, 1.510e+00, 6.500e+02],\n       [4.400e+00, 2.050e+00, 5.500e+02],\n       [2.000e+00, 2.780e+00, 3.250e+02]])"
     },
     "execution_count": 6,
     "metadata": {},
     "output_type": "execute_result"
    }
   ]
  },
  {
   "cell_type": "markdown",
   "metadata": {
    "id": "HMLiMOUr1tU9"
   },
   "source": [
    "**Задайте тип кросс-валидации с помощью StratifiedKFold: 5-кратная, random_state=17.**"
   ]
  },
  {
   "cell_type": "code",
   "metadata": {
    "id": "OTY-C4me1tU-",
    "ExecuteTime": {
     "end_time": "2024-07-02T12:34:54.941523Z",
     "start_time": "2024-07-02T12:34:54.930326Z"
    }
   },
   "source": [
    "from sklearn.model_selection import StratifiedKFold, cross_val_score"
   ],
   "execution_count": 8,
   "outputs": []
  },
  {
   "cell_type": "code",
   "metadata": {
    "id": "LOVHhQ921tVA",
    "ExecuteTime": {
     "end_time": "2024-07-02T14:01:49.606501Z",
     "start_time": "2024-07-02T14:01:49.595842Z"
    }
   },
   "source": [
    "skf = StratifiedKFold(n_splits=5, shuffle=True, random_state=17)\n",
    "\n"
   ],
   "execution_count": 38,
   "outputs": []
  },
  {
   "cell_type": "markdown",
   "metadata": {
    "id": "-2ClbxRe1tVC"
   },
   "source": [
    "### 2.\n",
    "Обучите логистическую регрессию (LogisticRegression) с параметром C по умолчанию и random_state=17. Укажите гиперпараметр multi_class='ovr' - по умолчанию многие классификаторы используют именно его. С помощью cross_val_score сделайте кросс-валидацию (используйте объект skf) и выведите среднюю долю правильных ответов на ней (используйте функцию mean). Отдельно выведите долю правильных ответов на тестовой выборке."
   ]
  },
  {
   "cell_type": "code",
   "metadata": {
    "id": "oKxIIFGU1tVE",
    "ExecuteTime": {
     "end_time": "2024-07-02T12:46:05.567110Z",
     "start_time": "2024-07-02T12:46:04.353256Z"
    }
   },
   "source": [
    "from sklearn.linear_model import LogisticRegression\n",
    "from sklearn.metrics import accuracy_score"
   ],
   "execution_count": 18,
   "outputs": []
  },
  {
   "cell_type": "code",
   "metadata": {
    "id": "CJhpcgqc1tVJ",
    "ExecuteTime": {
     "end_time": "2024-07-02T13:48:27.709512Z",
     "start_time": "2024-07-02T13:48:25.906550Z"
    }
   },
   "source": [
    "\n",
    "model = LogisticRegression(random_state=17, multi_class='ovr')\n",
    "score = cross_val_score(model, x_train,y_train, cv=skf)\n",
    "new = model.fit(x_train,y_train)\n",
    "y_pred = model.predict(x_test)\n",
    "score2 = accuracy_score(y_test, y_pred)\n",
    "print(f'skf mean score: {score.mean()}\\ntest_score {score2.mean()}')\n",
    "\n"
   ],
   "execution_count": 35,
   "outputs": [
    {
     "name": "stdout",
     "output_type": "stream",
     "text": [
      "skf mean score: 0.9152709359605911\n",
      "test_score 1.0\n"
     ]
    }
   ]
  },
  {
   "cell_type": "markdown",
   "metadata": {
    "id": "k2JoC3fB1tVM"
   },
   "source": [
    "### 3.\n",
    "Обучите метод опорных векторов (SVC) с random_state=17 и остальными параметрами по умолчанию. Этот метод при мультиклассовой классификации также использует метод \"ovr\". Сделайте кросс-валидацию (используйте skf) и, как и в предыдущем пункте, выведите среднюю долю правильных ответов на ней. Отдельно выведите долю правильных ответов на тестовой выборке."
   ]
  },
  {
   "cell_type": "code",
   "metadata": {
    "id": "50kaD7MQ1tVN",
    "ExecuteTime": {
     "end_time": "2024-07-02T13:58:18.921572Z",
     "start_time": "2024-07-02T13:58:18.876522Z"
    }
   },
   "source": [
    "from sklearn.svm import SVC"
   ],
   "execution_count": 36,
   "outputs": []
  },
  {
   "cell_type": "code",
   "metadata": {
    "id": "3DCvlNRd1tVR",
    "ExecuteTime": {
     "end_time": "2024-07-02T14:22:24.808419Z",
     "start_time": "2024-07-02T14:22:24.759409Z"
    }
   },
   "source": [
    "### YOUR CODE HERE ###\n",
    "\n",
    "svc = SVC(random_state=17)\n",
    "model2 = svc.fit(x_train,y_train)\n",
    "y_pred2 = model2.predict(x_test)\n",
    "\n",
    "score3 = SVC.score(model2,x_train, y_train)\n",
    "score4 = accuracy_score(y_test,y_pred2)\n",
    "score4\n",
    "\n",
    "\n"
   ],
   "execution_count": 48,
   "outputs": [
    {
     "data": {
      "text/plain": "0.6666666666666666"
     },
     "execution_count": 48,
     "metadata": {},
     "output_type": "execute_result"
    }
   ]
  },
  {
   "cell_type": "markdown",
   "metadata": {
    "id": "xMvjv6pR1tVX"
   },
   "source": [
    "Как видно из полученной метрики, на тестовой выборке метод с гиперпараметрами по умолчанию работает явно намного хуже логистической регрессии. В целом, SVM достаточно плохо масштабируется на размер обучающего набора данных (как видно, даже с тремя признаками он работает не очень хорошо), но благодаря возможности выбора различных ядер (функций близости, которые помогают разделять данные) и другим гиперпараметрам SVM можно достаточно точно настроить под определенный вид данных. Подробнее на этом останавливаться в контексте данного урока не будем."
   ]
  },
  {
   "cell_type": "markdown",
   "metadata": {
    "id": "0LqZbdk31tVY"
   },
   "source": [
    "### 4.\n",
    "Для предсказаний обеих моделей постройте матрицу ошибок (confusion matrix) и напишите, какие классы каждая из моделей путает больше всего между собой."
   ]
  },
  {
   "cell_type": "code",
   "metadata": {
    "id": "5dRSK--u1tVY",
    "ExecuteTime": {
     "end_time": "2024-07-02T14:03:54.360820Z",
     "start_time": "2024-07-02T14:03:54.343782Z"
    }
   },
   "source": [
    "from sklearn.metrics import classification_report, confusion_matrix"
   ],
   "execution_count": 41,
   "outputs": []
  },
  {
   "cell_type": "code",
   "metadata": {
    "id": "VkXUKkhp1tVb",
    "ExecuteTime": {
     "end_time": "2024-07-02T14:24:47.043631Z",
     "start_time": "2024-07-02T14:24:47.020625Z"
    }
   },
   "source": [
    "### YOUR CODE HERE ###\n",
    "\n",
    "conf_mtrx = confusion_matrix(y_test,y_pred)\n",
    "conf_mtrx2 = confusion_matrix(y_test, y_pred2)\n",
    "conf_mtrx2\n",
    "\n",
    "\n",
    "\n"
   ],
   "execution_count": 49,
   "outputs": [
    {
     "data": {
      "text/plain": "array([[ 8,  0,  0],\n       [ 0, 16,  0],\n       [ 1, 11,  0]], dtype=int64)"
     },
     "execution_count": 49,
     "metadata": {},
     "output_type": "execute_result"
    }
   ]
  },
  {
   "cell_type": "markdown",
   "metadata": {
    "id": "mqW8if321tVd"
   },
   "source": [
    "### 5.\n",
    "Для каждой модели выведите classification report."
   ]
  },
  {
   "cell_type": "code",
   "metadata": {
    "id": "iuu7neuS1tVe",
    "ExecuteTime": {
     "end_time": "2024-07-02T14:26:52.089607Z",
     "start_time": "2024-07-02T14:26:51.977052Z"
    }
   },
   "source": [
    "### YOUR CODE HERE ###\n",
    "rep1 = classification_report(y_test, y_pred)\n",
    "print(rep1)\n",
    "rep2 = classification_report(y_test, y_pred2)\n",
    "print(rep2)\n",
    "\n",
    "\n",
    "\n",
    "\n"
   ],
   "execution_count": 52,
   "outputs": [
    {
     "name": "stdout",
     "output_type": "stream",
     "text": [
      "              precision    recall  f1-score   support\n",
      "\n",
      "           0       1.00      1.00      1.00         8\n",
      "           1       1.00      1.00      1.00        16\n",
      "           2       1.00      1.00      1.00        12\n",
      "\n",
      "    accuracy                           1.00        36\n",
      "   macro avg       1.00      1.00      1.00        36\n",
      "weighted avg       1.00      1.00      1.00        36\n",
      "\n",
      "              precision    recall  f1-score   support\n",
      "\n",
      "           0       0.89      1.00      0.94         8\n",
      "           1       0.59      1.00      0.74        16\n",
      "           2       0.00      0.00      0.00        12\n",
      "\n",
      "    accuracy                           0.67        36\n",
      "   macro avg       0.49      0.67      0.56        36\n",
      "weighted avg       0.46      0.67      0.54        36\n"
     ]
    },
    {
     "name": "stderr",
     "output_type": "stream",
     "text": [
      "C:\\ProgramData\\anaconda3\\Lib\\site-packages\\sklearn\\metrics\\_classification.py:1344: UndefinedMetricWarning: Precision and F-score are ill-defined and being set to 0.0 in labels with no predicted samples. Use `zero_division` parameter to control this behavior.\n",
      "  _warn_prf(average, modifier, msg_start, len(result))\n",
      "C:\\ProgramData\\anaconda3\\Lib\\site-packages\\sklearn\\metrics\\_classification.py:1344: UndefinedMetricWarning: Precision and F-score are ill-defined and being set to 0.0 in labels with no predicted samples. Use `zero_division` parameter to control this behavior.\n",
      "  _warn_prf(average, modifier, msg_start, len(result))\n",
      "C:\\ProgramData\\anaconda3\\Lib\\site-packages\\sklearn\\metrics\\_classification.py:1344: UndefinedMetricWarning: Precision and F-score are ill-defined and being set to 0.0 in labels with no predicted samples. Use `zero_division` parameter to control this behavior.\n",
      "  _warn_prf(average, modifier, msg_start, len(result))\n"
     ]
    }
   ]
  }
 ]
}
