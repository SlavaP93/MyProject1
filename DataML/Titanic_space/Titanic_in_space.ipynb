{
 "cells": [
  {
   "cell_type": "code",
   "execution_count": 328,
   "id": "initial_id",
   "metadata": {
    "collapsed": true,
    "ExecuteTime": {
     "end_time": "2024-07-17T14:51:48.906785Z",
     "start_time": "2024-07-17T14:51:48.881861Z"
    }
   },
   "outputs": [],
   "source": [
    "import pandas as pd\n",
    "import numpy as np\n",
    "import matplotlib.pyplot as plt\n",
    "import seaborn as sns\n",
    "%matplotlib inline"
   ]
  },
  {
   "cell_type": "code",
   "outputs": [
    {
     "name": "stdout",
     "output_type": "stream",
     "text": [
      "<class 'pandas.core.frame.DataFrame'>\n",
      "RangeIndex: 8693 entries, 0 to 8692\n",
      "Data columns (total 14 columns):\n",
      " #   Column        Non-Null Count  Dtype  \n",
      "---  ------        --------------  -----  \n",
      " 0   PassengerId   8693 non-null   object \n",
      " 1   HomePlanet    8492 non-null   object \n",
      " 2   CryoSleep     8476 non-null   object \n",
      " 3   Cabin         8494 non-null   object \n",
      " 4   Destination   8511 non-null   object \n",
      " 5   Age           8514 non-null   float64\n",
      " 6   VIP           8490 non-null   object \n",
      " 7   RoomService   8512 non-null   float64\n",
      " 8   FoodCourt     8510 non-null   float64\n",
      " 9   ShoppingMall  8485 non-null   float64\n",
      " 10  Spa           8510 non-null   float64\n",
      " 11  VRDeck        8505 non-null   float64\n",
      " 12  Name          8493 non-null   object \n",
      " 13  Transported   8693 non-null   bool   \n",
      "dtypes: bool(1), float64(6), object(7)\n",
      "memory usage: 891.5+ KB\n"
     ]
    }
   ],
   "source": [
    "train = pd.read_csv('spaceship-titanic/train.csv', index_col=False)\n",
    "test = pd.read_csv('spaceship-titanic/test.csv',index_col=False)\n",
    "\n",
    "train.info()"
   ],
   "metadata": {
    "collapsed": false,
    "ExecuteTime": {
     "end_time": "2024-07-17T14:51:50.103438Z",
     "start_time": "2024-07-17T14:51:49.305585Z"
    }
   },
   "id": "9f5d4ccb6d2e8e24",
   "execution_count": 329
  },
  {
   "cell_type": "code",
   "outputs": [
    {
     "data": {
      "text/plain": "     HomePlanet CryoSleep     Cabin    Destination   Age    VIP  RoomService  \\\n0        Europa     False     B/0/P    TRAPPIST-1e  39.0  False          0.0   \n1         Earth     False     F/0/S    TRAPPIST-1e  24.0  False        109.0   \n2        Europa     False     A/0/S    TRAPPIST-1e  58.0   True         43.0   \n3        Europa     False     A/0/S    TRAPPIST-1e  33.0  False          0.0   \n4         Earth     False     F/1/S    TRAPPIST-1e  16.0  False        303.0   \n...         ...       ...       ...            ...   ...    ...          ...   \n8688     Europa     False    A/98/P    55 Cancri e  41.0   True          0.0   \n8689      Earth      True  G/1499/S  PSO J318.5-22  18.0  False          0.0   \n8690      Earth     False  G/1500/S    TRAPPIST-1e  26.0  False          0.0   \n8691     Europa     False   E/608/S    55 Cancri e  32.0  False          0.0   \n8692     Europa     False   E/608/S    TRAPPIST-1e  44.0  False        126.0   \n\n      FoodCourt  ShoppingMall     Spa  VRDeck               Name  Transported  \\\n0           0.0           0.0     0.0     0.0    Maham Ofracculy        False   \n1           9.0          25.0   549.0    44.0       Juanna Vines         True   \n2        3576.0           0.0  6715.0    49.0      Altark Susent        False   \n3        1283.0         371.0  3329.0   193.0       Solam Susent        False   \n4          70.0         151.0   565.0     2.0  Willy Santantines         True   \n...         ...           ...     ...     ...                ...          ...   \n8688     6819.0           0.0  1643.0    74.0  Gravior Noxnuther        False   \n8689        0.0           0.0     0.0     0.0    Kurta Mondalley        False   \n8690        0.0        1872.0     1.0     0.0       Fayey Connon         True   \n8691     1049.0           0.0   353.0  3235.0   Celeon Hontichre        False   \n8692     4688.0           0.0     0.0    12.0   Propsh Hontichre         True   \n\n     GroupID IDinGroup  \n0       0001        01  \n1       0002        01  \n2       0003        01  \n3       0003        02  \n4       0004        01  \n...      ...       ...  \n8688    9276        01  \n8689    9278        01  \n8690    9279        01  \n8691    9280        01  \n8692    9280        02  \n\n[8693 rows x 15 columns]",
      "text/html": "<div>\n<style scoped>\n    .dataframe tbody tr th:only-of-type {\n        vertical-align: middle;\n    }\n\n    .dataframe tbody tr th {\n        vertical-align: top;\n    }\n\n    .dataframe thead th {\n        text-align: right;\n    }\n</style>\n<table border=\"1\" class=\"dataframe\">\n  <thead>\n    <tr style=\"text-align: right;\">\n      <th></th>\n      <th>HomePlanet</th>\n      <th>CryoSleep</th>\n      <th>Cabin</th>\n      <th>Destination</th>\n      <th>Age</th>\n      <th>VIP</th>\n      <th>RoomService</th>\n      <th>FoodCourt</th>\n      <th>ShoppingMall</th>\n      <th>Spa</th>\n      <th>VRDeck</th>\n      <th>Name</th>\n      <th>Transported</th>\n      <th>GroupID</th>\n      <th>IDinGroup</th>\n    </tr>\n  </thead>\n  <tbody>\n    <tr>\n      <th>0</th>\n      <td>Europa</td>\n      <td>False</td>\n      <td>B/0/P</td>\n      <td>TRAPPIST-1e</td>\n      <td>39.0</td>\n      <td>False</td>\n      <td>0.0</td>\n      <td>0.0</td>\n      <td>0.0</td>\n      <td>0.0</td>\n      <td>0.0</td>\n      <td>Maham Ofracculy</td>\n      <td>False</td>\n      <td>0001</td>\n      <td>01</td>\n    </tr>\n    <tr>\n      <th>1</th>\n      <td>Earth</td>\n      <td>False</td>\n      <td>F/0/S</td>\n      <td>TRAPPIST-1e</td>\n      <td>24.0</td>\n      <td>False</td>\n      <td>109.0</td>\n      <td>9.0</td>\n      <td>25.0</td>\n      <td>549.0</td>\n      <td>44.0</td>\n      <td>Juanna Vines</td>\n      <td>True</td>\n      <td>0002</td>\n      <td>01</td>\n    </tr>\n    <tr>\n      <th>2</th>\n      <td>Europa</td>\n      <td>False</td>\n      <td>A/0/S</td>\n      <td>TRAPPIST-1e</td>\n      <td>58.0</td>\n      <td>True</td>\n      <td>43.0</td>\n      <td>3576.0</td>\n      <td>0.0</td>\n      <td>6715.0</td>\n      <td>49.0</td>\n      <td>Altark Susent</td>\n      <td>False</td>\n      <td>0003</td>\n      <td>01</td>\n    </tr>\n    <tr>\n      <th>3</th>\n      <td>Europa</td>\n      <td>False</td>\n      <td>A/0/S</td>\n      <td>TRAPPIST-1e</td>\n      <td>33.0</td>\n      <td>False</td>\n      <td>0.0</td>\n      <td>1283.0</td>\n      <td>371.0</td>\n      <td>3329.0</td>\n      <td>193.0</td>\n      <td>Solam Susent</td>\n      <td>False</td>\n      <td>0003</td>\n      <td>02</td>\n    </tr>\n    <tr>\n      <th>4</th>\n      <td>Earth</td>\n      <td>False</td>\n      <td>F/1/S</td>\n      <td>TRAPPIST-1e</td>\n      <td>16.0</td>\n      <td>False</td>\n      <td>303.0</td>\n      <td>70.0</td>\n      <td>151.0</td>\n      <td>565.0</td>\n      <td>2.0</td>\n      <td>Willy Santantines</td>\n      <td>True</td>\n      <td>0004</td>\n      <td>01</td>\n    </tr>\n    <tr>\n      <th>...</th>\n      <td>...</td>\n      <td>...</td>\n      <td>...</td>\n      <td>...</td>\n      <td>...</td>\n      <td>...</td>\n      <td>...</td>\n      <td>...</td>\n      <td>...</td>\n      <td>...</td>\n      <td>...</td>\n      <td>...</td>\n      <td>...</td>\n      <td>...</td>\n      <td>...</td>\n    </tr>\n    <tr>\n      <th>8688</th>\n      <td>Europa</td>\n      <td>False</td>\n      <td>A/98/P</td>\n      <td>55 Cancri e</td>\n      <td>41.0</td>\n      <td>True</td>\n      <td>0.0</td>\n      <td>6819.0</td>\n      <td>0.0</td>\n      <td>1643.0</td>\n      <td>74.0</td>\n      <td>Gravior Noxnuther</td>\n      <td>False</td>\n      <td>9276</td>\n      <td>01</td>\n    </tr>\n    <tr>\n      <th>8689</th>\n      <td>Earth</td>\n      <td>True</td>\n      <td>G/1499/S</td>\n      <td>PSO J318.5-22</td>\n      <td>18.0</td>\n      <td>False</td>\n      <td>0.0</td>\n      <td>0.0</td>\n      <td>0.0</td>\n      <td>0.0</td>\n      <td>0.0</td>\n      <td>Kurta Mondalley</td>\n      <td>False</td>\n      <td>9278</td>\n      <td>01</td>\n    </tr>\n    <tr>\n      <th>8690</th>\n      <td>Earth</td>\n      <td>False</td>\n      <td>G/1500/S</td>\n      <td>TRAPPIST-1e</td>\n      <td>26.0</td>\n      <td>False</td>\n      <td>0.0</td>\n      <td>0.0</td>\n      <td>1872.0</td>\n      <td>1.0</td>\n      <td>0.0</td>\n      <td>Fayey Connon</td>\n      <td>True</td>\n      <td>9279</td>\n      <td>01</td>\n    </tr>\n    <tr>\n      <th>8691</th>\n      <td>Europa</td>\n      <td>False</td>\n      <td>E/608/S</td>\n      <td>55 Cancri e</td>\n      <td>32.0</td>\n      <td>False</td>\n      <td>0.0</td>\n      <td>1049.0</td>\n      <td>0.0</td>\n      <td>353.0</td>\n      <td>3235.0</td>\n      <td>Celeon Hontichre</td>\n      <td>False</td>\n      <td>9280</td>\n      <td>01</td>\n    </tr>\n    <tr>\n      <th>8692</th>\n      <td>Europa</td>\n      <td>False</td>\n      <td>E/608/S</td>\n      <td>TRAPPIST-1e</td>\n      <td>44.0</td>\n      <td>False</td>\n      <td>126.0</td>\n      <td>4688.0</td>\n      <td>0.0</td>\n      <td>0.0</td>\n      <td>12.0</td>\n      <td>Propsh Hontichre</td>\n      <td>True</td>\n      <td>9280</td>\n      <td>02</td>\n    </tr>\n  </tbody>\n</table>\n<p>8693 rows × 15 columns</p>\n</div>"
     },
     "execution_count": 330,
     "metadata": {},
     "output_type": "execute_result"
    }
   ],
   "source": [
    "data = [train,test]\n",
    "\n",
    "for i in data:\n",
    "    i['GroupID'], i['IDinGroup'] = (i['PassengerId'].apply(lambda x: x[:4]),\n",
    "                                    i['PassengerId'].apply(lambda x: x[5:]))\n",
    "    i.drop('PassengerId', axis=1,inplace=True)\n",
    "data[0]"
   ],
   "metadata": {
    "collapsed": false,
    "ExecuteTime": {
     "end_time": "2024-07-17T14:51:50.517305Z",
     "start_time": "2024-07-17T14:51:50.117915Z"
    }
   },
   "id": "b6f56da159aae9c6",
   "execution_count": 330
  },
  {
   "cell_type": "code",
   "outputs": [
    {
     "data": {
      "text/plain": "Transported\n[False]          2868\n[True]           2552\n[True, False]       1\n[True, False]       1\n[False, True]       1\n                 ... \n[True, False]       1\n[False, True]       1\n[True, False]       1\n[True, False]       1\n[False, True]       1\nName: count, Length: 799, dtype: int64"
     },
     "execution_count": 331,
     "metadata": {},
     "output_type": "execute_result"
    }
   ],
   "source": [
    "groped = train.groupby(train['GroupID'])['Transported'].unique()\n",
    "groped.value_counts()"
   ],
   "metadata": {
    "collapsed": false,
    "ExecuteTime": {
     "end_time": "2024-07-17T14:51:57.858206Z",
     "start_time": "2024-07-17T14:51:50.547749Z"
    }
   },
   "id": "83ab65b0256cce28",
   "execution_count": 331
  },
  {
   "cell_type": "code",
   "outputs": [
    {
     "data": {
      "text/plain": "array(['Europa', 'Earth', 'Mars', nan], dtype=object)"
     },
     "execution_count": 332,
     "metadata": {},
     "output_type": "execute_result"
    }
   ],
   "source": [
    "train['HomePlanet'].unique()\n"
   ],
   "metadata": {
    "collapsed": false,
    "ExecuteTime": {
     "end_time": "2024-07-17T14:51:57.931378Z",
     "start_time": "2024-07-17T14:51:57.866192Z"
    }
   },
   "id": "ba86b0449c94aff7",
   "execution_count": 332
  },
  {
   "cell_type": "code",
   "outputs": [],
   "source": [
    "for i in data:\n",
    "    i['HomePlanet'] = i['HomePlanet'].fillna(0)\n",
    "    i['HomePlanet'] = i['HomePlanet'].map({'Europa': 1,'Earth':2, 'Mars':3, 0:0})\n"
   ],
   "metadata": {
    "collapsed": false,
    "ExecuteTime": {
     "end_time": "2024-07-17T14:51:58.042113Z",
     "start_time": "2024-07-17T14:51:57.969462Z"
    }
   },
   "id": "e7e817036111d031",
   "execution_count": 333
  },
  {
   "cell_type": "code",
   "outputs": [
    {
     "data": {
      "text/plain": "HomePlanet\n0     103\n1    1404\n2    1951\n3     920\nName: Transported, dtype: int64"
     },
     "execution_count": 334,
     "metadata": {},
     "output_type": "execute_result"
    }
   ],
   "source": [
    "train.groupby('HomePlanet')['Transported'].sum()"
   ],
   "metadata": {
    "collapsed": false,
    "ExecuteTime": {
     "end_time": "2024-07-17T14:51:58.096409Z",
     "start_time": "2024-07-17T14:51:58.050820Z"
    }
   },
   "id": "e01cfbb29b7e7fa",
   "execution_count": 334
  },
  {
   "cell_type": "code",
   "outputs": [
    {
     "ename": "AttributeError",
     "evalue": "'numpy.int64' object has no attribute 'startswith'",
     "output_type": "error",
     "traceback": [
      "\u001B[1;31m---------------------------------------------------------------------------\u001B[0m",
      "\u001B[1;31mAttributeError\u001B[0m                            Traceback (most recent call last)",
      "Cell \u001B[1;32mIn[335], line 2\u001B[0m\n\u001B[0;32m      1\u001B[0m fig, ax\u001B[38;5;241m=\u001B[39mplt\u001B[38;5;241m.\u001B[39msubplots(\u001B[38;5;241m1\u001B[39m,figsize\u001B[38;5;241m=\u001B[39m(\u001B[38;5;241m8\u001B[39m,\u001B[38;5;241m6\u001B[39m))\n\u001B[1;32m----> 2\u001B[0m sns\u001B[38;5;241m.\u001B[39mcountplot(x\u001B[38;5;241m=\u001B[39m\u001B[38;5;124m'\u001B[39m\u001B[38;5;124mTransported\u001B[39m\u001B[38;5;124m'\u001B[39m ,hue\u001B[38;5;241m=\u001B[39m\u001B[38;5;124m'\u001B[39m\u001B[38;5;124mHomePlanet\u001B[39m\u001B[38;5;124m'\u001B[39m, data\u001B[38;5;241m=\u001B[39mtrain)\n\u001B[0;32m      3\u001B[0m ax\u001B[38;5;241m.\u001B[39mset_ylim(\u001B[38;5;241m0\u001B[39m,\u001B[38;5;241m2000\u001B[39m)\n\u001B[0;32m      4\u001B[0m plt\u001B[38;5;241m.\u001B[39mtitle(\u001B[38;5;124m\"\u001B[39m\u001B[38;5;124mTransported vs Planet\u001B[39m\u001B[38;5;124m\"\u001B[39m)\n",
      "File \u001B[1;32mC:\\ProgramData\\anaconda3\\Lib\\site-packages\\seaborn\\categorical.py:2955\u001B[0m, in \u001B[0;36mcountplot\u001B[1;34m(data, x, y, hue, order, hue_order, orient, color, palette, saturation, width, dodge, ax, **kwargs)\u001B[0m\n\u001B[0;32m   2952\u001B[0m \u001B[38;5;28;01mif\u001B[39;00m ax \u001B[38;5;129;01mis\u001B[39;00m \u001B[38;5;28;01mNone\u001B[39;00m:\n\u001B[0;32m   2953\u001B[0m     ax \u001B[38;5;241m=\u001B[39m plt\u001B[38;5;241m.\u001B[39mgca()\n\u001B[1;32m-> 2955\u001B[0m plotter\u001B[38;5;241m.\u001B[39mplot(ax, kwargs)\n\u001B[0;32m   2956\u001B[0m \u001B[38;5;28;01mreturn\u001B[39;00m ax\n",
      "File \u001B[1;32mC:\\ProgramData\\anaconda3\\Lib\\site-packages\\seaborn\\categorical.py:1587\u001B[0m, in \u001B[0;36m_BarPlotter.plot\u001B[1;34m(self, ax, bar_kws)\u001B[0m\n\u001B[0;32m   1585\u001B[0m \u001B[38;5;250m\u001B[39m\u001B[38;5;124;03m\"\"\"Make the plot.\"\"\"\u001B[39;00m\n\u001B[0;32m   1586\u001B[0m \u001B[38;5;28mself\u001B[39m\u001B[38;5;241m.\u001B[39mdraw_bars(ax, bar_kws)\n\u001B[1;32m-> 1587\u001B[0m \u001B[38;5;28mself\u001B[39m\u001B[38;5;241m.\u001B[39mannotate_axes(ax)\n\u001B[0;32m   1588\u001B[0m \u001B[38;5;28;01mif\u001B[39;00m \u001B[38;5;28mself\u001B[39m\u001B[38;5;241m.\u001B[39morient \u001B[38;5;241m==\u001B[39m \u001B[38;5;124m\"\u001B[39m\u001B[38;5;124mh\u001B[39m\u001B[38;5;124m\"\u001B[39m:\n\u001B[0;32m   1589\u001B[0m     ax\u001B[38;5;241m.\u001B[39minvert_yaxis()\n",
      "File \u001B[1;32mC:\\ProgramData\\anaconda3\\Lib\\site-packages\\seaborn\\categorical.py:767\u001B[0m, in \u001B[0;36m_CategoricalPlotter.annotate_axes\u001B[1;34m(self, ax)\u001B[0m\n\u001B[0;32m    764\u001B[0m     ax\u001B[38;5;241m.\u001B[39mset_ylim(\u001B[38;5;241m-\u001B[39m\u001B[38;5;241m.5\u001B[39m, \u001B[38;5;28mlen\u001B[39m(\u001B[38;5;28mself\u001B[39m\u001B[38;5;241m.\u001B[39mplot_data) \u001B[38;5;241m-\u001B[39m \u001B[38;5;241m.5\u001B[39m, auto\u001B[38;5;241m=\u001B[39m\u001B[38;5;28;01mNone\u001B[39;00m)\n\u001B[0;32m    766\u001B[0m \u001B[38;5;28;01mif\u001B[39;00m \u001B[38;5;28mself\u001B[39m\u001B[38;5;241m.\u001B[39mhue_names \u001B[38;5;129;01mis\u001B[39;00m \u001B[38;5;129;01mnot\u001B[39;00m \u001B[38;5;28;01mNone\u001B[39;00m:\n\u001B[1;32m--> 767\u001B[0m     ax\u001B[38;5;241m.\u001B[39mlegend(loc\u001B[38;5;241m=\u001B[39m\u001B[38;5;124m\"\u001B[39m\u001B[38;5;124mbest\u001B[39m\u001B[38;5;124m\"\u001B[39m, title\u001B[38;5;241m=\u001B[39m\u001B[38;5;28mself\u001B[39m\u001B[38;5;241m.\u001B[39mhue_title)\n",
      "File \u001B[1;32mC:\\ProgramData\\anaconda3\\Lib\\site-packages\\matplotlib\\axes\\_axes.py:322\u001B[0m, in \u001B[0;36mAxes.legend\u001B[1;34m(self, *args, **kwargs)\u001B[0m\n\u001B[0;32m    204\u001B[0m \u001B[38;5;129m@_docstring\u001B[39m\u001B[38;5;241m.\u001B[39mdedent_interpd\n\u001B[0;32m    205\u001B[0m \u001B[38;5;28;01mdef\u001B[39;00m \u001B[38;5;21mlegend\u001B[39m(\u001B[38;5;28mself\u001B[39m, \u001B[38;5;241m*\u001B[39margs, \u001B[38;5;241m*\u001B[39m\u001B[38;5;241m*\u001B[39mkwargs):\n\u001B[0;32m    206\u001B[0m \u001B[38;5;250m    \u001B[39m\u001B[38;5;124;03m\"\"\"\u001B[39;00m\n\u001B[0;32m    207\u001B[0m \u001B[38;5;124;03m    Place a legend on the Axes.\u001B[39;00m\n\u001B[0;32m    208\u001B[0m \n\u001B[1;32m   (...)\u001B[0m\n\u001B[0;32m    320\u001B[0m \u001B[38;5;124;03m    .. plot:: gallery/text_labels_and_annotations/legend.py\u001B[39;00m\n\u001B[0;32m    321\u001B[0m \u001B[38;5;124;03m    \"\"\"\u001B[39;00m\n\u001B[1;32m--> 322\u001B[0m     handles, labels, kwargs \u001B[38;5;241m=\u001B[39m mlegend\u001B[38;5;241m.\u001B[39m_parse_legend_args([\u001B[38;5;28mself\u001B[39m], \u001B[38;5;241m*\u001B[39margs, \u001B[38;5;241m*\u001B[39m\u001B[38;5;241m*\u001B[39mkwargs)\n\u001B[0;32m    323\u001B[0m     \u001B[38;5;28mself\u001B[39m\u001B[38;5;241m.\u001B[39mlegend_ \u001B[38;5;241m=\u001B[39m mlegend\u001B[38;5;241m.\u001B[39mLegend(\u001B[38;5;28mself\u001B[39m, handles, labels, \u001B[38;5;241m*\u001B[39m\u001B[38;5;241m*\u001B[39mkwargs)\n\u001B[0;32m    324\u001B[0m     \u001B[38;5;28mself\u001B[39m\u001B[38;5;241m.\u001B[39mlegend_\u001B[38;5;241m.\u001B[39m_remove_method \u001B[38;5;241m=\u001B[39m \u001B[38;5;28mself\u001B[39m\u001B[38;5;241m.\u001B[39m_remove_legend\n",
      "File \u001B[1;32mC:\\ProgramData\\anaconda3\\Lib\\site-packages\\matplotlib\\legend.py:1361\u001B[0m, in \u001B[0;36m_parse_legend_args\u001B[1;34m(axs, handles, labels, *args, **kwargs)\u001B[0m\n\u001B[0;32m   1357\u001B[0m     handles \u001B[38;5;241m=\u001B[39m [handle \u001B[38;5;28;01mfor\u001B[39;00m handle, label\n\u001B[0;32m   1358\u001B[0m                \u001B[38;5;129;01min\u001B[39;00m \u001B[38;5;28mzip\u001B[39m(_get_legend_handles(axs, handlers), labels)]\n\u001B[0;32m   1360\u001B[0m \u001B[38;5;28;01melif\u001B[39;00m \u001B[38;5;28mlen\u001B[39m(args) \u001B[38;5;241m==\u001B[39m \u001B[38;5;241m0\u001B[39m:  \u001B[38;5;66;03m# 0 args: automatically detect labels and handles.\u001B[39;00m\n\u001B[1;32m-> 1361\u001B[0m     handles, labels \u001B[38;5;241m=\u001B[39m _get_legend_handles_labels(axs, handlers)\n\u001B[0;32m   1362\u001B[0m     \u001B[38;5;28;01mif\u001B[39;00m \u001B[38;5;129;01mnot\u001B[39;00m handles:\n\u001B[0;32m   1363\u001B[0m         log\u001B[38;5;241m.\u001B[39mwarning(\n\u001B[0;32m   1364\u001B[0m             \u001B[38;5;124m\"\u001B[39m\u001B[38;5;124mNo artists with labels found to put in legend.  Note that \u001B[39m\u001B[38;5;124m\"\u001B[39m\n\u001B[0;32m   1365\u001B[0m             \u001B[38;5;124m\"\u001B[39m\u001B[38;5;124martists whose label start with an underscore are ignored \u001B[39m\u001B[38;5;124m\"\u001B[39m\n\u001B[0;32m   1366\u001B[0m             \u001B[38;5;124m\"\u001B[39m\u001B[38;5;124mwhen legend() is called with no argument.\u001B[39m\u001B[38;5;124m\"\u001B[39m)\n",
      "File \u001B[1;32mC:\\ProgramData\\anaconda3\\Lib\\site-packages\\matplotlib\\legend.py:1291\u001B[0m, in \u001B[0;36m_get_legend_handles_labels\u001B[1;34m(axs, legend_handler_map)\u001B[0m\n\u001B[0;32m   1289\u001B[0m \u001B[38;5;28;01mfor\u001B[39;00m handle \u001B[38;5;129;01min\u001B[39;00m _get_legend_handles(axs, legend_handler_map):\n\u001B[0;32m   1290\u001B[0m     label \u001B[38;5;241m=\u001B[39m handle\u001B[38;5;241m.\u001B[39mget_label()\n\u001B[1;32m-> 1291\u001B[0m     \u001B[38;5;28;01mif\u001B[39;00m label \u001B[38;5;129;01mand\u001B[39;00m \u001B[38;5;129;01mnot\u001B[39;00m label\u001B[38;5;241m.\u001B[39mstartswith(\u001B[38;5;124m'\u001B[39m\u001B[38;5;124m_\u001B[39m\u001B[38;5;124m'\u001B[39m):\n\u001B[0;32m   1292\u001B[0m         handles\u001B[38;5;241m.\u001B[39mappend(handle)\n\u001B[0;32m   1293\u001B[0m         labels\u001B[38;5;241m.\u001B[39mappend(label)\n",
      "\u001B[1;31mAttributeError\u001B[0m: 'numpy.int64' object has no attribute 'startswith'"
     ]
    },
    {
     "data": {
      "text/plain": "<Figure size 800x600 with 1 Axes>",
      "image/png": "[encoded data removed]"
     },
     "metadata": {},
     "output_type": "display_data"
    }
   ],
   "source": [
    "fig, ax=plt.subplots(1,figsize=(8,6))\n",
    "sns.countplot(x='Transported' ,hue='HomePlanet', data=train)\n",
    "ax.set_ylim(0,2000)\n",
    "plt.title(\"Transported vs Planet\")\n",
    "plt.show()"
   ],
   "metadata": {
    "collapsed": false,
    "ExecuteTime": {
     "end_time": "2024-07-17T14:51:59.267035Z",
     "start_time": "2024-07-17T14:51:58.104849Z"
    }
   },
   "id": "85918a49d3cee796",
   "execution_count": 335
  },
  {
   "cell_type": "code",
   "outputs": [],
   "source": [
    "train.groupby('CryoSleep')['Transported'].sum()"
   ],
   "metadata": {
    "collapsed": false,
    "ExecuteTime": {
     "end_time": "2024-07-17T14:51:59.279057Z",
     "start_time": "2024-07-17T14:51:59.276486Z"
    }
   },
   "id": "7683d09b71b4f01",
   "execution_count": null
  },
  {
   "cell_type": "code",
   "outputs": [],
   "source": [
    "fig, ax=plt.subplots(1,figsize=(8,6))\n",
    "sns.countplot(x='Transported' ,hue='CryoSleep', data=train)\n",
    "ax.set_ylim(0,5000)\n",
    "plt.title(\"Transported vs Planet\")\n",
    "plt.show()"
   ],
   "metadata": {
    "collapsed": false,
    "ExecuteTime": {
     "end_time": "2024-07-17T14:51:59.286617Z",
     "start_time": "2024-07-17T14:51:59.285327Z"
    }
   },
   "id": "f69b2d6752acf065",
   "execution_count": null
  },
  {
   "cell_type": "code",
   "outputs": [],
   "source": [],
   "metadata": {
    "collapsed": false,
    "ExecuteTime": {
     "end_time": "2024-07-17T14:51:59.296751Z",
     "start_time": "2024-07-17T14:51:59.294245Z"
    }
   },
   "id": "2c3cf0580402d2c1",
   "execution_count": null
  },
  {
   "cell_type": "code",
   "outputs": [
    {
     "data": {
      "text/plain": "   Cabin_x GroupID   Cabin_y\n0      NaN    0110     B/5/P\n1      NaN    0244    F/47/S\n2      NaN    0278    G/45/P\n3      NaN    0287    B/12/P\n4      NaN    0348    D/12/P\n..     ...     ...       ...\n95     NaN    8770  F/1808/P\n96     NaN    8772   B/339/S\n97     NaN    9057   B/296/P\n98     NaN    9069   B/297/P\n99     NaN    9081  G/1476/P\n\n[100 rows x 3 columns]",
      "text/html": "<div>\n<style scoped>\n    .dataframe tbody tr th:only-of-type {\n        vertical-align: middle;\n    }\n\n    .dataframe tbody tr th {\n        vertical-align: top;\n    }\n\n    .dataframe thead th {\n        text-align: right;\n    }\n</style>\n<table border=\"1\" class=\"dataframe\">\n  <thead>\n    <tr style=\"text-align: right;\">\n      <th></th>\n      <th>Cabin_x</th>\n      <th>GroupID</th>\n      <th>Cabin_y</th>\n    </tr>\n  </thead>\n  <tbody>\n    <tr>\n      <th>0</th>\n      <td>NaN</td>\n      <td>0110</td>\n      <td>B/5/P</td>\n    </tr>\n    <tr>\n      <th>1</th>\n      <td>NaN</td>\n      <td>0244</td>\n      <td>F/47/S</td>\n    </tr>\n    <tr>\n      <th>2</th>\n      <td>NaN</td>\n      <td>0278</td>\n      <td>G/45/P</td>\n    </tr>\n    <tr>\n      <th>3</th>\n      <td>NaN</td>\n      <td>0287</td>\n      <td>B/12/P</td>\n    </tr>\n    <tr>\n      <th>4</th>\n      <td>NaN</td>\n      <td>0348</td>\n      <td>D/12/P</td>\n    </tr>\n    <tr>\n      <th>...</th>\n      <td>...</td>\n      <td>...</td>\n      <td>...</td>\n    </tr>\n    <tr>\n      <th>95</th>\n      <td>NaN</td>\n      <td>8770</td>\n      <td>F/1808/P</td>\n    </tr>\n    <tr>\n      <th>96</th>\n      <td>NaN</td>\n      <td>8772</td>\n      <td>B/339/S</td>\n    </tr>\n    <tr>\n      <th>97</th>\n      <td>NaN</td>\n      <td>9057</td>\n      <td>B/296/P</td>\n    </tr>\n    <tr>\n      <th>98</th>\n      <td>NaN</td>\n      <td>9069</td>\n      <td>B/297/P</td>\n    </tr>\n    <tr>\n      <th>99</th>\n      <td>NaN</td>\n      <td>9081</td>\n      <td>G/1476/P</td>\n    </tr>\n  </tbody>\n</table>\n<p>100 rows × 3 columns</p>\n</div>"
     },
     "execution_count": 336,
     "metadata": {},
     "output_type": "execute_result"
    }
   ],
   "source": [
    "have_cabin = train[train.Cabin.notna() == True].drop_duplicates(subset=['GroupID'])\n",
    "no_cabin = train[train.Cabin.isna() == True]\n",
    "new = no_cabin[['Cabin', 'GroupID']].merge(have_cabin[['Cabin', 'GroupID']], on='GroupID', how='inner')\n",
    "new"
   ],
   "metadata": {
    "collapsed": false,
    "ExecuteTime": {
     "end_time": "2024-07-17T14:52:11.648787Z",
     "start_time": "2024-07-17T14:52:11.550152Z"
    }
   },
   "id": "862b7dc6746f3b3d",
   "execution_count": 336
  }
 ],
 "metadata": {
  "kernelspec": {
   "display_name": "Python 3",
   "language": "python",
   "name": "python3"
  },
  "language_info": {
   "codemirror_mode": {
    "name": "ipython",
    "version": 2
   },
   "file_extension": ".py",
   "mimetype": "text/x-python",
   "name": "python",
   "nbconvert_exporter": "python",
   "pygments_lexer": "ipython2",
   "version": "2.7.6"
  }
 },
 "nbformat": 4,
 "nbformat_minor": 5
}
