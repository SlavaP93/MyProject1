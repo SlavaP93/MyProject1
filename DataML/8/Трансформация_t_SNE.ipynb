{
 "nbformat": 4,
 "nbformat_minor": 0,
 "metadata": {
  "kernelspec": {
   "display_name": "Python 3",
   "language": "python",
   "name": "python3"
  },
  "language_info": {
   "codemirror_mode": {
    "name": "ipython",
    "version": 3
   },
   "file_extension": ".py",
   "mimetype": "text/x-python",
   "name": "python",
   "nbconvert_exporter": "python",
   "pygments_lexer": "ipython3",
   "version": "3.6.3"
  },
  "colab": {
   "provenance": []
  }
 },
 "cells": [
  {
   "cell_type": "markdown",
   "metadata": {
    "id": "5ASP__ywy9uG"
   },
   "source": [
    "# Трансформация t-SNE\n",
    "\n",
    "Есть [подробная статья на хабре](https://habr.com/ru/post/267041/).\n",
    "\n",
    "Алгоритм нужен, когда PCA плохо работает. Мы знаем, что алгоритм PCA (или SVD) хорошо сжимает данные, в которых наблюдается линейная зависимость. Но часто данные больших размерностей содержат сложные нелинейные преобразования. Давай посмотрим, как работает t-sne из коробки на датасете по сегментации клиентов из домашней работы"
   ]
  },
  {
   "cell_type": "code",
   "metadata": {
    "id": "l8azGepAy9ua",
    "outputId": "a16c196b-3713-4ded-9aae-da255aef08b3",
    "ExecuteTime": {
     "end_time": "2024-07-05T11:44:59.486289Z",
     "start_time": "2024-07-05T11:44:59.316958Z"
    }
   },
   "source": [
    "import pandas as pd\n",
    "\n",
    "df_source = pd.read_csv('client_segmentation.csv')\n",
    "X = df_source[['call_diff','sms_diff','traffic_diff']].values\n",
    "y = df_source.customes_class.values\n",
    "\n",
    "df_source.head()"
   ],
   "execution_count": 3,
   "outputs": [
    {
     "data": {
      "text/plain": "   call_diff  sms_diff  traffic_diff  customes_class\n0  -0.666421  0.444911     -0.273538             0.0\n1  -0.889273 -0.537896     -1.959469             2.0\n2  -0.841503  0.846665      0.727606             0.0\n3   1.389749  0.390911      1.789246             1.0\n4  -1.228211 -1.375899     -1.434209             2.0",
      "text/html": "<div>\n<style scoped>\n    .dataframe tbody tr th:only-of-type {\n        vertical-align: middle;\n    }\n\n    .dataframe tbody tr th {\n        vertical-align: top;\n    }\n\n    .dataframe thead th {\n        text-align: right;\n    }\n</style>\n<table border=\"1\" class=\"dataframe\">\n  <thead>\n    <tr style=\"text-align: right;\">\n      <th></th>\n      <th>call_diff</th>\n      <th>sms_diff</th>\n      <th>traffic_diff</th>\n      <th>customes_class</th>\n    </tr>\n  </thead>\n  <tbody>\n    <tr>\n      <th>0</th>\n      <td>-0.666421</td>\n      <td>0.444911</td>\n      <td>-0.273538</td>\n      <td>0.0</td>\n    </tr>\n    <tr>\n      <th>1</th>\n      <td>-0.889273</td>\n      <td>-0.537896</td>\n      <td>-1.959469</td>\n      <td>2.0</td>\n    </tr>\n    <tr>\n      <th>2</th>\n      <td>-0.841503</td>\n      <td>0.846665</td>\n      <td>0.727606</td>\n      <td>0.0</td>\n    </tr>\n    <tr>\n      <th>3</th>\n      <td>1.389749</td>\n      <td>0.390911</td>\n      <td>1.789246</td>\n      <td>1.0</td>\n    </tr>\n    <tr>\n      <th>4</th>\n      <td>-1.228211</td>\n      <td>-1.375899</td>\n      <td>-1.434209</td>\n      <td>2.0</td>\n    </tr>\n  </tbody>\n</table>\n</div>"
     },
     "execution_count": 3,
     "metadata": {},
     "output_type": "execute_result"
    }
   ]
  },
  {
   "cell_type": "markdown",
   "metadata": {
    "id": "DwwezEDQy9uw"
   },
   "source": [
    "Выполним сжатие данных, пользуясь реализацией `sklearn.manifold.TSNE`:"
   ]
  },
  {
   "cell_type": "code",
   "metadata": {
    "id": "dpTYGbXXy9uz",
    "outputId": "7093722a-3523-4ec1-8970-ffdab8101402",
    "ExecuteTime": {
     "end_time": "2024-07-05T11:51:33.595489Z",
     "start_time": "2024-07-05T11:51:30.761742Z"
    }
   },
   "source": [
    "from sklearn.manifold import TSNE\n",
    "from matplotlib import pyplot as plt\n",
    "\n",
    "tsne_transformer = TSNE(n_components=2)\n",
    "\n",
    "x_tsne = tsne_transformer.fit_transform(X)\n",
    "\n",
    "colors = ['bo', 'gx', 'ro']\n",
    "num_labels = len(colors)\n",
    "# И нарисуем получившиеся точки в нашем новом пространстве\n",
    "for name, label, color in [('class_%d' % i, i, colors[i]) for i in range(num_labels)]:\n",
    "    plt.plot(x_tsne[y == label, 0], x_tsne[y == label, 1], color, label=label)\n",
    "plt.legend(loc=0)\n"
   ],
   "execution_count": 10,
   "outputs": [
    {
     "data": {
      "text/plain": "<matplotlib.legend.Legend at 0x20ab21db810>"
     },
     "execution_count": 10,
     "metadata": {},
     "output_type": "execute_result"
    },
    {
     "data": {
      "text/plain": "<Figure size 640x480 with 1 Axes>",
      "image/png": "[encoded data removed]"
     },
     "metadata": {},
     "output_type": "display_data"
    }
   ]
  },
  {
   "cell_type": "markdown",
   "metadata": {
    "id": "K3f-qI5cy9vC"
   },
   "source": [
    "Готово! Визуально данные стали более разделимы, чем  в домашней работе про PCA, там кластеры выглядели сильнее \"перемешанными\", между ними больше пространства:\n",
    "\n",
    "![classification_dim_reduction](https://248006.selcdn.ru/public/DS.%20Block%202.%20M8/classification_dim_reduction.png)"
   ]
  }
 ]
}
