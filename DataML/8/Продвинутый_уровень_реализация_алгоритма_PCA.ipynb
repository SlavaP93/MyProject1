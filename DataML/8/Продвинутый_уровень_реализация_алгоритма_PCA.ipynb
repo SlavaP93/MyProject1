{
 "nbformat": 4,
 "nbformat_minor": 0,
 "metadata": {
  "kernelspec": {
   "display_name": "Python 3",
   "language": "python",
   "name": "python3"
  },
  "language_info": {
   "codemirror_mode": {
    "name": "ipython",
    "version": 3
   },
   "file_extension": ".py",
   "mimetype": "text/x-python",
   "name": "python",
   "nbconvert_exporter": "python",
   "pygments_lexer": "ipython3",
   "version": "3.6.3"
  },
  "colab": {
   "provenance": []
  }
 },
 "cells": [
  {
   "cell_type": "markdown",
   "metadata": {
    "id": "JbyopF3KCj2q"
   },
   "source": [
    "# Продвинутый уровень: реализация алгоритма PCA\n",
    "\n",
    "**ДИСКЛЕЙМЕР** урок содержит большое количество формул и питоновского кода, который нужен для глубокого погружения в тему. Успешно применять PCA можно и без этого урока, но если вы хотите отколоть кусок побольше от гранита науки - добро пожаловать в этот урок. Если материал покажется слишком сложным, ничего страшного - просто переходите к следующему уроку. Если захотите подготовиться к освоению этого, освежите в памяти такие термины как: ковариация, математическое ожидание, дисперсия, собственные значения и собственные вектора. Готовы? Поехали!"
   ]
  },
  {
   "cell_type": "markdown",
   "metadata": {
    "id": "FCyjVICrCj2s"
   },
   "source": [
    "Вычисление главных компонент сводится к вычислению собственных векторов и собственных значений ковариационной матрицы исходных данных. Чтобы реализовать этот алгоритм, введём понятие ковариации.\n",
    "\n",
    "Ковариация признаков $X_i$ и $X_j$:\n",
    "\n",
    "$$\n",
    "cov(X_i, X_j) = E[(X_i-\\mu_i)(X_j-\\mu_j)] = E[X_iX_j] - \\mu_i\\mu_j\n",
    "$$\n",
    "\n",
    "На диагонали этой матрицы стоят дисперсии признаков, т.к. $cov[X_iX_i] = D[X_i]$.\n",
    "\n",
    "Для экспериментов загрузим из пикла случайный датасет небольшого размера"
   ]
  },
  {
   "cell_type": "code",
   "metadata": {
    "id": "1-n1Vbj9Cj2u",
    "outputId": "45e30f74-9484-457e-a51d-50975c7cb367",
    "ExecuteTime": {
     "end_time": "2024-07-05T07:00:59.188144Z",
     "start_time": "2024-07-05T07:00:54.681646Z"
    }
   },
   "source": [
    "import numpy as np\n",
    "import matplotlib.pyplot as plt\n",
    "import pickle\n",
    "%matplotlib inline\n",
    "\n",
    "with open('eigen.pkl', 'rb') as f:\n",
    "    X = pickle.load(f)\n",
    "\n",
    "plt.plot(X[:,0], X[:,1], 'x')\n",
    "plt.axis('equal')\n",
    "plt.show()"
   ],
   "execution_count": 1,
   "outputs": [
    {
     "data": {
      "text/plain": "<Figure size 640x480 with 1 Axes>",
      "image/png": "[encoded data removed]"
     },
     "metadata": {},
     "output_type": "display_data"
    }
   ]
  },
  {
   "cell_type": "markdown",
   "metadata": {
    "id": "W3qvlYElCj25"
   },
   "source": [
    "Мы получили две фичи $x_1$ и $x_2$, которые сильно коррелируют друг с другом (потому что мы их специально сгенерировали таким образом). Объединим их в уже известную нам матрицу *объекты-признаки* наблюдений размеров $N \\times 2$.\n",
    "\n",
    "Формула ковариации подсказывает, что для упрощения вычислений данные предварительно нужно центрировать, то есть вычесть из каждого столбца матрицы наблюдений среднее. На графике видно, что данные при этом не изменили свою форму, зато немного \"съехали\" в сторону начала координат."
   ]
  },
  {
   "cell_type": "code",
   "metadata": {
    "id": "UMIHWAmkCj27",
    "outputId": "6a30fc88-241f-4430-b441-8a56798ebe41",
    "ExecuteTime": {
     "end_time": "2024-07-05T07:06:55.317859Z",
     "start_time": "2024-07-05T07:06:52.556605Z"
    }
   },
   "source": [
    "# Центрируем координаты\n",
    "mean_val = X.mean(axis=0)\n",
    "N = X.shape[0]\n",
    "X_centered = X.copy() - mean_val\n",
    "\n",
    "plt.plot(X_centered[:,0], X_centered[:,1], 'x')\n",
    "plt.axis('equal')\n",
    "plt.show()"
   ],
   "execution_count": 2,
   "outputs": [
    {
     "data": {
      "text/plain": "<Figure size 640x480 with 1 Axes>",
      "image/png": "[encoded data removed]"
     },
     "metadata": {},
     "output_type": "display_data"
    }
   ]
  },
  {
   "cell_type": "markdown",
   "metadata": {
    "id": "YlBX_VtPCj3C"
   },
   "source": [
    "Выборочная ковариация вычисляется как сумма квадратичных отклонений:\n",
    "$$\n",
    "\\left\\{\n",
    "\\begin{array}{c}\n",
    "cov(X_i, X_i) = Var(X_i) = \\frac{\\sum_{i=1}^{N}\\left(x_i - \\overline{x_i}\\right)^2}{n-1}\\\\\n",
    "cov(X_i, X_j) = \\frac{\\sum_{i=1}^{N}\\left(x_i - \\overline{x_i}\\right)\\left(x_j - \\overline{x_j}\\right)}{n-1}\n",
    "\\end{array}\n",
    "\\right.\n",
    "$$\n",
    "\n",
    "В нашем случае данные центрированы, то есть отклонение от точки совпадает с значением этой точки, то есть ковариационную матрицу можно вычислить просто с помощью матричного умножения (неплохой пример с этими формулами можно [найти тут](https://towardsdatascience.com/let-us-understand-the-correlation-matrix-and-covariance-matrix-d42e6b643c22)):"
   ]
  },
  {
   "cell_type": "code",
   "metadata": {
    "id": "dDjq41X_Cj3E",
    "outputId": "f872468d-e2af-45e0-85ca-da457aae76cf",
    "ExecuteTime": {
     "end_time": "2024-07-05T07:07:27.148563Z",
     "start_time": "2024-07-05T07:07:26.780226Z"
    }
   },
   "source": [
    "# вычисляем ковариационную матрицу \"по определению\"\n",
    "X_cov = X_centered.T.dot(\n",
    "    X_centered\n",
    ") / (N-1)\n",
    "print(\"Ковариационная матрица:\\n{}\\n\".format(\n",
    "    X_cov)\n",
    ")\n",
    "# готовая реализация из numpy\n",
    "print(\"Ковариационная матрица из numpy:\\n{}\\n\".format(\n",
    "    np.cov(X_centered, rowvar=0))\n",
    ")"
   ],
   "execution_count": 5,
   "outputs": [
    {
     "name": "stdout",
     "output_type": "stream",
     "text": [
      "Ковариационная матрица:\n",
      "[[8.85047897 6.81117445]\n",
      " [6.81117445 9.95969352]]\n",
      "\n",
      "Ковариационная матрица из numpy:\n",
      "[[8.85047897 6.81117445]\n",
      " [6.81117445 9.95969352]]\n"
     ]
    }
   ]
  },
  {
   "cell_type": "markdown",
   "metadata": {
    "id": "eUDx3K34Cj3L"
   },
   "source": [
    "Вычисленная \"по определению\" матрица ковариации совпадает с реализацией из numpy - мы на правильном пути! Кстати, можно заметить что матрица является симметричной, а так же что все её элементы - положительные числа.\n",
    "\n",
    "В линейной алгебре существует концепция \"собственных векторов\"(eigenvectors) и \"собственных чисел\"(igenvalues). Если по-простому, то у матрицы $A$ существует собственный вектор $w_i$ и собственное число $\\lambda_i$, если выполняется соотношение\n",
    "$$\n",
    "Aw_i = \\lambda_iw_i\n",
    "$$\n",
    "\n",
    "Есть несколько особенностей: СВ и СЗ существуют только у квадратных матриц, причём количество собственных значений соответствует размерности матрицы $n$.\n",
    "\n",
    "Итак, мы хотим найти такие векторы (те самые главные компоненты), при проекции (то есть умножении) на которые наши данные сохранят максимальную долю своей дисперсии. Эти векторы являются просто собственными векторами ковариационной матрицы! Мы используем это утверждение как факт, а математическим обоснованием этого факта является [соотношение Релея](https://ru.wikipedia.org/wiki/Отношение_Рэлея)\n",
    "\n",
    "В `numpy` есть функция для вычисления СВ, СЗ (которая является обёрткой над системным пакетом [LAPACK](https://ru.wikipedia.org/wiki/LAPACK ))"
   ]
  },
  {
   "cell_type": "code",
   "metadata": {
    "id": "oYqxyjh8Cj3M",
    "outputId": "28f38911-2705-4acb-e733-b327df8e263f",
    "ExecuteTime": {
     "end_time": "2024-07-05T07:08:01.984665Z",
     "start_time": "2024-07-05T07:08:01.942676Z"
    }
   },
   "source": [
    "from numpy import linalg\n",
    "\n",
    "eigenvalues, eigenvectors = linalg.eig(X_cov)\n",
    "\n",
    "print(''.join(\n",
    "    'lambda_{} ={}, w = {}\\n'.format(eig_id,eigenvalues[eig_id], eigenvectors[:,eig_id])\n",
    "    for eig_id in range(eigenvalues.size))\n",
    ")"
   ],
   "execution_count": 6,
   "outputs": [
    {
     "name": "stdout",
     "output_type": "stream",
     "text": [
      "lambda_0 =2.571369350737129, w = [-0.7352406   0.67780621]\n",
      "lambda_1 =16.238803136510406, w = [-0.67780621 -0.7352406 ]\n"
     ]
    }
   ]
  },
  {
   "cell_type": "markdown",
   "metadata": {
    "id": "_pDBiQ7hCj3T"
   },
   "source": [
    "Отобразим оба вектора на графике, ведь у matplotlib есть специальная функция для отрисовки векторных полей"
   ]
  },
  {
   "cell_type": "code",
   "metadata": {
    "id": "-nI_friGCj3U",
    "outputId": "7e31d502-8b2c-4c8f-830a-d0305244089d"
   },
   "source": [
    "origin = X_centered.mean(axis=0) # начало координат\n",
    "\n",
    "# транспонируем матрицу собственных векторов, чтобы собственный вектор соответствовал строке\n",
    "plt.quiver(*origin, *eigenvectors.T, color=['r','b','g'], scale=eigenvalues)\n",
    "plt.plot(X_centered[:,0], X_centered[:,1], 'x')"
   ],
   "execution_count": null,
   "outputs": [
    {
     "output_type": "execute_result",
     "data": {
      "text/plain": [
       "[<matplotlib.lines.Line2D at 0x7f83314c5f60>]"
      ]
     },
     "metadata": {
      "tags": []
     },
     "execution_count": 141
    },
    {
     "output_type": "display_data",
     "data": {
      "image/png": "[encoded data removed]",
      "text/plain": [
       "<Figure size 432x288 with 1 Axes>"
      ]
     },
     "metadata": {
      "tags": [],
      "needs_background": "light"
     }
    }
   ]
  },
  {
   "cell_type": "markdown",
   "metadata": {
    "id": "w62H3YbuCj3c"
   },
   "source": [
    "У нас два признака, которым  соответствуют два собственных вектора. Выберем собственный вектор, который соответствует максимальному собственному значению и умножим на него нашу матрицу наблюдений. То есть у нас были двумерные данные, а мы перешли к одномерным"
   ]
  },
  {
   "cell_type": "code",
   "metadata": {
    "id": "Y84OG0t_Cj3d",
    "outputId": "2a809a26-f5fc-4e89-f760-f5841dab2f03"
   },
   "source": [
    "# первой главной компоненте соответствует самое больше собственное значение\n",
    "max_eigenval = np.argmax(eigenvalues)\n",
    "# главная компонента, соответствующая первому собственному значению\n",
    "max_eigenvec = eigenvectors[:,max_eigenval].reshape(-1,1)\n",
    "\n",
    "# X_redused = X.dot(max_eigenvec.reshape(1,-1).T)\n",
    "X_redused = X.dot(max_eigenvec)\n",
    "\n",
    "plt.plot(X_redused, np.zeros(N), 'x')"
   ],
   "execution_count": null,
   "outputs": [
    {
     "output_type": "execute_result",
     "data": {
      "text/plain": [
       "[<matplotlib.lines.Line2D at 0x7f8331294ba8>]"
      ]
     },
     "metadata": {
      "tags": []
     },
     "execution_count": 142
    },
    {
     "output_type": "display_data",
     "data": {
      "image/png": "[encoded data removed]",
      "text/plain": [
       "<Figure size 432x288 with 1 Axes>"
      ]
     },
     "metadata": {
      "tags": [],
      "needs_background": "light"
     }
    }
   ]
  },
  {
   "cell_type": "markdown",
   "metadata": {
    "id": "ntAZ_MtvCj3l"
   },
   "source": [
    "Произведём обратное преобразование - перейдем от одномерного случая к двумерному"
   ]
  },
  {
   "cell_type": "code",
   "metadata": {
    "id": "nzeHQykdCj3n",
    "outputId": "e08e0d09-1176-494a-bcb2-55ccf5616281"
   },
   "source": [
    "X_inverse = X_redused.dot(max_eigenvec.reshape(1,-1))\n",
    "\n",
    "plt.plot(X_inverse[:,0], X_inverse[:,1], 'x')\n",
    "\n",
    "plt.show()"
   ],
   "execution_count": null,
   "outputs": [
    {
     "output_type": "display_data",
     "data": {
      "image/png": "[encoded data removed]",
      "text/plain": [
       "<Figure size 432x288 with 1 Axes>"
      ]
     },
     "metadata": {
      "tags": [],
      "needs_background": "light"
     }
    }
   ]
  },
  {
   "cell_type": "markdown",
   "metadata": {
    "id": "vWbB8-u0Cj3t"
   },
   "source": [
    "Мы спроецировали наши данные из двумерного пространства в одномерное - из плоскости на линию -  с помощью алгоритма PCA. Видно, что проекция сохраняет в каком-то виде структуру данных (сгущения данных, например, становятся более отчётливо видны).\n",
    "\n",
    "Свойства главных компонент:\n",
    "\n",
    "* каждая главная компонента имеет максимально возможную дисперсию.  Все главные компоненты пронумерованы, с ростом номера главной компоненты уменьшается и доля дисперсии, которую \"объясняет\" эта компонента\n",
    "* Корреляция между двумя любыми компонентами равна нулю (т.е. они некоррелированы)"
   ]
  },
  {
   "cell_type": "markdown",
   "metadata": {
    "id": "KSuXeDeHCj3v"
   },
   "source": [
    "В этом уроке мы:\n",
    "\n",
    "* реализовали PCA на языке Python без использования библиотечный функций, прокачав навыки программирования\n",
    "* узнали несколько математических понятий: собственные векторы, собственные значения, ковариационная матрица\n",
    "* научились визуализировать вектора главных компонент\n",
    "\n",
    "В следующем уроке мы рассмотрели ещё один метод понижения размерности, который называется SVD."
   ]
  }
 ]
}
