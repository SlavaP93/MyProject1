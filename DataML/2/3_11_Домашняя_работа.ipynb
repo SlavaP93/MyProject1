{
 "nbformat": 4,
 "nbformat_minor": 0,
 "metadata": {
  "colab": {
   "provenance": []
  },
  "kernelspec": {
   "display_name": "Python 3",
   "language": "python",
   "name": "python3"
  },
  "language_info": {
   "codemirror_mode": {
    "name": "ipython",
    "version": 3
   },
   "file_extension": ".py",
   "mimetype": "text/x-python",
   "name": "python",
   "nbconvert_exporter": "python",
   "pygments_lexer": "ipython3",
   "version": "3.6.3"
  }
 },
 "cells": [
  {
   "cell_type": "markdown",
   "metadata": {
    "id": "cisB24TazhU2"
   },
   "source": [
    "### Домашняя работа\n",
    "\n",
    "**Задание простого уровня** Мы говорили, что метрики качества нужны, чтобы сравнивать различные модели между собой. В задаче полиномиальной регрессии реализуйте код для выбора лучшей степени полиному:\n",
    "\n",
    "* возьмите все степени от 1 до 10 по порядку, без пропусков.\n",
    "* найдите степень полинома, где будет лучший r2-score\n",
    "* напишите код, который выводит самую подходящую степень полинома и соответствующий ей скор\n",
    "\n",
    "Эта процедура называется Grid Search и помогает найти лучшие параметры для модели.\n",
    "\n",
    "Обучите лучшую модель и сделайте predict"
   ]
  },
  {
   "cell_type": "code",
   "outputs": [
    {
     "data": {
      "text/plain": "    x_train   y_train\n0  0.138368  0.838812\n1  0.157237  0.889313\n2  0.188684  1.430040\n3  0.685553  1.717309\n4  0.874237  2.032588",
      "text/html": "<div>\n<style scoped>\n    .dataframe tbody tr th:only-of-type {\n        vertical-align: middle;\n    }\n\n    .dataframe tbody tr th {\n        vertical-align: top;\n    }\n\n    .dataframe thead th {\n        text-align: right;\n    }\n</style>\n<table border=\"1\" class=\"dataframe\">\n  <thead>\n    <tr style=\"text-align: right;\">\n      <th></th>\n      <th>x_train</th>\n      <th>y_train</th>\n    </tr>\n  </thead>\n  <tbody>\n    <tr>\n      <th>0</th>\n      <td>0.138368</td>\n      <td>0.838812</td>\n    </tr>\n    <tr>\n      <th>1</th>\n      <td>0.157237</td>\n      <td>0.889313</td>\n    </tr>\n    <tr>\n      <th>2</th>\n      <td>0.188684</td>\n      <td>1.430040</td>\n    </tr>\n    <tr>\n      <th>3</th>\n      <td>0.685553</td>\n      <td>1.717309</td>\n    </tr>\n    <tr>\n      <th>4</th>\n      <td>0.874237</td>\n      <td>2.032588</td>\n    </tr>\n  </tbody>\n</table>\n</div>"
     },
     "execution_count": 87,
     "metadata": {},
     "output_type": "execute_result"
    }
   ],
   "source": [
    "import pandas as pd\n",
    "import numpy as np\n",
    "import matplotlib.pyplot as plt\n",
    "\n",
    "\n",
    "data = pd.read_csv('3.10_non_linear.csv', sep=',')\n",
    "data.head()"
   ],
   "metadata": {
    "collapsed": false,
    "ExecuteTime": {
     "end_time": "2024-06-21T08:39:49.345527Z",
     "start_time": "2024-06-21T08:39:49.304826Z"
    }
   },
   "execution_count": 87
  },
  {
   "cell_type": "code",
   "outputs": [
    {
     "name": "stdout",
     "output_type": "stream",
     "text": [
      " Ошибка 1 0.5194693682784115\n",
      " Ошибка 2 0.5334743428787219\n",
      " Ошибка 3 0.8884043369162162\n",
      " Ошибка 4 0.8954938957170193\n",
      " Ошибка 5 0.8955568441439692\n",
      " Ошибка 6 0.8993403708180594\n",
      " Ошибка 7 0.9004609754024411\n",
      " Ошибка 8 0.9086556247250689\n",
      " Ошибка 9 0.9088071215143488\n",
      "[0.909] Степень  9\n",
      "[0, 0.519, 0.533, 0.888, 0.895, 0.896, 0.899, 0.9, 0.909]\n",
      "0.909\n",
      "Y_PRED 0.909\n"
     ]
    }
   ],
   "source": [
    "from sklearn.metrics import r2_score\n",
    "from sklearn.linear_model import LinearRegression\n",
    "\n",
    "def generate_degrees(data, deg):\n",
    "    \n",
    "    return np.array([\n",
    "          data**n for n in range(1, deg + 1)\n",
    "    ]).T\n",
    "\n",
    "def train_polynomial(degree, data):\n",
    "    \"\"\"Генерим данные, тренируем модель\n",
    "\n",
    "    дополнительно рисуем график\n",
    "    \"\"\"\n",
    "\n",
    "    X = generate_degrees(data['x_train'], degree)\n",
    "\n",
    "    model = LinearRegression().fit(X, data['y_train'])\n",
    "    y_pred = model.predict(X)\n",
    "\n",
    "    error = r2_score(data['y_train'], y_pred)\n",
    "    print(\" Ошибка\" ,degree, error)\n",
    "    return round(error, 3), y_pred\n",
    "    \n",
    "x = [0]   \n",
    "for i in range(1,22):\n",
    "    y, y_pred = train_polynomial(i, data)\n",
    "    try:\n",
    "        if x[-1:] < y:\n",
    "            x.append(y)\n",
    "        else:\n",
    "            print(x[-1:],'Степень ', i)\n",
    "            print(x[:])\n",
    "            print(y)\n",
    "            print('Y_PRED', y)\n",
    "            break\n",
    "            \n",
    "    except DeprecationWarning:\n",
    "        print()"
   ],
   "metadata": {
    "collapsed": false,
    "ExecuteTime": {
     "end_time": "2024-06-20T09:30:43.861376Z",
     "start_time": "2024-06-20T09:30:43.039152Z"
    }
   },
   "execution_count": 12
  },
  {
   "cell_type": "markdown",
   "metadata": {
    "id": "z3dSmlAFzhU9"
   },
   "source": [
    "**Задание среднего уровня** Напишите класс для обучения модели, который содержит:\n",
    "\n",
    "* функцию `.fit(X, y)` , которая принимает на вход массив фичей `X`, массив таргетов `y` и обучает коэффициенты регрессии. Код для обучения взять из первого урока модуля *Постановка ML задачи линейной регрессии*\n",
    "* функцию `.predict(X)`, которая по массиву фичей `X` возвращает массив предсказаний `y`\n",
    "\n",
    "Нужно использовать код для аналитически вычисляемых коэффициентов.\n",
    "\n",
    "Это задание позволит понять, как работает линейная регрессия \"внутри\" библиотечной реализации."
   ]
  },
  {
   "cell_type": "code",
   "metadata": {
    "id": "rayvZFx1zhU9",
    "ExecuteTime": {
     "end_time": "2024-06-20T12:04:52.326105Z",
     "start_time": "2024-06-20T12:04:50.580487Z"
    }
   },
   "source": [
    "from numpy.linalg import inv\n",
    "\n",
    "class CustomLinearReg:\n",
    "    def __init__(self, X=None, Y=None, w=None, b=None):\n",
    "        self.x= X\n",
    "        self.y = Y\n",
    "        self.w = w\n",
    "\n",
    "    def fit(self, X, Y):\n",
    "        x = np.array([[1,i] for i in X])\n",
    "        XT = x.transpose().dot(x)\n",
    "        XT_inv = inv(XT)\n",
    "        y = np.array([[j]for j in Y])\n",
    "        self.w = XT_inv.dot(x.T).dot(y)\n",
    "        return self.w\n",
    "\n",
    "    def predict(self, X):\n",
    "        y_pred = self.w[0][0] + self.w[1][0]*X\n",
    "        return y_pred\n",
    "    \n",
    "    \n",
    "x_hw = [50, 60, 70, 100]\n",
    "y_hw = [10, 15, 40, 45]\n",
    "\n",
    "\n",
    "reg = CustomLinearReg().fit(x_hw,y_hw)\n",
    "\n",
    "X = np.array([[1,i] for i in x_hw])\n",
    "Y = np.array([[j]for j in y_hw])\n",
    "margin = 10\n",
    "X_min = 30\n",
    "X_max = X[:,1].max()+margin\n",
    "\n",
    "# набор точек, чтобы нарисовать прямую\n",
    "X_support = np.linspace(X_min, X_max, num=100)\n",
    "# предсказания нашей модели\n",
    "Y_model = reg[0][0] + reg[1][0]*X_support\n",
    "plt.scatter(x_hw,y_hw)\n",
    "plt.xlim(X_min, X_max)\n",
    "plt.ylim(0, Y[:,0].max() + margin)\n",
    "# рисуем исходные точки\n",
    "plt.scatter(X[:,1], Y[:,0], 40, 'g', 'o', alpha=0.8)\n",
    "# предсказания модели\n",
    "plt.plot(X_support, Y_model)\n",
    "\n",
    "moc = CustomLinearReg()\n",
    "moc.fit(x_hw,y_hw)\n",
    "moc.predict(2)\n",
    "\n",
    "plt.show()"
   ],
   "execution_count": 43,
   "outputs": [
    {
     "data": {
      "text/plain": "<Figure size 640x480 with 1 Axes>",
      "image/png": "[encoded data removed]"
     },
     "metadata": {},
     "output_type": "display_data"
    }
   ]
  },
  {
   "cell_type": "code",
   "outputs": [],
   "source": [],
   "metadata": {
    "collapsed": false
   }
  },
  {
   "cell_type": "code",
   "outputs": [
    {
     "ename": "TypeError",
     "evalue": "list indices must be integers or slices, not tuple",
     "output_type": "error",
     "traceback": [
      "\u001B[1;31m---------------------------------------------------------------------------\u001B[0m",
      "\u001B[1;31mTypeError\u001B[0m                                 Traceback (most recent call last)",
      "Cell \u001B[1;32mIn[16], line 12\u001B[0m\n\u001B[0;32m     10\u001B[0m \u001B[38;5;66;03m# настройка графика\u001B[39;00m\n\u001B[0;32m     11\u001B[0m plt\u001B[38;5;241m.\u001B[39mxlim(X_min, X_max)\n\u001B[1;32m---> 12\u001B[0m plt\u001B[38;5;241m.\u001B[39mylim(\u001B[38;5;241m0\u001B[39m, y_hw[:, \u001B[38;5;241m0\u001B[39m]\u001B[38;5;241m.\u001B[39mmax() \u001B[38;5;241m+\u001B[39m margin)\n\u001B[0;32m     13\u001B[0m \u001B[38;5;66;03m# рисуем исходные точки\u001B[39;00m\n\u001B[0;32m     14\u001B[0m plt\u001B[38;5;241m.\u001B[39mscatter(X[:, \u001B[38;5;241m1\u001B[39m], y_hw[:, \u001B[38;5;241m0\u001B[39m], \u001B[38;5;241m40\u001B[39m, \u001B[38;5;124m'\u001B[39m\u001B[38;5;124mg\u001B[39m\u001B[38;5;124m'\u001B[39m, \u001B[38;5;124m'\u001B[39m\u001B[38;5;124mo\u001B[39m\u001B[38;5;124m'\u001B[39m, alpha\u001B[38;5;241m=\u001B[39m\u001B[38;5;241m0.8\u001B[39m)\n",
      "\u001B[1;31mTypeError\u001B[0m: list indices must be integers or slices, not tuple"
     ]
    },
    {
     "data": {
      "text/plain": "<Figure size 640x480 with 1 Axes>",
      "image/png": "[encoded data removed]"
     },
     "metadata": {},
     "output_type": "display_data"
    }
   ],
   "source": [],
   "metadata": {
    "collapsed": false,
    "ExecuteTime": {
     "end_time": "2024-06-20T09:35:55.593301Z",
     "start_time": "2024-06-20T09:35:52.997262Z"
    }
   },
   "execution_count": 16
  },
  {
   "cell_type": "code",
   "outputs": [
    {
     "data": {
      "text/plain": "array([[10],\n       [15],\n       [40],\n       [45]])"
     },
     "execution_count": 114,
     "metadata": {},
     "output_type": "execute_result"
    }
   ],
   "source": [],
   "metadata": {
    "collapsed": false,
    "ExecuteTime": {
     "end_time": "2024-06-19T15:03:54.492523Z",
     "start_time": "2024-06-19T15:03:54.476346Z"
    }
   },
   "execution_count": 114
  },
  {
   "cell_type": "markdown",
   "metadata": {
    "id": "uwWP7aPOzhVA"
   },
   "source": [
    "**Задание высокого уровня**\n",
    "\n",
    "1. разделите датасет с домами Бостона из Урока 2 (таргет и фичи) на две части: в одной части 80% датасета (назовём train) в другой 20% (назовём valid) с помощью функции `train_test_split` из библиотеки `sklearn`\n",
    "1. обучите модель только на train датасете\n",
    "1. постройте предсказания valid датасете\n",
    "1. Посчитайте  `r2 score` на валидационном сете\n",
    "\n",
    "После этого примените к обеим датасетам z-преобразование и повторите шаги 2-4. Как изменилась метрика r2?\n",
    "\n",
    "Это задание поможет понять, как валидировать линейную регрессию (и другие модели) на отложенной выборке."
   ]
  },
  {
   "cell_type": "code",
   "metadata": {
    "id": "f6p8B0VB5mHa",
    "ExecuteTime": {
     "end_time": "2024-06-21T08:47:32.960485Z",
     "start_time": "2024-06-21T08:47:32.843988Z"
    }
   },
   "source": [
    "from sklearn.datasets import fetch_california_housing\n",
    "from sklearn.model_selection import train_test_split\n",
    "import pandas as pd\n",
    "from sklearn.metrics import r2_score\n",
    "import numpy as np\n",
    "\n",
    "boston_dataset =  fetch_california_housing()\n",
    "x, y = pd.DataFrame(boston_dataset.data), pd.DataFrame(boston_dataset.target)\n",
    "X_train, X_valid, y_train, y_valid = train_test_split(x,y, test_size=0.2, random_state=10)\n",
    "mod = LinearRegression().fit(X_train,y_train)\n",
    "y_pred = mod.predict(X_valid)\n",
    "y_pred_train = mod.predict(X_train)\n",
    "print('Валидация %.3f'%r2_score(y_valid, y_pred))\n",
    "print('Обучающая %.3f'%r2_score(y_train, y_pred_train))"
   ],
   "execution_count": 95,
   "outputs": [
    {
     "name": "stdout",
     "output_type": "stream",
     "text": [
      "Валидация 0.601\n",
      "Обучающая 0.607\n"
     ]
    }
   ]
  },
  {
   "cell_type": "code",
   "outputs": [
    {
     "name": "stdout",
     "output_type": "stream",
     "text": [
      "Валидация -4075.206\n",
      "Обучающая 0.607\n"
     ]
    }
   ],
   "source": [
    "from sklearn.preprocessing import StandardScaler\n",
    "\n",
    "scaler = StandardScaler()\n",
    "scaler.fit(X_train)\n",
    "X_train = scaler.transform(X_train)\n",
    "X_test = scaler.transform(X_valid)\n",
    "\n",
    "mod2 = LinearRegression().fit(X_train,y_train)\n",
    "y_pred2 = mod2.predict(X_valid)\n",
    "y_pred_train2 = mod2.predict(X_train)\n",
    "print('Валидация %.3f'%r2_score(y_valid, y_pred2))\n",
    "print('Обучающая %.3f'%r2_score(y_train, y_pred_train2))"
   ],
   "metadata": {
    "collapsed": false,
    "ExecuteTime": {
     "end_time": "2024-06-21T08:47:36.402711Z",
     "start_time": "2024-06-21T08:47:36.248108Z"
    }
   },
   "execution_count": 96
  },
  {
   "cell_type": "code",
   "outputs": [],
   "source": [],
   "metadata": {
    "collapsed": false
   }
  }
 ]
}
