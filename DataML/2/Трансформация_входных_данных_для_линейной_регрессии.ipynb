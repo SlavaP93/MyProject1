{
 "nbformat": 4,
 "nbformat_minor": 0,
 "metadata": {
  "kernelspec": {
   "display_name": "Python 3",
   "language": "python",
   "name": "python3"
  },
  "language_info": {
   "codemirror_mode": {
    "name": "ipython",
    "version": 3
   },
   "file_extension": ".py",
   "mimetype": "text/x-python",
   "name": "python",
   "nbconvert_exporter": "python",
   "pygments_lexer": "ipython3",
   "version": "3.6.3"
  },
  "colab": {
   "provenance": []
  }
 },
 "cells": [
  {
   "cell_type": "markdown",
   "metadata": {
    "id": "YSamv1LE6xlh"
   },
   "source": [
    "# Трансформация входных данных для линейной регрессии\n",
    "\n",
    "В алгоритмах машинного обучения и анализа данных часто встречаются требования к входным данным\n",
    "\n",
    "* распределение данных (имеется в виду вероятностное распределение – например, гауссовское или пуассоновское)\n",
    "* масштаб данных\n",
    "\n",
    "Перед аналитиком часто стоит задача трансформации (преобразования) входных данных таким образом, чтобы удовлетворить условиям алгоритма. Игнорирование требований к входным данным приводит к некорректным выводам, это основной принцип ML (и не только ML): **garbage in - garbage out**.\n",
    "\n",
    "**Важно**: трансформации можно применять как к фичам, так и к целевым переменным"
   ]
  },
  {
   "cell_type": "markdown",
   "metadata": {
    "id": "iBHX82pG6xlj"
   },
   "source": [
    "В задачах линейной регрессии (и других линейных моделях, [например, SVM](https://ru.wikipedia.org/wiki/Метод_опорных_векторов ), о котором мы узнаем далее в курсе) такие трансформации особенно важны – чтобы линейная регрессия хорошо работала должны выполняться следующие требования:\n",
    "\n",
    "* остатки регрессии (величины $y_i-\\hat{y_i}$) должны иметь нормальное (гауссово) распределение (это можно проверить, например, построив гистограмму, как мы учились в модуле про matplotlib)\n",
    "* все фичи должны быть примерно в одном масшабе\n",
    "\n",
    "При подготовке данных для обучения линейной регрессии применяются следyющие приемы: масштабирование и нормализация.\n",
    "\n",
    "Сначала давайте проверим, как преобразование входных данных может повлиять на метрики"
   ]
  },
  {
   "cell_type": "code",
   "metadata": {
    "id": "V-KycBq76xlk",
    "outputId": "49709e49-25d8-4c25-8823-9ff392d9c6e6",
    "ExecuteTime": {
     "end_time": "2024-06-19T11:22:44.621312Z",
     "start_time": "2024-06-19T11:22:41.433712Z"
    }
   },
   "source": [
    "import numpy as np\n",
    "from matplotlib import pyplot as  plt\n",
    "\n",
    "%matplotlib inline\n",
    "\n",
    "x = np.linspace(1, 10, num=10).reshape(-1,1)\n",
    "y = [\n",
    "    1.5,\n",
    "    2.5,\n",
    "    3,\n",
    "    4.5,\n",
    "    12,\n",
    "    6.7,\n",
    "    7,\n",
    "    8.5,\n",
    "    14,\n",
    "    7\n",
    "]\n",
    "\n",
    "plt.scatter(x, y)\n",
    "plt.show()"
   ],
   "execution_count": 1,
   "outputs": [
    {
     "data": {
      "text/plain": "<Figure size 640x480 with 1 Axes>",
      "image/png": "[encoded data removed]"
     },
     "metadata": {},
     "output_type": "display_data"
    }
   ]
  },
  {
   "cell_type": "markdown",
   "metadata": {
    "id": "HwWzSRqJ6xll"
   },
   "source": [
    "Видно, что данные вроде бы линейные, но есть выбросы\n",
    "\n",
    "Обучим линейную регрессию на этом датасете и посмотрим, какой получился MSE"
   ]
  },
  {
   "cell_type": "code",
   "metadata": {
    "id": "x1eNICnb6xll",
    "outputId": "939a05a0-f2f9-4565-ea7e-cd0b450f09fd",
    "ExecuteTime": {
     "end_time": "2024-06-19T11:25:32.137607Z",
     "start_time": "2024-06-19T11:25:32.098924Z"
    }
   },
   "source": [
    "from sklearn.linear_model import LinearRegression\n",
    "from sklearn.metrics import r2_score, mean_squared_error\n",
    "\n",
    "reg = LinearRegression().fit(x, y)\n",
    "y_pred = reg.predict(x)\n",
    "\n",
    "print(mean_squared_error(y, y_pred))\n",
    "print(r2_score(y, y_pred))"
   ],
   "execution_count": 4,
   "outputs": [
    {
     "name": "stdout",
     "output_type": "stream",
     "text": [
      "7.071587878787878\n",
      "0.5221932366140851\n"
     ]
    }
   ]
  },
  {
   "cell_type": "code",
   "metadata": {
    "id": "653wPa2L6xll",
    "outputId": "d324fa76-ce81-41fd-9d4d-fcc317a637f1",
    "ExecuteTime": {
     "end_time": "2024-06-19T11:24:56.539860Z",
     "start_time": "2024-06-19T11:24:56.029742Z"
    }
   },
   "source": [
    "y_transformed = np.log(y)\n",
    "\n",
    "plt.scatter(x, y_transformed)\n",
    "plt.show()"
   ],
   "execution_count": 3,
   "outputs": [
    {
     "data": {
      "text/plain": "<Figure size 640x480 with 1 Axes>",
      "image/png": "[encoded data removed]"
     },
     "metadata": {},
     "output_type": "display_data"
    }
   ]
  },
  {
   "cell_type": "markdown",
   "metadata": {
    "id": "BKlJSHjW6xlm"
   },
   "source": [
    "Мы применили трансформацию нашей целевой переменной - число визуально кажется, будто точки стали плотнее друг к другу, логарифмирование сгладило выбросы. Давайте проверим нашу интуицию по изменению метрики."
   ]
  },
  {
   "cell_type": "code",
   "metadata": {
    "id": "pEhZ21Gw6xln",
    "outputId": "64dad5e8-49ae-44ca-b785-9769ab702d7c",
    "ExecuteTime": {
     "end_time": "2024-06-19T11:43:14.969159Z",
     "start_time": "2024-06-19T11:43:14.952151Z"
    }
   },
   "source": [
    "reg = LinearRegression().fit(x, y_transformed)\n",
    "\n",
    "y_pred = reg.predict(x)\n",
    "\n",
    "print(mean_squared_error(y_transformed, y_pred))\n",
    "print(r2_score(y_transformed, y_pred))"
   ],
   "execution_count": 7,
   "outputs": [
    {
     "name": "stdout",
     "output_type": "stream",
     "text": [
      "0.14648845203903693\n",
      "0.6775796066529154\n"
     ]
    }
   ]
  },
  {
   "cell_type": "markdown",
   "metadata": {
    "id": "95Sm4Rx-6xln"
   },
   "source": [
    "Это чисто инженерные приёмы первичной обработки данных, для борьбы с большими по модулю значениями, которые являются выбросами обычно используют\n",
    "\n",
    "* логарифмирование np.log\n",
    "* извлечение квадратного корня np.sqrt\n",
    "\n",
    "Оба этих преобразования являются *монотонными*, т.е. они меняют абсолютные значения, но сохраняют порядок величин. Пример немонотонного преобразования для  величины $x$ – функция $\\sin x$"
   ]
  },
  {
   "cell_type": "markdown",
   "metadata": {
    "id": "iYzp04rF6xlo"
   },
   "source": [
    "### z-score\n",
    "\n",
    "Более интересный метод - это Standart Scaling или Z-score normalization. Это преобразование позволяет \"сгладить\" данные, избавить их от выбросов. Для этого инструмента [есть реализация в sklearn](https://scikit-learn.org/stable/modules/generated/sklearn.preprocessing.StandardScaler.html)"
   ]
  },
  {
   "cell_type": "code",
   "metadata": {
    "id": "457qCgjz6xlo",
    "outputId": "10c43459-1d79-415a-ac0d-f72726b2bf5d",
    "ExecuteTime": {
     "end_time": "2024-06-19T11:47:48.184040Z",
     "start_time": "2024-06-19T11:47:48.164814Z"
    }
   },
   "source": [
    "import numpy as np\n",
    "import pandas as pd\n",
    "from sklearn.preprocessing import StandardScaler\n",
    "\n",
    "raw_data = np.array([\n",
    "    1.,  3.,  2.,  4.,  2., 10.,  2.,  5.,  2.,  2.,  1.,  7.,  5.,  2.,  5., 16., 10.,  3.,24.],\n",
    "    dtype=np.float32\n",
    ")\n",
    "\n",
    "print(\"Сырой датасет: %s\" % raw_data)\n",
    "\n",
    "transformed_data = StandardScaler().fit_transform(raw_data.reshape(-1, 1)).reshape(-1)\n",
    "print(\"z-transform датасет: %s\" % transformed_data)"
   ],
   "execution_count": 11,
   "outputs": [
    {
     "name": "stdout",
     "output_type": "stream",
     "text": [
      "Сырой датасет: [ 1.  3.  2.  4.  2. 10.  2.  5.  2.  2.  1.  7.  5.  2.  5. 16. 10.  3.\n",
      " 24.]\n",
      "z-transform датасет: [-0.7986022  -0.4497874  -0.6241948  -0.27538007 -0.6241948   0.7710641\n",
      " -0.6241948  -0.10097269 -0.6241948  -0.6241948  -0.7986022   0.24784204\n",
      " -0.10097269 -0.6241948  -0.10097269  1.8175085   0.7710641  -0.4497874\n",
      "  3.2127674 ]\n"
     ]
    }
   ]
  },
  {
   "cell_type": "code",
   "outputs": [],
   "source": [],
   "metadata": {
    "collapsed": false
   }
  },
  {
   "cell_type": "markdown",
   "metadata": {
    "id": "z4hh_huj6xlo"
   },
   "source": [
    "Мы видим, что в результате $z$-трансформации данные сместились в сторону нуля (появились как отрицательные значения, так и положительные) а так же уменьшился масштаб – данные похожи на нормальное (гауссовское) распределение)"
   ]
  },
  {
   "cell_type": "markdown",
   "metadata": {
    "id": "JTfe3_V06xlo"
   },
   "source": [
    "### min-max normalization\n",
    "\n",
    "Другой распространённый метод называется MinMax Scaling. Этот метод переносит все точки на отрезок [0;1]\n",
    "$$\n",
    "X_{scaled} = \\frac{X - X_{\\min}}{X_{\\max} - X_{\\min}}\n",
    "$$"
   ]
  },
  {
   "cell_type": "code",
   "metadata": {
    "id": "K2Ad2_MW6xlo",
    "outputId": "509ab8a2-4b40-4734-b904-e20866553a80",
    "ExecuteTime": {
     "end_time": "2024-06-19T11:57:29.032214Z",
     "start_time": "2024-06-19T11:57:29.016187Z"
    }
   },
   "source": [
    "from sklearn.preprocessing import MinMaxScaler\n",
    "\n",
    "\n",
    "print(\"Сырой датасет: %s\" % raw_data)\n",
    "\n",
    "transformed_data = MinMaxScaler().fit_transform(raw_data.reshape(-1, 1)).reshape(-1)\n",
    "\n",
    "print(\"Min-Max scale датасет: %s\" % transformed_data)"
   ],
   "execution_count": 13,
   "outputs": [
    {
     "name": "stdout",
     "output_type": "stream",
     "text": [
      "Сырой датасет: [ 1.  3.  2.  4.  2. 10.  2.  5.  2.  2.  1.  7.  5.  2.  5. 16. 10.  3.\n",
      " 24.]\n",
      "Min-Max scale датасет: [0.         0.08695652 0.04347826 0.13043478 0.04347826 0.39130437\n",
      " 0.04347826 0.17391305 0.04347826 0.04347826 0.         0.2608696\n",
      " 0.17391305 0.04347826 0.17391305 0.65217394 0.39130437 0.08695652\n",
      " 1.        ]\n"
     ]
    }
   ]
  },
  {
   "cell_type": "markdown",
   "metadata": {
    "id": "-kuXb7Gg6xlp"
   },
   "source": [
    "Эта трансформация оцень полезна для визуализации данных – позволяет \"ужать\" точки в единичный отрезок и компактно отобразить их на графике. Полезна тем, что сохраняет относительные расстояния между точками (т.е. структуру датасета)"
   ]
  },
  {
   "cell_type": "markdown",
   "metadata": {
    "id": "9q-KS64U6xlp"
   },
   "source": [
    "Как применять эти знания на практике? Используйте следующий алгоритм:\n",
    "\n",
    "* построить модель\n",
    "* вычислить метрику качества\n",
    "* выполнить преобразования\n",
    "* снова вычислить метрику качества\n",
    "* если метрика качества выросла, применить найденную трансформацию ко входным данным перед тем, как подавать на вход модели"
   ]
  }
 ]
}
